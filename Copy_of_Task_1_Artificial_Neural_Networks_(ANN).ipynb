{
  "cells": [
    {
      "cell_type": "markdown",
      "metadata": {
        "id": "view-in-github",
        "colab_type": "text"
      },
      "source": [
        "<a href=\"https://colab.research.google.com/github/Abyy98/Week5T/blob/main/Copy_of_Task_1_Artificial_Neural_Networks_(ANN).ipynb\" target=\"_parent\"><img src=\"https://colab.research.google.com/assets/colab-badge.svg\" alt=\"Open In Colab\"/></a>"
      ]
    },
    {
      "cell_type": "markdown",
      "id": "cda1ba95",
      "metadata": {
        "id": "cda1ba95"
      },
      "source": [
        "# Exam on Artificial Neural Networks (ANN)\n",
        "\n",
        "Welcome the Artificial Neural Networks (ANN) practical exam. In this exam, you will work on a classification task to predict the outcome of incidents involving buses. You are provided with a dataset that records breakdowns and delays in bus operations. Your task is to build, train, and evaluate an ANN model.\n",
        "\n",
        "---\n",
        "\n",
        "## Dataset Overview\n",
        "\n",
        "### **Dataset:**\n",
        "* Just run the command under the `Load Data` section to get the data downloaded and unzipped or you can access it [here](https://drive.google.com/file/d/1Flvj3qDkV2rPw7GGi5zOR-WGJgEBtRk-/view?usp=sharing)\n",
        "\n",
        "### **Dataset Name:** Bus Breakdown and Delays\n",
        "\n",
        "### **Description:**  \n",
        "The dataset contains records of incidents involving buses that were either running late or experienced a breakdown. Your task is to predict whether the bus was delayed or had a breakdown based on the features provided.\n",
        "\n",
        "### **Features:**\n",
        "The dataset contains the following columns:\n",
        "\n",
        "- `School_Year`\n",
        "- `Busbreakdown_ID`\n",
        "- `Run_Type`\n",
        "- `Bus_No`\n",
        "- `Route_Number`\n",
        "- `Reason`\n",
        "- `Schools_Serviced`\n",
        "- `Occurred_On`\n",
        "- `Created_On`\n",
        "- `Boro`\n",
        "- `Bus_Company_Name`\n",
        "- `How_Long_Delayed`\n",
        "- `Number_Of_Students_On_The_Bus`\n",
        "- `Has_Contractor_Notified_Schools`\n",
        "- `Has_Contractor_Notified_Parents`\n",
        "- `Have_You_Alerted_OPT`\n",
        "- `Informed_On`\n",
        "- `Incident_Number`\n",
        "- `Last_Updated_On`\n",
        "- `Breakdown_or_Running_Late` (Target Column)\n",
        "- `School_Age_or_PreK`"
      ]
    },
    {
      "cell_type": "markdown",
      "id": "4c2b014b",
      "metadata": {
        "id": "4c2b014b"
      },
      "source": [
        "## Load Data"
      ]
    },
    {
      "cell_type": "code",
      "execution_count": 12,
      "id": "98ad02f5",
      "metadata": {
        "colab": {
          "base_uri": "https://localhost:8080/"
        },
        "id": "98ad02f5",
        "outputId": "e239b602-bff5-4c08-9261-46e4872e2b55"
      },
      "outputs": [
        {
          "output_type": "stream",
          "name": "stdout",
          "text": [
            "Requirement already satisfied: gdown in /usr/local/lib/python3.10/dist-packages (5.1.0)\n",
            "Requirement already satisfied: beautifulsoup4 in /usr/local/lib/python3.10/dist-packages (from gdown) (4.12.3)\n",
            "Requirement already satisfied: filelock in /usr/local/lib/python3.10/dist-packages (from gdown) (3.15.4)\n",
            "Requirement already satisfied: requests[socks] in /usr/local/lib/python3.10/dist-packages (from gdown) (2.32.3)\n",
            "Requirement already satisfied: tqdm in /usr/local/lib/python3.10/dist-packages (from gdown) (4.66.5)\n",
            "Requirement already satisfied: soupsieve>1.2 in /usr/local/lib/python3.10/dist-packages (from beautifulsoup4->gdown) (2.5)\n",
            "Requirement already satisfied: charset-normalizer<4,>=2 in /usr/local/lib/python3.10/dist-packages (from requests[socks]->gdown) (3.3.2)\n",
            "Requirement already satisfied: idna<4,>=2.5 in /usr/local/lib/python3.10/dist-packages (from requests[socks]->gdown) (3.7)\n",
            "Requirement already satisfied: urllib3<3,>=1.21.1 in /usr/local/lib/python3.10/dist-packages (from requests[socks]->gdown) (2.0.7)\n",
            "Requirement already satisfied: certifi>=2017.4.17 in /usr/local/lib/python3.10/dist-packages (from requests[socks]->gdown) (2024.7.4)\n",
            "Requirement already satisfied: PySocks!=1.5.7,>=1.5.6 in /usr/local/lib/python3.10/dist-packages (from requests[socks]->gdown) (1.7.1)\n",
            "/usr/local/lib/python3.10/dist-packages/gdown/__main__.py:132: FutureWarning: Option `--id` was deprecated in version 4.3.1 and will be removed in 5.0. You don't need to pass it anymore to use a file ID.\n",
            "  warnings.warn(\n",
            "Failed to retrieve file url:\n",
            "\n",
            "\tToo many users have viewed or downloaded this file recently. Please\n",
            "\ttry accessing the file again later. If the file you are trying to\n",
            "\taccess is particularly large or is shared with many people, it may\n",
            "\ttake up to 24 hours to be able to view or download the file. If you\n",
            "\tstill can't access a file after 24 hours, contact your domain\n",
            "\tadministrator.\n",
            "\n",
            "You may still be able to access the file from the browser:\n",
            "\n",
            "\thttps://drive.google.com/uc?id=1Flvj3qDkV2rPw7GGi5zOR-WGJgEBtRk-\n",
            "\n",
            "but Gdown can't. Please check connections and permissions.\n"
          ]
        }
      ],
      "source": [
        "#https://drive.google.com/file/d/1Flvj3qDkV2rPw7GGi5zOR-WGJgEBtRk-/view?usp=sharing\n",
        "!pip install gdown\n",
        "!gdown --id 1Flvj3qDkV2rPw7GGi5zOR-WGJgEBtRk-"
      ]
    },
    {
      "cell_type": "markdown",
      "id": "3e39620c",
      "metadata": {
        "id": "3e39620c"
      },
      "source": [
        "## Importing Libraries"
      ]
    },
    {
      "cell_type": "code",
      "execution_count": 13,
      "id": "62381953",
      "metadata": {
        "colab": {
          "base_uri": "https://localhost:8080/"
        },
        "id": "62381953",
        "outputId": "f5f3de95-e800-41b7-fd32-8f93a57e99b2"
      },
      "outputs": [
        {
          "output_type": "stream",
          "name": "stdout",
          "text": [
            "Requirement already satisfied: skimpy in /usr/local/lib/python3.10/dist-packages (0.0.15)\n",
            "Requirement already satisfied: Pygments<3.0.0,>=2.10.0 in /usr/local/lib/python3.10/dist-packages (from skimpy) (2.16.1)\n",
            "Requirement already satisfied: click<9.0.0,>=8.1.6 in /usr/local/lib/python3.10/dist-packages (from skimpy) (8.1.7)\n",
            "Requirement already satisfied: ipykernel<7.0.0,>=6.7.0 in /usr/local/lib/python3.10/dist-packages (from skimpy) (6.29.5)\n",
            "Requirement already satisfied: numpy<2.0.0,>=1.22.2 in /usr/local/lib/python3.10/dist-packages (from skimpy) (1.26.4)\n",
            "Requirement already satisfied: pandas<3.0.0,>=2.0.3 in /usr/local/lib/python3.10/dist-packages (from skimpy) (2.1.4)\n",
            "Requirement already satisfied: polars<0.21,>=0.19 in /usr/local/lib/python3.10/dist-packages (from skimpy) (0.20.2)\n",
            "Requirement already satisfied: pyarrow<17,>=13 in /usr/local/lib/python3.10/dist-packages (from skimpy) (14.0.2)\n",
            "Requirement already satisfied: rich<14.0,>=10.9 in /usr/local/lib/python3.10/dist-packages (from skimpy) (13.7.1)\n",
            "Requirement already satisfied: typeguard==4.2.1 in /usr/local/lib/python3.10/dist-packages (from skimpy) (4.2.1)\n",
            "Requirement already satisfied: typing-extensions>=4.10.0 in /usr/local/lib/python3.10/dist-packages (from typeguard==4.2.1->skimpy) (4.12.2)\n",
            "Requirement already satisfied: comm>=0.1.1 in /usr/local/lib/python3.10/dist-packages (from ipykernel<7.0.0,>=6.7.0->skimpy) (0.2.2)\n",
            "Requirement already satisfied: debugpy>=1.6.5 in /usr/local/lib/python3.10/dist-packages (from ipykernel<7.0.0,>=6.7.0->skimpy) (1.6.6)\n",
            "Requirement already satisfied: ipython>=7.23.1 in /usr/local/lib/python3.10/dist-packages (from ipykernel<7.0.0,>=6.7.0->skimpy) (7.34.0)\n",
            "Requirement already satisfied: jupyter-client>=6.1.12 in /usr/local/lib/python3.10/dist-packages (from ipykernel<7.0.0,>=6.7.0->skimpy) (6.1.12)\n",
            "Requirement already satisfied: jupyter-core!=5.0.*,>=4.12 in /usr/local/lib/python3.10/dist-packages (from ipykernel<7.0.0,>=6.7.0->skimpy) (5.7.2)\n",
            "Requirement already satisfied: matplotlib-inline>=0.1 in /usr/local/lib/python3.10/dist-packages (from ipykernel<7.0.0,>=6.7.0->skimpy) (0.1.7)\n",
            "Requirement already satisfied: nest-asyncio in /usr/local/lib/python3.10/dist-packages (from ipykernel<7.0.0,>=6.7.0->skimpy) (1.6.0)\n",
            "Requirement already satisfied: packaging in /usr/local/lib/python3.10/dist-packages (from ipykernel<7.0.0,>=6.7.0->skimpy) (24.1)\n",
            "Requirement already satisfied: psutil in /usr/local/lib/python3.10/dist-packages (from ipykernel<7.0.0,>=6.7.0->skimpy) (5.9.5)\n",
            "Requirement already satisfied: pyzmq>=24 in /usr/local/lib/python3.10/dist-packages (from ipykernel<7.0.0,>=6.7.0->skimpy) (24.0.1)\n",
            "Requirement already satisfied: tornado>=6.1 in /usr/local/lib/python3.10/dist-packages (from ipykernel<7.0.0,>=6.7.0->skimpy) (6.3.3)\n",
            "Requirement already satisfied: traitlets>=5.4.0 in /usr/local/lib/python3.10/dist-packages (from ipykernel<7.0.0,>=6.7.0->skimpy) (5.7.1)\n",
            "Requirement already satisfied: python-dateutil>=2.8.2 in /usr/local/lib/python3.10/dist-packages (from pandas<3.0.0,>=2.0.3->skimpy) (2.8.2)\n",
            "Requirement already satisfied: pytz>=2020.1 in /usr/local/lib/python3.10/dist-packages (from pandas<3.0.0,>=2.0.3->skimpy) (2024.1)\n",
            "Requirement already satisfied: tzdata>=2022.1 in /usr/local/lib/python3.10/dist-packages (from pandas<3.0.0,>=2.0.3->skimpy) (2024.1)\n",
            "Requirement already satisfied: markdown-it-py>=2.2.0 in /usr/local/lib/python3.10/dist-packages (from rich<14.0,>=10.9->skimpy) (3.0.0)\n",
            "Requirement already satisfied: setuptools>=18.5 in /usr/local/lib/python3.10/dist-packages (from ipython>=7.23.1->ipykernel<7.0.0,>=6.7.0->skimpy) (71.0.4)\n",
            "Requirement already satisfied: jedi>=0.16 in /usr/local/lib/python3.10/dist-packages (from ipython>=7.23.1->ipykernel<7.0.0,>=6.7.0->skimpy) (0.19.1)\n",
            "Requirement already satisfied: decorator in /usr/local/lib/python3.10/dist-packages (from ipython>=7.23.1->ipykernel<7.0.0,>=6.7.0->skimpy) (4.4.2)\n",
            "Requirement already satisfied: pickleshare in /usr/local/lib/python3.10/dist-packages (from ipython>=7.23.1->ipykernel<7.0.0,>=6.7.0->skimpy) (0.7.5)\n",
            "Requirement already satisfied: prompt-toolkit!=3.0.0,!=3.0.1,<3.1.0,>=2.0.0 in /usr/local/lib/python3.10/dist-packages (from ipython>=7.23.1->ipykernel<7.0.0,>=6.7.0->skimpy) (3.0.47)\n",
            "Requirement already satisfied: backcall in /usr/local/lib/python3.10/dist-packages (from ipython>=7.23.1->ipykernel<7.0.0,>=6.7.0->skimpy) (0.2.0)\n",
            "Requirement already satisfied: pexpect>4.3 in /usr/local/lib/python3.10/dist-packages (from ipython>=7.23.1->ipykernel<7.0.0,>=6.7.0->skimpy) (4.9.0)\n",
            "Requirement already satisfied: platformdirs>=2.5 in /usr/local/lib/python3.10/dist-packages (from jupyter-core!=5.0.*,>=4.12->ipykernel<7.0.0,>=6.7.0->skimpy) (4.2.2)\n",
            "Requirement already satisfied: mdurl~=0.1 in /usr/local/lib/python3.10/dist-packages (from markdown-it-py>=2.2.0->rich<14.0,>=10.9->skimpy) (0.1.2)\n",
            "Requirement already satisfied: six>=1.5 in /usr/local/lib/python3.10/dist-packages (from python-dateutil>=2.8.2->pandas<3.0.0,>=2.0.3->skimpy) (1.16.0)\n",
            "Requirement already satisfied: parso<0.9.0,>=0.8.3 in /usr/local/lib/python3.10/dist-packages (from jedi>=0.16->ipython>=7.23.1->ipykernel<7.0.0,>=6.7.0->skimpy) (0.8.4)\n",
            "Requirement already satisfied: ptyprocess>=0.5 in /usr/local/lib/python3.10/dist-packages (from pexpect>4.3->ipython>=7.23.1->ipykernel<7.0.0,>=6.7.0->skimpy) (0.7.0)\n",
            "Requirement already satisfied: wcwidth in /usr/local/lib/python3.10/dist-packages (from prompt-toolkit!=3.0.0,!=3.0.1,<3.1.0,>=2.0.0->ipython>=7.23.1->ipykernel<7.0.0,>=6.7.0->skimpy) (0.2.13)\n"
          ]
        }
      ],
      "source": [
        "import pandas as pd\n",
        "import numpy as np\n",
        "import matplotlib.pyplot as plt\n",
        "import seaborn as sns\n",
        "import tensorflow as tf\n",
        "from tensorflow.keras.models import Sequential\n",
        "from tensorflow.keras.layers import Dense\n",
        "!pip install skimpy\n",
        "import skimpy as skim"
      ]
    },
    {
      "cell_type": "markdown",
      "id": "71ccd4e2",
      "metadata": {
        "id": "71ccd4e2"
      },
      "source": [
        "## Exploratory Data Analysis (EDA)\n",
        "This could include:\n",
        "* **Inspect the dataset**\n",
        "\n",
        "* **Dataset structure**\n",
        "\n",
        "* **Summary statistics**\n",
        "\n",
        "* **Check for missing values**\n",
        "\n",
        "* **Distribution of features**\n",
        "\n",
        "* **Categorical feature analysis**\n",
        "\n",
        "* **Correlation matrix**\n",
        "\n",
        "* **Outlier detection**\n",
        "\n",
        "And add more as needed!"
      ]
    },
    {
      "cell_type": "code",
      "execution_count": 15,
      "id": "0b800b0c",
      "metadata": {
        "colab": {
          "base_uri": "https://localhost:8080/"
        },
        "id": "0b800b0c",
        "outputId": "8d892eec-d578-4272-c035-1601eca3dca0"
      },
      "outputs": [
        {
          "output_type": "stream",
          "name": "stdout",
          "text": [
            "  School_Year  Busbreakdown_ID  Run_Type Bus_No Route_Number         Reason  \\\n",
            "0   2015-2016          1224901  Pre-K/EI    811            1          Other   \n",
            "1   2015-2016          1225098  Pre-K/EI   9302            1  Heavy Traffic   \n",
            "2   2015-2016          1215800  Pre-K/EI    358            2  Heavy Traffic   \n",
            "3   2015-2016          1215511  Pre-K/EI    331            2          Other   \n",
            "4   2015-2016          1215828  Pre-K/EI    332            2          Other   \n",
            "\n",
            "  Schools_Serviced             Occurred_On              Created_On   Boro  \\\n",
            "0             C353  10/26/2015 08:30:00 AM  10/26/2015 08:40:00 AM  Bronx   \n",
            "1             C814  10/27/2015 07:10:00 AM  10/27/2015 07:11:00 AM  Bronx   \n",
            "2             C195  09/18/2015 07:36:00 AM  09/18/2015 07:38:00 AM  Bronx   \n",
            "3             C178  09/17/2015 08:08:00 AM  09/17/2015 08:12:00 AM  Bronx   \n",
            "4             S176  09/18/2015 07:39:00 AM  09/18/2015 07:45:00 AM  Bronx   \n",
            "\n",
            "   ... How_Long_Delayed Number_Of_Students_On_The_Bus  \\\n",
            "0  ...        10MINUTES                           5.0   \n",
            "1  ...       25 MINUTES                           3.0   \n",
            "2  ...       15 MINUTES                          12.0   \n",
            "3  ...       10 minutes                          11.0   \n",
            "4  ...        10MINUTES                          12.0   \n",
            "\n",
            "   Has_Contractor_Notified_Schools Has_Contractor_Notified_Parents  \\\n",
            "0                              Yes                             Yes   \n",
            "1                              Yes                             Yes   \n",
            "2                              Yes                             Yes   \n",
            "3                              Yes                             Yes   \n",
            "4                              Yes                             Yes   \n",
            "\n",
            "  Have_You_Alerted_OPT             Informed_On Incident_Number  \\\n",
            "0                   No  10/26/2015 08:40:00 AM             NaN   \n",
            "1                   No  10/27/2015 07:11:00 AM             NaN   \n",
            "2                  Yes  09/18/2015 07:38:00 AM             NaN   \n",
            "3                  Yes  09/17/2015 08:12:00 AM             NaN   \n",
            "4                   No  09/18/2015 07:45:00 AM             NaN   \n",
            "\n",
            "          Last_Updated_On Breakdown_or_Running_Late School_Age_or_PreK  \n",
            "0  10/26/2015 08:40:39 AM              Running Late              Pre-K  \n",
            "1  10/27/2015 07:11:22 AM              Running Late              Pre-K  \n",
            "2  09/18/2015 07:38:44 AM              Running Late              Pre-K  \n",
            "3  09/17/2015 08:12:08 AM              Running Late              Pre-K  \n",
            "4  09/18/2015 07:56:40 AM              Running Late              Pre-K  \n",
            "\n",
            "[5 rows x 21 columns]\n"
          ]
        }
      ],
      "source": [
        "df = pd.read_csv('/content/Bus_Breakdown_and_Delays.csv.crdownload')\n",
        "print(df.head())"
      ]
    },
    {
      "cell_type": "code",
      "source": [
        "df.isnull().sum()"
      ],
      "metadata": {
        "colab": {
          "base_uri": "https://localhost:8080/",
          "height": 743
        },
        "id": "N2ioAOSRCrt3",
        "outputId": "afb7acfd-5037-49d3-bf15-5baae713e5a5"
      },
      "id": "N2ioAOSRCrt3",
      "execution_count": 16,
      "outputs": [
        {
          "output_type": "execute_result",
          "data": {
            "text/plain": [
              "School_Year                            0\n",
              "Busbreakdown_ID                        0\n",
              "Run_Type                               7\n",
              "Bus_No                                 0\n",
              "Route_Number                          12\n",
              "Reason                                17\n",
              "Schools_Serviced                       0\n",
              "Occurred_On                            0\n",
              "Created_On                             1\n",
              "Boro                                 627\n",
              "Bus_Company_Name                       1\n",
              "How_Long_Delayed                    2876\n",
              "Number_Of_Students_On_The_Bus          1\n",
              "Has_Contractor_Notified_Schools        1\n",
              "Has_Contractor_Notified_Parents        1\n",
              "Have_You_Alerted_OPT                   1\n",
              "Informed_On                            1\n",
              "Incident_Number                    18060\n",
              "Last_Updated_On                        1\n",
              "Breakdown_or_Running_Late              1\n",
              "School_Age_or_PreK                     1\n",
              "dtype: int64"
            ],
            "text/html": [
              "<div>\n",
              "<style scoped>\n",
              "    .dataframe tbody tr th:only-of-type {\n",
              "        vertical-align: middle;\n",
              "    }\n",
              "\n",
              "    .dataframe tbody tr th {\n",
              "        vertical-align: top;\n",
              "    }\n",
              "\n",
              "    .dataframe thead th {\n",
              "        text-align: right;\n",
              "    }\n",
              "</style>\n",
              "<table border=\"1\" class=\"dataframe\">\n",
              "  <thead>\n",
              "    <tr style=\"text-align: right;\">\n",
              "      <th></th>\n",
              "      <th>0</th>\n",
              "    </tr>\n",
              "  </thead>\n",
              "  <tbody>\n",
              "    <tr>\n",
              "      <th>School_Year</th>\n",
              "      <td>0</td>\n",
              "    </tr>\n",
              "    <tr>\n",
              "      <th>Busbreakdown_ID</th>\n",
              "      <td>0</td>\n",
              "    </tr>\n",
              "    <tr>\n",
              "      <th>Run_Type</th>\n",
              "      <td>7</td>\n",
              "    </tr>\n",
              "    <tr>\n",
              "      <th>Bus_No</th>\n",
              "      <td>0</td>\n",
              "    </tr>\n",
              "    <tr>\n",
              "      <th>Route_Number</th>\n",
              "      <td>12</td>\n",
              "    </tr>\n",
              "    <tr>\n",
              "      <th>Reason</th>\n",
              "      <td>17</td>\n",
              "    </tr>\n",
              "    <tr>\n",
              "      <th>Schools_Serviced</th>\n",
              "      <td>0</td>\n",
              "    </tr>\n",
              "    <tr>\n",
              "      <th>Occurred_On</th>\n",
              "      <td>0</td>\n",
              "    </tr>\n",
              "    <tr>\n",
              "      <th>Created_On</th>\n",
              "      <td>1</td>\n",
              "    </tr>\n",
              "    <tr>\n",
              "      <th>Boro</th>\n",
              "      <td>627</td>\n",
              "    </tr>\n",
              "    <tr>\n",
              "      <th>Bus_Company_Name</th>\n",
              "      <td>1</td>\n",
              "    </tr>\n",
              "    <tr>\n",
              "      <th>How_Long_Delayed</th>\n",
              "      <td>2876</td>\n",
              "    </tr>\n",
              "    <tr>\n",
              "      <th>Number_Of_Students_On_The_Bus</th>\n",
              "      <td>1</td>\n",
              "    </tr>\n",
              "    <tr>\n",
              "      <th>Has_Contractor_Notified_Schools</th>\n",
              "      <td>1</td>\n",
              "    </tr>\n",
              "    <tr>\n",
              "      <th>Has_Contractor_Notified_Parents</th>\n",
              "      <td>1</td>\n",
              "    </tr>\n",
              "    <tr>\n",
              "      <th>Have_You_Alerted_OPT</th>\n",
              "      <td>1</td>\n",
              "    </tr>\n",
              "    <tr>\n",
              "      <th>Informed_On</th>\n",
              "      <td>1</td>\n",
              "    </tr>\n",
              "    <tr>\n",
              "      <th>Incident_Number</th>\n",
              "      <td>18060</td>\n",
              "    </tr>\n",
              "    <tr>\n",
              "      <th>Last_Updated_On</th>\n",
              "      <td>1</td>\n",
              "    </tr>\n",
              "    <tr>\n",
              "      <th>Breakdown_or_Running_Late</th>\n",
              "      <td>1</td>\n",
              "    </tr>\n",
              "    <tr>\n",
              "      <th>School_Age_or_PreK</th>\n",
              "      <td>1</td>\n",
              "    </tr>\n",
              "  </tbody>\n",
              "</table>\n",
              "</div><br><label><b>dtype:</b> int64</label>"
            ]
          },
          "metadata": {},
          "execution_count": 16
        }
      ]
    },
    {
      "cell_type": "markdown",
      "source": [
        "**have** **missing** **value**"
      ],
      "metadata": {
        "id": "mxVJGNdkc2gM"
      },
      "id": "mxVJGNdkc2gM"
    },
    {
      "cell_type": "code",
      "source": [
        "most_common = df['Route_Number'].mode()[0]\n",
        "df['Route_Number'] = df['Route_Number'].fillna(most_common)"
      ],
      "metadata": {
        "id": "GlS5HPy5BxOe"
      },
      "id": "GlS5HPy5BxOe",
      "execution_count": 17,
      "outputs": []
    },
    {
      "cell_type": "code",
      "source": [
        "most_common = df['Run_Type'].mode()[0]\n",
        "df['Run_Type'] = df['Run_Type'].fillna(most_common)"
      ],
      "metadata": {
        "id": "Tjmnhy1IBjns"
      },
      "id": "Tjmnhy1IBjns",
      "execution_count": 18,
      "outputs": []
    },
    {
      "cell_type": "code",
      "source": [
        "most_common = df['Reason'].mode()[0]\n",
        "df['Reason'] = df['Reason'].fillna(most_common)"
      ],
      "metadata": {
        "id": "QtdjKLV9C0Nf"
      },
      "id": "QtdjKLV9C0Nf",
      "execution_count": 19,
      "outputs": []
    },
    {
      "cell_type": "code",
      "source": [
        "most_common = df['Boro'].mode()[0]\n",
        "df['Boro'] = df['Boro'].fillna(most_common)"
      ],
      "metadata": {
        "id": "7u5qw2LdDB_2"
      },
      "id": "7u5qw2LdDB_2",
      "execution_count": 20,
      "outputs": []
    },
    {
      "cell_type": "code",
      "source": [
        "most_common = df['How_Long_Delayed'].mode()[0]\n",
        "df['How_Long_Delayed'] = df['How_Long_Delayed'].fillna(most_common)\n",
        "most_common"
      ],
      "metadata": {
        "colab": {
          "base_uri": "https://localhost:8080/",
          "height": 35
        },
        "id": "08HFyNWDDJQi",
        "outputId": "4929d338-34e3-4833-ef4e-a7a513a86f1d"
      },
      "id": "08HFyNWDDJQi",
      "execution_count": 21,
      "outputs": [
        {
          "output_type": "execute_result",
          "data": {
            "text/plain": [
              "'20'"
            ],
            "application/vnd.google.colaboratory.intrinsic+json": {
              "type": "string"
            }
          },
          "metadata": {},
          "execution_count": 21
        }
      ]
    },
    {
      "cell_type": "code",
      "source": [
        "\n",
        "most_common = df['Number_Of_Students_On_The_Bus'].mode()[0]\n",
        "df['Number_Of_Students_On_The_Bus'] = df['Number_Of_Students_On_The_Bus'].fillna(most_common)\n",
        "most_common"
      ],
      "metadata": {
        "colab": {
          "base_uri": "https://localhost:8080/"
        },
        "id": "BuBLdKowYH5S",
        "outputId": "d0ca75f9-b088-4bc1-a489-c13a59ae9cb6"
      },
      "id": "BuBLdKowYH5S",
      "execution_count": 32,
      "outputs": [
        {
          "output_type": "execute_result",
          "data": {
            "text/plain": [
              "0.0"
            ]
          },
          "metadata": {},
          "execution_count": 32
        }
      ]
    },
    {
      "cell_type": "code",
      "source": [
        "most_common = df['Incident_Number'].mode()[0]\n",
        "df['Incident_Number'] = df['Incident_Number'].fillna(most_common)\n",
        "most_common"
      ],
      "metadata": {
        "colab": {
          "base_uri": "https://localhost:8080/",
          "height": 35
        },
        "id": "z9_Qa02aDfTy",
        "outputId": "33c7d18b-4fe0-4ef2-c170-791c2d58dc6d"
      },
      "id": "z9_Qa02aDfTy",
      "execution_count": 22,
      "outputs": [
        {
          "output_type": "execute_result",
          "data": {
            "text/plain": [
              "'2792058'"
            ],
            "application/vnd.google.colaboratory.intrinsic+json": {
              "type": "string"
            }
          },
          "metadata": {},
          "execution_count": 22
        }
      ]
    },
    {
      "cell_type": "markdown",
      "source": [
        "**fillin missing value using mode**"
      ],
      "metadata": {
        "id": "7p4sk2nEc-Xe"
      },
      "id": "7p4sk2nEc-Xe"
    },
    {
      "cell_type": "code",
      "source": [
        "print(df.describe())"
      ],
      "metadata": {
        "colab": {
          "base_uri": "https://localhost:8080/"
        },
        "id": "K8ZIVCVCBV_O",
        "outputId": "c57bc372-7926-4042-ae01-91449f65120c"
      },
      "id": "K8ZIVCVCBV_O",
      "execution_count": 23,
      "outputs": [
        {
          "output_type": "stream",
          "name": "stdout",
          "text": [
            "       Busbreakdown_ID  Number_Of_Students_On_The_Bus\n",
            "count     1.812600e+04                   18125.000000\n",
            "mean      1.226201e+06                       4.600055\n",
            "std       1.023320e+04                      43.507729\n",
            "min       1.212691e+06                       0.000000\n",
            "25%       1.217399e+06                       0.000000\n",
            "50%       1.227528e+06                       2.000000\n",
            "75%       1.232617e+06                       5.000000\n",
            "max       1.361694e+06                    1749.000000\n"
          ]
        }
      ]
    },
    {
      "cell_type": "code",
      "source": [
        "print(df.info())"
      ],
      "metadata": {
        "colab": {
          "base_uri": "https://localhost:8080/"
        },
        "id": "ACUI91j97JUn",
        "outputId": "773179e1-23be-4820-bddc-7125254f4d6a"
      },
      "id": "ACUI91j97JUn",
      "execution_count": 24,
      "outputs": [
        {
          "output_type": "stream",
          "name": "stdout",
          "text": [
            "<class 'pandas.core.frame.DataFrame'>\n",
            "RangeIndex: 18126 entries, 0 to 18125\n",
            "Data columns (total 21 columns):\n",
            " #   Column                           Non-Null Count  Dtype  \n",
            "---  ------                           --------------  -----  \n",
            " 0   School_Year                      18126 non-null  object \n",
            " 1   Busbreakdown_ID                  18126 non-null  int64  \n",
            " 2   Run_Type                         18126 non-null  object \n",
            " 3   Bus_No                           18126 non-null  object \n",
            " 4   Route_Number                     18126 non-null  object \n",
            " 5   Reason                           18126 non-null  object \n",
            " 6   Schools_Serviced                 18126 non-null  object \n",
            " 7   Occurred_On                      18126 non-null  object \n",
            " 8   Created_On                       18125 non-null  object \n",
            " 9   Boro                             18126 non-null  object \n",
            " 10  Bus_Company_Name                 18125 non-null  object \n",
            " 11  How_Long_Delayed                 18126 non-null  object \n",
            " 12  Number_Of_Students_On_The_Bus    18125 non-null  float64\n",
            " 13  Has_Contractor_Notified_Schools  18125 non-null  object \n",
            " 14  Has_Contractor_Notified_Parents  18125 non-null  object \n",
            " 15  Have_You_Alerted_OPT             18125 non-null  object \n",
            " 16  Informed_On                      18125 non-null  object \n",
            " 17  Incident_Number                  18126 non-null  object \n",
            " 18  Last_Updated_On                  18125 non-null  object \n",
            " 19  Breakdown_or_Running_Late        18125 non-null  object \n",
            " 20  School_Age_or_PreK               18125 non-null  object \n",
            "dtypes: float64(1), int64(1), object(19)\n",
            "memory usage: 2.9+ MB\n",
            "None\n"
          ]
        }
      ]
    },
    {
      "cell_type": "markdown",
      "source": [
        " **most convert to numrical value to run model**"
      ],
      "metadata": {
        "id": "0xeae1_ZdJNQ"
      },
      "id": "0xeae1_ZdJNQ"
    },
    {
      "cell_type": "code",
      "source": [
        "print(df.describe())"
      ],
      "metadata": {
        "colab": {
          "base_uri": "https://localhost:8080/"
        },
        "id": "ACJ0jAFw7Vdd",
        "outputId": "52631558-18eb-44ba-d651-c123e57404b2"
      },
      "id": "ACJ0jAFw7Vdd",
      "execution_count": null,
      "outputs": [
        {
          "output_type": "stream",
          "name": "stdout",
          "text": [
            "       Busbreakdown_ID  Number_Of_Students_On_The_Bus\n",
            "count     1.479720e+05                  147972.000000\n",
            "mean      1.287779e+06                       3.590071\n",
            "std       4.324338e+04                      55.365859\n",
            "min       1.212681e+06                       0.000000\n",
            "25%       1.250438e+06                       0.000000\n",
            "50%       1.287844e+06                       0.000000\n",
            "75%       1.325191e+06                       4.000000\n",
            "max       1.362605e+06                    9007.000000\n"
          ]
        }
      ]
    },
    {
      "cell_type": "markdown",
      "source": [
        "After clean data from missing value\n",
        "fillin data by mode > the missing value can aple with it"
      ],
      "metadata": {
        "id": "ThmoRHLTEt0C"
      },
      "id": "ThmoRHLTEt0C"
    },
    {
      "cell_type": "code",
      "source": [
        "df"
      ],
      "metadata": {
        "colab": {
          "base_uri": "https://localhost:8080/",
          "height": 791
        },
        "id": "nESBVc_i9B7V",
        "outputId": "1d43d442-abd7-42e8-e80b-a49e3a328aa5"
      },
      "id": "nESBVc_i9B7V",
      "execution_count": null,
      "outputs": [
        {
          "output_type": "execute_result",
          "data": {
            "text/plain": [
              "       School_Year  Busbreakdown_ID             Run_Type  Bus_No Route_Number  \\\n",
              "0        2015-2016          1224901             Pre-K/EI     811            1   \n",
              "1        2015-2016          1225098             Pre-K/EI    9302            1   \n",
              "2        2015-2016          1215800             Pre-K/EI     358            2   \n",
              "3        2015-2016          1215511             Pre-K/EI     331            2   \n",
              "4        2015-2016          1215828             Pre-K/EI     332            2   \n",
              "...            ...              ...                  ...     ...          ...   \n",
              "147967   2016-2017          1338452             Pre-K/EI    9345            2   \n",
              "147968   2016-2017          1341521             Pre-K/EI    0001            5   \n",
              "147969   2016-2017          1353044    Special Ed PM Run  GC0112         X928   \n",
              "147970   2016-2017          1353045    Special Ed PM Run   5525D         Q920   \n",
              "147971   2016-2017          1353046  Project Read PM Run    2530         K617   \n",
              "\n",
              "               Reason Schools_Serviced             Occurred_On  \\\n",
              "0               Other             C353  10/26/2015 08:30:00 AM   \n",
              "1       Heavy Traffic             C814  10/27/2015 07:10:00 AM   \n",
              "2       Heavy Traffic             C195  09/18/2015 07:36:00 AM   \n",
              "3               Other             C178  09/17/2015 08:08:00 AM   \n",
              "4               Other             S176  09/18/2015 07:39:00 AM   \n",
              "...               ...              ...                     ...   \n",
              "147967  Heavy Traffic             C530  04/05/2017 08:00:00 AM   \n",
              "147968  Heavy Traffic             C579  04/24/2017 07:42:00 AM   \n",
              "147969  Heavy Traffic            09003  05/25/2017 04:22:00 PM   \n",
              "147970    Won`t Start            24457  05/25/2017 04:27:00 PM   \n",
              "147971          Other            21436  05/25/2017 04:36:00 PM   \n",
              "\n",
              "                    Created_On      Boro  ... How_Long_Delayed  \\\n",
              "0       10/26/2015 08:40:00 AM     Bronx  ...        10MINUTES   \n",
              "1       10/27/2015 07:11:00 AM     Bronx  ...       25 MINUTES   \n",
              "2       09/18/2015 07:38:00 AM     Bronx  ...       15 MINUTES   \n",
              "3       09/17/2015 08:12:00 AM     Bronx  ...       10 minutes   \n",
              "4       09/18/2015 07:45:00 AM     Bronx  ...        10MINUTES   \n",
              "...                        ...       ...  ...              ...   \n",
              "147967  04/05/2017 08:10:00 AM     Bronx  ...            15-20   \n",
              "147968  04/24/2017 07:44:00 AM     Bronx  ...          20 MINS   \n",
              "147969  05/25/2017 04:28:00 PM     Bronx  ...        20-25MINS   \n",
              "147970  05/25/2017 04:30:00 PM    Queens  ...          20 MINS   \n",
              "147971  05/25/2017 04:37:00 PM  Brooklyn  ...            45min   \n",
              "\n",
              "       Number_Of_Students_On_The_Bus  Has_Contractor_Notified_Schools  \\\n",
              "0                                  5                              Yes   \n",
              "1                                  3                              Yes   \n",
              "2                                 12                              Yes   \n",
              "3                                 11                              Yes   \n",
              "4                                 12                              Yes   \n",
              "...                              ...                              ...   \n",
              "147967                             7                              Yes   \n",
              "147968                             0                              Yes   \n",
              "147969                             0                              Yes   \n",
              "147970                             0                              Yes   \n",
              "147971                             7                              Yes   \n",
              "\n",
              "       Has_Contractor_Notified_Parents Have_You_Alerted_OPT  \\\n",
              "0                                  Yes                   No   \n",
              "1                                  Yes                   No   \n",
              "2                                  Yes                  Yes   \n",
              "3                                  Yes                  Yes   \n",
              "4                                  Yes                   No   \n",
              "...                                ...                  ...   \n",
              "147967                             Yes                   No   \n",
              "147968                             Yes                   No   \n",
              "147969                             Yes                  Yes   \n",
              "147970                             Yes                   No   \n",
              "147971                             Yes                  Yes   \n",
              "\n",
              "                   Informed_On Incident_Number         Last_Updated_On  \\\n",
              "0       10/26/2015 08:40:00 AM               x  10/26/2015 08:40:39 AM   \n",
              "1       10/27/2015 07:11:00 AM               x  10/27/2015 07:11:22 AM   \n",
              "2       09/18/2015 07:38:00 AM               x  09/18/2015 07:38:44 AM   \n",
              "3       09/17/2015 08:12:00 AM               x  09/17/2015 08:12:08 AM   \n",
              "4       09/18/2015 07:45:00 AM               x  09/18/2015 07:56:40 AM   \n",
              "...                        ...             ...                     ...   \n",
              "147967  04/05/2017 08:10:00 AM               x  04/05/2017 08:10:15 AM   \n",
              "147968  04/24/2017 07:44:00 AM               x  04/24/2017 07:44:15 AM   \n",
              "147969  05/25/2017 04:28:00 PM        90323827  05/25/2017 04:34:36 PM   \n",
              "147970  05/25/2017 04:30:00 PM               x  05/25/2017 04:30:07 PM   \n",
              "147971  05/25/2017 04:37:00 PM               x  05/25/2017 04:37:37 PM   \n",
              "\n",
              "       Breakdown_or_Running_Late School_Age_or_PreK  \n",
              "0                   Running Late              Pre-K  \n",
              "1                   Running Late              Pre-K  \n",
              "2                   Running Late              Pre-K  \n",
              "3                   Running Late              Pre-K  \n",
              "4                   Running Late              Pre-K  \n",
              "...                          ...                ...  \n",
              "147967              Running Late              Pre-K  \n",
              "147968              Running Late              Pre-K  \n",
              "147969              Running Late         School-Age  \n",
              "147970                 Breakdown         School-Age  \n",
              "147971              Running Late         School-Age  \n",
              "\n",
              "[147972 rows x 21 columns]"
            ],
            "text/html": [
              "\n",
              "  <div id=\"df-2a7cdc33-e854-41a3-b2fe-c7b394a3335c\" class=\"colab-df-container\">\n",
              "    <div>\n",
              "<style scoped>\n",
              "    .dataframe tbody tr th:only-of-type {\n",
              "        vertical-align: middle;\n",
              "    }\n",
              "\n",
              "    .dataframe tbody tr th {\n",
              "        vertical-align: top;\n",
              "    }\n",
              "\n",
              "    .dataframe thead th {\n",
              "        text-align: right;\n",
              "    }\n",
              "</style>\n",
              "<table border=\"1\" class=\"dataframe\">\n",
              "  <thead>\n",
              "    <tr style=\"text-align: right;\">\n",
              "      <th></th>\n",
              "      <th>School_Year</th>\n",
              "      <th>Busbreakdown_ID</th>\n",
              "      <th>Run_Type</th>\n",
              "      <th>Bus_No</th>\n",
              "      <th>Route_Number</th>\n",
              "      <th>Reason</th>\n",
              "      <th>Schools_Serviced</th>\n",
              "      <th>Occurred_On</th>\n",
              "      <th>Created_On</th>\n",
              "      <th>Boro</th>\n",
              "      <th>...</th>\n",
              "      <th>How_Long_Delayed</th>\n",
              "      <th>Number_Of_Students_On_The_Bus</th>\n",
              "      <th>Has_Contractor_Notified_Schools</th>\n",
              "      <th>Has_Contractor_Notified_Parents</th>\n",
              "      <th>Have_You_Alerted_OPT</th>\n",
              "      <th>Informed_On</th>\n",
              "      <th>Incident_Number</th>\n",
              "      <th>Last_Updated_On</th>\n",
              "      <th>Breakdown_or_Running_Late</th>\n",
              "      <th>School_Age_or_PreK</th>\n",
              "    </tr>\n",
              "  </thead>\n",
              "  <tbody>\n",
              "    <tr>\n",
              "      <th>0</th>\n",
              "      <td>2015-2016</td>\n",
              "      <td>1224901</td>\n",
              "      <td>Pre-K/EI</td>\n",
              "      <td>811</td>\n",
              "      <td>1</td>\n",
              "      <td>Other</td>\n",
              "      <td>C353</td>\n",
              "      <td>10/26/2015 08:30:00 AM</td>\n",
              "      <td>10/26/2015 08:40:00 AM</td>\n",
              "      <td>Bronx</td>\n",
              "      <td>...</td>\n",
              "      <td>10MINUTES</td>\n",
              "      <td>5</td>\n",
              "      <td>Yes</td>\n",
              "      <td>Yes</td>\n",
              "      <td>No</td>\n",
              "      <td>10/26/2015 08:40:00 AM</td>\n",
              "      <td>x</td>\n",
              "      <td>10/26/2015 08:40:39 AM</td>\n",
              "      <td>Running Late</td>\n",
              "      <td>Pre-K</td>\n",
              "    </tr>\n",
              "    <tr>\n",
              "      <th>1</th>\n",
              "      <td>2015-2016</td>\n",
              "      <td>1225098</td>\n",
              "      <td>Pre-K/EI</td>\n",
              "      <td>9302</td>\n",
              "      <td>1</td>\n",
              "      <td>Heavy Traffic</td>\n",
              "      <td>C814</td>\n",
              "      <td>10/27/2015 07:10:00 AM</td>\n",
              "      <td>10/27/2015 07:11:00 AM</td>\n",
              "      <td>Bronx</td>\n",
              "      <td>...</td>\n",
              "      <td>25 MINUTES</td>\n",
              "      <td>3</td>\n",
              "      <td>Yes</td>\n",
              "      <td>Yes</td>\n",
              "      <td>No</td>\n",
              "      <td>10/27/2015 07:11:00 AM</td>\n",
              "      <td>x</td>\n",
              "      <td>10/27/2015 07:11:22 AM</td>\n",
              "      <td>Running Late</td>\n",
              "      <td>Pre-K</td>\n",
              "    </tr>\n",
              "    <tr>\n",
              "      <th>2</th>\n",
              "      <td>2015-2016</td>\n",
              "      <td>1215800</td>\n",
              "      <td>Pre-K/EI</td>\n",
              "      <td>358</td>\n",
              "      <td>2</td>\n",
              "      <td>Heavy Traffic</td>\n",
              "      <td>C195</td>\n",
              "      <td>09/18/2015 07:36:00 AM</td>\n",
              "      <td>09/18/2015 07:38:00 AM</td>\n",
              "      <td>Bronx</td>\n",
              "      <td>...</td>\n",
              "      <td>15 MINUTES</td>\n",
              "      <td>12</td>\n",
              "      <td>Yes</td>\n",
              "      <td>Yes</td>\n",
              "      <td>Yes</td>\n",
              "      <td>09/18/2015 07:38:00 AM</td>\n",
              "      <td>x</td>\n",
              "      <td>09/18/2015 07:38:44 AM</td>\n",
              "      <td>Running Late</td>\n",
              "      <td>Pre-K</td>\n",
              "    </tr>\n",
              "    <tr>\n",
              "      <th>3</th>\n",
              "      <td>2015-2016</td>\n",
              "      <td>1215511</td>\n",
              "      <td>Pre-K/EI</td>\n",
              "      <td>331</td>\n",
              "      <td>2</td>\n",
              "      <td>Other</td>\n",
              "      <td>C178</td>\n",
              "      <td>09/17/2015 08:08:00 AM</td>\n",
              "      <td>09/17/2015 08:12:00 AM</td>\n",
              "      <td>Bronx</td>\n",
              "      <td>...</td>\n",
              "      <td>10 minutes</td>\n",
              "      <td>11</td>\n",
              "      <td>Yes</td>\n",
              "      <td>Yes</td>\n",
              "      <td>Yes</td>\n",
              "      <td>09/17/2015 08:12:00 AM</td>\n",
              "      <td>x</td>\n",
              "      <td>09/17/2015 08:12:08 AM</td>\n",
              "      <td>Running Late</td>\n",
              "      <td>Pre-K</td>\n",
              "    </tr>\n",
              "    <tr>\n",
              "      <th>4</th>\n",
              "      <td>2015-2016</td>\n",
              "      <td>1215828</td>\n",
              "      <td>Pre-K/EI</td>\n",
              "      <td>332</td>\n",
              "      <td>2</td>\n",
              "      <td>Other</td>\n",
              "      <td>S176</td>\n",
              "      <td>09/18/2015 07:39:00 AM</td>\n",
              "      <td>09/18/2015 07:45:00 AM</td>\n",
              "      <td>Bronx</td>\n",
              "      <td>...</td>\n",
              "      <td>10MINUTES</td>\n",
              "      <td>12</td>\n",
              "      <td>Yes</td>\n",
              "      <td>Yes</td>\n",
              "      <td>No</td>\n",
              "      <td>09/18/2015 07:45:00 AM</td>\n",
              "      <td>x</td>\n",
              "      <td>09/18/2015 07:56:40 AM</td>\n",
              "      <td>Running Late</td>\n",
              "      <td>Pre-K</td>\n",
              "    </tr>\n",
              "    <tr>\n",
              "      <th>...</th>\n",
              "      <td>...</td>\n",
              "      <td>...</td>\n",
              "      <td>...</td>\n",
              "      <td>...</td>\n",
              "      <td>...</td>\n",
              "      <td>...</td>\n",
              "      <td>...</td>\n",
              "      <td>...</td>\n",
              "      <td>...</td>\n",
              "      <td>...</td>\n",
              "      <td>...</td>\n",
              "      <td>...</td>\n",
              "      <td>...</td>\n",
              "      <td>...</td>\n",
              "      <td>...</td>\n",
              "      <td>...</td>\n",
              "      <td>...</td>\n",
              "      <td>...</td>\n",
              "      <td>...</td>\n",
              "      <td>...</td>\n",
              "      <td>...</td>\n",
              "    </tr>\n",
              "    <tr>\n",
              "      <th>147967</th>\n",
              "      <td>2016-2017</td>\n",
              "      <td>1338452</td>\n",
              "      <td>Pre-K/EI</td>\n",
              "      <td>9345</td>\n",
              "      <td>2</td>\n",
              "      <td>Heavy Traffic</td>\n",
              "      <td>C530</td>\n",
              "      <td>04/05/2017 08:00:00 AM</td>\n",
              "      <td>04/05/2017 08:10:00 AM</td>\n",
              "      <td>Bronx</td>\n",
              "      <td>...</td>\n",
              "      <td>15-20</td>\n",
              "      <td>7</td>\n",
              "      <td>Yes</td>\n",
              "      <td>Yes</td>\n",
              "      <td>No</td>\n",
              "      <td>04/05/2017 08:10:00 AM</td>\n",
              "      <td>x</td>\n",
              "      <td>04/05/2017 08:10:15 AM</td>\n",
              "      <td>Running Late</td>\n",
              "      <td>Pre-K</td>\n",
              "    </tr>\n",
              "    <tr>\n",
              "      <th>147968</th>\n",
              "      <td>2016-2017</td>\n",
              "      <td>1341521</td>\n",
              "      <td>Pre-K/EI</td>\n",
              "      <td>0001</td>\n",
              "      <td>5</td>\n",
              "      <td>Heavy Traffic</td>\n",
              "      <td>C579</td>\n",
              "      <td>04/24/2017 07:42:00 AM</td>\n",
              "      <td>04/24/2017 07:44:00 AM</td>\n",
              "      <td>Bronx</td>\n",
              "      <td>...</td>\n",
              "      <td>20 MINS</td>\n",
              "      <td>0</td>\n",
              "      <td>Yes</td>\n",
              "      <td>Yes</td>\n",
              "      <td>No</td>\n",
              "      <td>04/24/2017 07:44:00 AM</td>\n",
              "      <td>x</td>\n",
              "      <td>04/24/2017 07:44:15 AM</td>\n",
              "      <td>Running Late</td>\n",
              "      <td>Pre-K</td>\n",
              "    </tr>\n",
              "    <tr>\n",
              "      <th>147969</th>\n",
              "      <td>2016-2017</td>\n",
              "      <td>1353044</td>\n",
              "      <td>Special Ed PM Run</td>\n",
              "      <td>GC0112</td>\n",
              "      <td>X928</td>\n",
              "      <td>Heavy Traffic</td>\n",
              "      <td>09003</td>\n",
              "      <td>05/25/2017 04:22:00 PM</td>\n",
              "      <td>05/25/2017 04:28:00 PM</td>\n",
              "      <td>Bronx</td>\n",
              "      <td>...</td>\n",
              "      <td>20-25MINS</td>\n",
              "      <td>0</td>\n",
              "      <td>Yes</td>\n",
              "      <td>Yes</td>\n",
              "      <td>Yes</td>\n",
              "      <td>05/25/2017 04:28:00 PM</td>\n",
              "      <td>90323827</td>\n",
              "      <td>05/25/2017 04:34:36 PM</td>\n",
              "      <td>Running Late</td>\n",
              "      <td>School-Age</td>\n",
              "    </tr>\n",
              "    <tr>\n",
              "      <th>147970</th>\n",
              "      <td>2016-2017</td>\n",
              "      <td>1353045</td>\n",
              "      <td>Special Ed PM Run</td>\n",
              "      <td>5525D</td>\n",
              "      <td>Q920</td>\n",
              "      <td>Won`t Start</td>\n",
              "      <td>24457</td>\n",
              "      <td>05/25/2017 04:27:00 PM</td>\n",
              "      <td>05/25/2017 04:30:00 PM</td>\n",
              "      <td>Queens</td>\n",
              "      <td>...</td>\n",
              "      <td>20 MINS</td>\n",
              "      <td>0</td>\n",
              "      <td>Yes</td>\n",
              "      <td>Yes</td>\n",
              "      <td>No</td>\n",
              "      <td>05/25/2017 04:30:00 PM</td>\n",
              "      <td>x</td>\n",
              "      <td>05/25/2017 04:30:07 PM</td>\n",
              "      <td>Breakdown</td>\n",
              "      <td>School-Age</td>\n",
              "    </tr>\n",
              "    <tr>\n",
              "      <th>147971</th>\n",
              "      <td>2016-2017</td>\n",
              "      <td>1353046</td>\n",
              "      <td>Project Read PM Run</td>\n",
              "      <td>2530</td>\n",
              "      <td>K617</td>\n",
              "      <td>Other</td>\n",
              "      <td>21436</td>\n",
              "      <td>05/25/2017 04:36:00 PM</td>\n",
              "      <td>05/25/2017 04:37:00 PM</td>\n",
              "      <td>Brooklyn</td>\n",
              "      <td>...</td>\n",
              "      <td>45min</td>\n",
              "      <td>7</td>\n",
              "      <td>Yes</td>\n",
              "      <td>Yes</td>\n",
              "      <td>Yes</td>\n",
              "      <td>05/25/2017 04:37:00 PM</td>\n",
              "      <td>x</td>\n",
              "      <td>05/25/2017 04:37:37 PM</td>\n",
              "      <td>Running Late</td>\n",
              "      <td>School-Age</td>\n",
              "    </tr>\n",
              "  </tbody>\n",
              "</table>\n",
              "<p>147972 rows × 21 columns</p>\n",
              "</div>\n",
              "    <div class=\"colab-df-buttons\">\n",
              "\n",
              "  <div class=\"colab-df-container\">\n",
              "    <button class=\"colab-df-convert\" onclick=\"convertToInteractive('df-2a7cdc33-e854-41a3-b2fe-c7b394a3335c')\"\n",
              "            title=\"Convert this dataframe to an interactive table.\"\n",
              "            style=\"display:none;\">\n",
              "\n",
              "  <svg xmlns=\"http://www.w3.org/2000/svg\" height=\"24px\" viewBox=\"0 -960 960 960\">\n",
              "    <path d=\"M120-120v-720h720v720H120Zm60-500h600v-160H180v160Zm220 220h160v-160H400v160Zm0 220h160v-160H400v160ZM180-400h160v-160H180v160Zm440 0h160v-160H620v160ZM180-180h160v-160H180v160Zm440 0h160v-160H620v160Z\"/>\n",
              "  </svg>\n",
              "    </button>\n",
              "\n",
              "  <style>\n",
              "    .colab-df-container {\n",
              "      display:flex;\n",
              "      gap: 12px;\n",
              "    }\n",
              "\n",
              "    .colab-df-convert {\n",
              "      background-color: #E8F0FE;\n",
              "      border: none;\n",
              "      border-radius: 50%;\n",
              "      cursor: pointer;\n",
              "      display: none;\n",
              "      fill: #1967D2;\n",
              "      height: 32px;\n",
              "      padding: 0 0 0 0;\n",
              "      width: 32px;\n",
              "    }\n",
              "\n",
              "    .colab-df-convert:hover {\n",
              "      background-color: #E2EBFA;\n",
              "      box-shadow: 0px 1px 2px rgba(60, 64, 67, 0.3), 0px 1px 3px 1px rgba(60, 64, 67, 0.15);\n",
              "      fill: #174EA6;\n",
              "    }\n",
              "\n",
              "    .colab-df-buttons div {\n",
              "      margin-bottom: 4px;\n",
              "    }\n",
              "\n",
              "    [theme=dark] .colab-df-convert {\n",
              "      background-color: #3B4455;\n",
              "      fill: #D2E3FC;\n",
              "    }\n",
              "\n",
              "    [theme=dark] .colab-df-convert:hover {\n",
              "      background-color: #434B5C;\n",
              "      box-shadow: 0px 1px 3px 1px rgba(0, 0, 0, 0.15);\n",
              "      filter: drop-shadow(0px 1px 2px rgba(0, 0, 0, 0.3));\n",
              "      fill: #FFFFFF;\n",
              "    }\n",
              "  </style>\n",
              "\n",
              "    <script>\n",
              "      const buttonEl =\n",
              "        document.querySelector('#df-2a7cdc33-e854-41a3-b2fe-c7b394a3335c button.colab-df-convert');\n",
              "      buttonEl.style.display =\n",
              "        google.colab.kernel.accessAllowed ? 'block' : 'none';\n",
              "\n",
              "      async function convertToInteractive(key) {\n",
              "        const element = document.querySelector('#df-2a7cdc33-e854-41a3-b2fe-c7b394a3335c');\n",
              "        const dataTable =\n",
              "          await google.colab.kernel.invokeFunction('convertToInteractive',\n",
              "                                                    [key], {});\n",
              "        if (!dataTable) return;\n",
              "\n",
              "        const docLinkHtml = 'Like what you see? Visit the ' +\n",
              "          '<a target=\"_blank\" href=https://colab.research.google.com/notebooks/data_table.ipynb>data table notebook</a>'\n",
              "          + ' to learn more about interactive tables.';\n",
              "        element.innerHTML = '';\n",
              "        dataTable['output_type'] = 'display_data';\n",
              "        await google.colab.output.renderOutput(dataTable, element);\n",
              "        const docLink = document.createElement('div');\n",
              "        docLink.innerHTML = docLinkHtml;\n",
              "        element.appendChild(docLink);\n",
              "      }\n",
              "    </script>\n",
              "  </div>\n",
              "\n",
              "\n",
              "<div id=\"df-fd4c3525-c3b3-497f-8474-a1f69c5c85c9\">\n",
              "  <button class=\"colab-df-quickchart\" onclick=\"quickchart('df-fd4c3525-c3b3-497f-8474-a1f69c5c85c9')\"\n",
              "            title=\"Suggest charts\"\n",
              "            style=\"display:none;\">\n",
              "\n",
              "<svg xmlns=\"http://www.w3.org/2000/svg\" height=\"24px\"viewBox=\"0 0 24 24\"\n",
              "     width=\"24px\">\n",
              "    <g>\n",
              "        <path d=\"M19 3H5c-1.1 0-2 .9-2 2v14c0 1.1.9 2 2 2h14c1.1 0 2-.9 2-2V5c0-1.1-.9-2-2-2zM9 17H7v-7h2v7zm4 0h-2V7h2v10zm4 0h-2v-4h2v4z\"/>\n",
              "    </g>\n",
              "</svg>\n",
              "  </button>\n",
              "\n",
              "<style>\n",
              "  .colab-df-quickchart {\n",
              "      --bg-color: #E8F0FE;\n",
              "      --fill-color: #1967D2;\n",
              "      --hover-bg-color: #E2EBFA;\n",
              "      --hover-fill-color: #174EA6;\n",
              "      --disabled-fill-color: #AAA;\n",
              "      --disabled-bg-color: #DDD;\n",
              "  }\n",
              "\n",
              "  [theme=dark] .colab-df-quickchart {\n",
              "      --bg-color: #3B4455;\n",
              "      --fill-color: #D2E3FC;\n",
              "      --hover-bg-color: #434B5C;\n",
              "      --hover-fill-color: #FFFFFF;\n",
              "      --disabled-bg-color: #3B4455;\n",
              "      --disabled-fill-color: #666;\n",
              "  }\n",
              "\n",
              "  .colab-df-quickchart {\n",
              "    background-color: var(--bg-color);\n",
              "    border: none;\n",
              "    border-radius: 50%;\n",
              "    cursor: pointer;\n",
              "    display: none;\n",
              "    fill: var(--fill-color);\n",
              "    height: 32px;\n",
              "    padding: 0;\n",
              "    width: 32px;\n",
              "  }\n",
              "\n",
              "  .colab-df-quickchart:hover {\n",
              "    background-color: var(--hover-bg-color);\n",
              "    box-shadow: 0 1px 2px rgba(60, 64, 67, 0.3), 0 1px 3px 1px rgba(60, 64, 67, 0.15);\n",
              "    fill: var(--button-hover-fill-color);\n",
              "  }\n",
              "\n",
              "  .colab-df-quickchart-complete:disabled,\n",
              "  .colab-df-quickchart-complete:disabled:hover {\n",
              "    background-color: var(--disabled-bg-color);\n",
              "    fill: var(--disabled-fill-color);\n",
              "    box-shadow: none;\n",
              "  }\n",
              "\n",
              "  .colab-df-spinner {\n",
              "    border: 2px solid var(--fill-color);\n",
              "    border-color: transparent;\n",
              "    border-bottom-color: var(--fill-color);\n",
              "    animation:\n",
              "      spin 1s steps(1) infinite;\n",
              "  }\n",
              "\n",
              "  @keyframes spin {\n",
              "    0% {\n",
              "      border-color: transparent;\n",
              "      border-bottom-color: var(--fill-color);\n",
              "      border-left-color: var(--fill-color);\n",
              "    }\n",
              "    20% {\n",
              "      border-color: transparent;\n",
              "      border-left-color: var(--fill-color);\n",
              "      border-top-color: var(--fill-color);\n",
              "    }\n",
              "    30% {\n",
              "      border-color: transparent;\n",
              "      border-left-color: var(--fill-color);\n",
              "      border-top-color: var(--fill-color);\n",
              "      border-right-color: var(--fill-color);\n",
              "    }\n",
              "    40% {\n",
              "      border-color: transparent;\n",
              "      border-right-color: var(--fill-color);\n",
              "      border-top-color: var(--fill-color);\n",
              "    }\n",
              "    60% {\n",
              "      border-color: transparent;\n",
              "      border-right-color: var(--fill-color);\n",
              "    }\n",
              "    80% {\n",
              "      border-color: transparent;\n",
              "      border-right-color: var(--fill-color);\n",
              "      border-bottom-color: var(--fill-color);\n",
              "    }\n",
              "    90% {\n",
              "      border-color: transparent;\n",
              "      border-bottom-color: var(--fill-color);\n",
              "    }\n",
              "  }\n",
              "</style>\n",
              "\n",
              "  <script>\n",
              "    async function quickchart(key) {\n",
              "      const quickchartButtonEl =\n",
              "        document.querySelector('#' + key + ' button');\n",
              "      quickchartButtonEl.disabled = true;  // To prevent multiple clicks.\n",
              "      quickchartButtonEl.classList.add('colab-df-spinner');\n",
              "      try {\n",
              "        const charts = await google.colab.kernel.invokeFunction(\n",
              "            'suggestCharts', [key], {});\n",
              "      } catch (error) {\n",
              "        console.error('Error during call to suggestCharts:', error);\n",
              "      }\n",
              "      quickchartButtonEl.classList.remove('colab-df-spinner');\n",
              "      quickchartButtonEl.classList.add('colab-df-quickchart-complete');\n",
              "    }\n",
              "    (() => {\n",
              "      let quickchartButtonEl =\n",
              "        document.querySelector('#df-fd4c3525-c3b3-497f-8474-a1f69c5c85c9 button');\n",
              "      quickchartButtonEl.style.display =\n",
              "        google.colab.kernel.accessAllowed ? 'block' : 'none';\n",
              "    })();\n",
              "  </script>\n",
              "</div>\n",
              "\n",
              "  <div id=\"id_34e8ab18-e875-41cd-901f-7bf6ccb5c579\">\n",
              "    <style>\n",
              "      .colab-df-generate {\n",
              "        background-color: #E8F0FE;\n",
              "        border: none;\n",
              "        border-radius: 50%;\n",
              "        cursor: pointer;\n",
              "        display: none;\n",
              "        fill: #1967D2;\n",
              "        height: 32px;\n",
              "        padding: 0 0 0 0;\n",
              "        width: 32px;\n",
              "      }\n",
              "\n",
              "      .colab-df-generate:hover {\n",
              "        background-color: #E2EBFA;\n",
              "        box-shadow: 0px 1px 2px rgba(60, 64, 67, 0.3), 0px 1px 3px 1px rgba(60, 64, 67, 0.15);\n",
              "        fill: #174EA6;\n",
              "      }\n",
              "\n",
              "      [theme=dark] .colab-df-generate {\n",
              "        background-color: #3B4455;\n",
              "        fill: #D2E3FC;\n",
              "      }\n",
              "\n",
              "      [theme=dark] .colab-df-generate:hover {\n",
              "        background-color: #434B5C;\n",
              "        box-shadow: 0px 1px 3px 1px rgba(0, 0, 0, 0.15);\n",
              "        filter: drop-shadow(0px 1px 2px rgba(0, 0, 0, 0.3));\n",
              "        fill: #FFFFFF;\n",
              "      }\n",
              "    </style>\n",
              "    <button class=\"colab-df-generate\" onclick=\"generateWithVariable('df')\"\n",
              "            title=\"Generate code using this dataframe.\"\n",
              "            style=\"display:none;\">\n",
              "\n",
              "  <svg xmlns=\"http://www.w3.org/2000/svg\" height=\"24px\"viewBox=\"0 0 24 24\"\n",
              "       width=\"24px\">\n",
              "    <path d=\"M7,19H8.4L18.45,9,17,7.55,7,17.6ZM5,21V16.75L18.45,3.32a2,2,0,0,1,2.83,0l1.4,1.43a1.91,1.91,0,0,1,.58,1.4,1.91,1.91,0,0,1-.58,1.4L9.25,21ZM18.45,9,17,7.55Zm-12,3A5.31,5.31,0,0,0,4.9,8.1,5.31,5.31,0,0,0,1,6.5,5.31,5.31,0,0,0,4.9,4.9,5.31,5.31,0,0,0,6.5,1,5.31,5.31,0,0,0,8.1,4.9,5.31,5.31,0,0,0,12,6.5,5.46,5.46,0,0,0,6.5,12Z\"/>\n",
              "  </svg>\n",
              "    </button>\n",
              "    <script>\n",
              "      (() => {\n",
              "      const buttonEl =\n",
              "        document.querySelector('#id_34e8ab18-e875-41cd-901f-7bf6ccb5c579 button.colab-df-generate');\n",
              "      buttonEl.style.display =\n",
              "        google.colab.kernel.accessAllowed ? 'block' : 'none';\n",
              "\n",
              "      buttonEl.onclick = () => {\n",
              "        google.colab.notebook.generateWithVariable('df');\n",
              "      }\n",
              "      })();\n",
              "    </script>\n",
              "  </div>\n",
              "\n",
              "    </div>\n",
              "  </div>\n"
            ],
            "application/vnd.google.colaboratory.intrinsic+json": {
              "type": "dataframe",
              "variable_name": "df"
            }
          },
          "metadata": {},
          "execution_count": 37
        }
      ]
    },
    {
      "cell_type": "markdown",
      "id": "1a559e40",
      "metadata": {
        "id": "1a559e40"
      },
      "source": [
        "## Data Preprocessing\n",
        "This could include:\n",
        "\n",
        "* **Handle Missing Values**\n",
        "    * Impute missing values or drop them.\n",
        "\n",
        "* **Encode Categorical Variables**\n",
        "    * One-hot encoding\n",
        "    * Label encoding\n",
        "\n",
        "* **Scale and Normalize Data**\n",
        "    * Standardization (Z-score)\n",
        "    * Min-Max scaling\n",
        "\n",
        "* **Feature Engineering**\n",
        "    * Create new features\n",
        "    * Feature selection\n",
        "\n",
        "* **Handle Imbalanced Data**\n",
        "    * Oversampling\n",
        "    * Undersampling\n",
        "\n",
        "* **Handle Outliers**\n",
        "    * Remove outliers\n",
        "    * Transform outliers\n",
        "\n",
        "* **Remove Duplicates**\n",
        "    * Remove redundant or duplicate data\n",
        "\n",
        "\n",
        "And add more as needed!\n",
        "\n",
        "Please treat these as suggestions. Feel free to use your judgment for the rest."
      ]
    },
    {
      "cell_type": "code",
      "source": [
        " from sklearn import preprocessing\n",
        "le = preprocessing.LabelEncoder()\n",
        " from sklearn.preprocessing import LabelEncoder"
      ],
      "metadata": {
        "id": "TcEOv-rHKN13"
      },
      "id": "TcEOv-rHKN13",
      "execution_count": 25,
      "outputs": []
    },
    {
      "cell_type": "code",
      "source": [
        "from sklearn.preprocessing import LabelEncoder\n",
        "\n",
        "\n",
        "label_encoder = LabelEncoder()\n",
        "\n",
        "columns_to_encode = ['Breakdown_or_Running_Late', 'Have_You_Alerted_OPT', 'Has_Contractor_Notified_Parents', 'Has_Contractor_Notified_Schools']\n",
        "\n",
        "for column in columns_to_encode:\n",
        "    df[column] = label_encoder.fit_transform(df[column])\n",
        "\n",
        "print(df.head())"
      ],
      "metadata": {
        "colab": {
          "base_uri": "https://localhost:8080/"
        },
        "id": "U-btnoCXLiKf",
        "outputId": "b3680f06-9a1e-4399-ee75-fc38e981e0e8"
      },
      "id": "U-btnoCXLiKf",
      "execution_count": 27,
      "outputs": [
        {
          "output_type": "stream",
          "name": "stdout",
          "text": [
            "  School_Year  Busbreakdown_ID  Run_Type Bus_No Route_Number         Reason  \\\n",
            "0   2015-2016          1224901  Pre-K/EI    811            1          Other   \n",
            "1   2015-2016          1225098  Pre-K/EI   9302            1  Heavy Traffic   \n",
            "2   2015-2016          1215800  Pre-K/EI    358            2  Heavy Traffic   \n",
            "3   2015-2016          1215511  Pre-K/EI    331            2          Other   \n",
            "4   2015-2016          1215828  Pre-K/EI    332            2          Other   \n",
            "\n",
            "  Schools_Serviced             Occurred_On              Created_On   Boro  \\\n",
            "0             C353  10/26/2015 08:30:00 AM  10/26/2015 08:40:00 AM  Bronx   \n",
            "1             C814  10/27/2015 07:10:00 AM  10/27/2015 07:11:00 AM  Bronx   \n",
            "2             C195  09/18/2015 07:36:00 AM  09/18/2015 07:38:00 AM  Bronx   \n",
            "3             C178  09/17/2015 08:08:00 AM  09/17/2015 08:12:00 AM  Bronx   \n",
            "4             S176  09/18/2015 07:39:00 AM  09/18/2015 07:45:00 AM  Bronx   \n",
            "\n",
            "   ... How_Long_Delayed Number_Of_Students_On_The_Bus  \\\n",
            "0  ...        10MINUTES                           5.0   \n",
            "1  ...       25 MINUTES                           3.0   \n",
            "2  ...       15 MINUTES                          12.0   \n",
            "3  ...       10 minutes                          11.0   \n",
            "4  ...        10MINUTES                          12.0   \n",
            "\n",
            "   Has_Contractor_Notified_Schools  Has_Contractor_Notified_Parents  \\\n",
            "0                                1                                1   \n",
            "1                                1                                1   \n",
            "2                                1                                1   \n",
            "3                                1                                1   \n",
            "4                                1                                1   \n",
            "\n",
            "   Have_You_Alerted_OPT             Informed_On Incident_Number  \\\n",
            "0                     0  10/26/2015 08:40:00 AM         2792058   \n",
            "1                     0  10/27/2015 07:11:00 AM         2792058   \n",
            "2                     1  09/18/2015 07:38:00 AM         2792058   \n",
            "3                     1  09/17/2015 08:12:00 AM         2792058   \n",
            "4                     0  09/18/2015 07:45:00 AM         2792058   \n",
            "\n",
            "          Last_Updated_On Breakdown_or_Running_Late  School_Age_or_PreK  \n",
            "0  10/26/2015 08:40:39 AM                         1               Pre-K  \n",
            "1  10/27/2015 07:11:22 AM                         1               Pre-K  \n",
            "2  09/18/2015 07:38:44 AM                         1               Pre-K  \n",
            "3  09/17/2015 08:12:08 AM                         1               Pre-K  \n",
            "4  09/18/2015 07:56:40 AM                         1               Pre-K  \n",
            "\n",
            "[5 rows x 21 columns]\n"
          ]
        }
      ]
    },
    {
      "cell_type": "markdown",
      "source": [
        "**using lable encoder for columns have 2 **"
      ],
      "metadata": {
        "id": "znX77Pbldb37"
      },
      "id": "znX77Pbldb37"
    },
    {
      "cell_type": "code",
      "source": [
        "columns_to_encode =['School_Year', 'Run_Type', 'Bus_No', 'Route_Number',\n",
        "                     'Reason', 'Schools_Serviced', 'Occurred_On',\n",
        "                     'Created_On', 'Boro', 'Bus_Company_Name','How_Long_Delayed','Informed_On','Incident_Number','Last_Updated_On','School_Age_or_PreK']\n",
        "\n",
        "for column in columns_to_encode:\n",
        "    df[column] = label_encoder.fit_transform(df[column])\n",
        "\n",
        "print(df.head())"
      ],
      "metadata": {
        "id": "0Bq82EN3O5Ky",
        "outputId": "87f469cd-d90f-434b-9719-de1a868767fd",
        "colab": {
          "base_uri": "https://localhost:8080/"
        }
      },
      "id": "0Bq82EN3O5Ky",
      "execution_count": 28,
      "outputs": [
        {
          "output_type": "stream",
          "name": "stdout",
          "text": [
            "   School_Year  Busbreakdown_ID  Run_Type  Bus_No  Route_Number  Reason  \\\n",
            "0            0          1224901         3    3887            21       6   \n",
            "1            0          1225098         3    4201            21       3   \n",
            "2            0          1215800         3    2516            63       3   \n",
            "3            0          1215511         3    2463            63       6   \n",
            "4            0          1215828         3    2466            63       6   \n",
            "\n",
            "   Schools_Serviced  Occurred_On  Created_On  Boro  ...  How_Long_Delayed  \\\n",
            "0              2110         3066        3547     1  ...                77   \n",
            "1              2152         3175        3657     1  ...               315   \n",
            "2              2086         1384        1599     1  ...               139   \n",
            "3              2085         1253        1436     1  ...                40   \n",
            "4              2190         1387        1606     1  ...                77   \n",
            "\n",
            "   Number_Of_Students_On_The_Bus  Has_Contractor_Notified_Schools  \\\n",
            "0                            5.0                                1   \n",
            "1                            3.0                                1   \n",
            "2                           12.0                                1   \n",
            "3                           11.0                                1   \n",
            "4                           12.0                                1   \n",
            "\n",
            "   Has_Contractor_Notified_Parents  Have_You_Alerted_OPT  Informed_On  \\\n",
            "0                                1                     0         3547   \n",
            "1                                1                     0         3657   \n",
            "2                                1                     1         1599   \n",
            "3                                1                     1         1436   \n",
            "4                                1                     0         1606   \n",
            "\n",
            "   Incident_Number  Last_Updated_On  Breakdown_or_Running_Late  \\\n",
            "0               33             6696                          1   \n",
            "1               33             6875                          1   \n",
            "2               33             3079                          1   \n",
            "3               33             2824                          1   \n",
            "4               33             3139                          1   \n",
            "\n",
            "   School_Age_or_PreK  \n",
            "0                   0  \n",
            "1                   0  \n",
            "2                   0  \n",
            "3                   0  \n",
            "4                   0  \n",
            "\n",
            "[5 rows x 21 columns]\n"
          ]
        }
      ]
    },
    {
      "cell_type": "code",
      "source": [
        "df.info()"
      ],
      "metadata": {
        "colab": {
          "base_uri": "https://localhost:8080/"
        },
        "id": "1vfYHLC5MUOg",
        "outputId": "570580fa-c284-4526-b398-a8c560ff1ddd"
      },
      "id": "1vfYHLC5MUOg",
      "execution_count": 29,
      "outputs": [
        {
          "output_type": "stream",
          "name": "stdout",
          "text": [
            "<class 'pandas.core.frame.DataFrame'>\n",
            "RangeIndex: 18126 entries, 0 to 18125\n",
            "Data columns (total 21 columns):\n",
            " #   Column                           Non-Null Count  Dtype  \n",
            "---  ------                           --------------  -----  \n",
            " 0   School_Year                      18126 non-null  int64  \n",
            " 1   Busbreakdown_ID                  18126 non-null  int64  \n",
            " 2   Run_Type                         18126 non-null  int64  \n",
            " 3   Bus_No                           18126 non-null  int64  \n",
            " 4   Route_Number                     18126 non-null  int64  \n",
            " 5   Reason                           18126 non-null  int64  \n",
            " 6   Schools_Serviced                 18126 non-null  int64  \n",
            " 7   Occurred_On                      18126 non-null  int64  \n",
            " 8   Created_On                       18126 non-null  int64  \n",
            " 9   Boro                             18126 non-null  int64  \n",
            " 10  Bus_Company_Name                 18126 non-null  int64  \n",
            " 11  How_Long_Delayed                 18126 non-null  int64  \n",
            " 12  Number_Of_Students_On_The_Bus    18125 non-null  float64\n",
            " 13  Has_Contractor_Notified_Schools  18126 non-null  int64  \n",
            " 14  Has_Contractor_Notified_Parents  18126 non-null  int64  \n",
            " 15  Have_You_Alerted_OPT             18126 non-null  int64  \n",
            " 16  Informed_On                      18126 non-null  int64  \n",
            " 17  Incident_Number                  18126 non-null  int64  \n",
            " 18  Last_Updated_On                  18126 non-null  int64  \n",
            " 19  Breakdown_or_Running_Late        18126 non-null  int64  \n",
            " 20  School_Age_or_PreK               18126 non-null  int64  \n",
            "dtypes: float64(1), int64(20)\n",
            "memory usage: 2.9 MB\n"
          ]
        }
      ]
    },
    {
      "cell_type": "code",
      "source": [
        "from sklearn.preprocessing import OneHotEncoder\n",
        "import pandas as pd\n",
        "columns_to_encode = [,'School_Year', 'Run_Type', 'Bus_No', 'Route_Number',\n",
        "                     'Reason', 'Schools_Serviced', 'Occurred_On',\n",
        "                     'Created_On', 'Boro', 'Bus_Company_Name','How_Long_Delayed','Informed_On','Incident_Number','Last_Updated_On','School_Age_or_PreK']\n",
        "\n",
        "encoder = OneHotEncoder(dtype = 'float',sparse_output=False, drop='first')\n"
      ],
      "metadata": {
        "id": "16ctPMonL8PY"
      },
      "id": "16ctPMonL8PY",
      "execution_count": 30,
      "outputs": []
    },
    {
      "cell_type": "markdown",
      "source": [
        "use onehotencoder for columns have more than 3 value"
      ],
      "metadata": {
        "id": "Lw6e7o4gdo12"
      },
      "id": "Lw6e7o4gdo12"
    },
    {
      "cell_type": "code",
      "execution_count": 33,
      "id": "e6867a7c",
      "metadata": {
        "colab": {
          "base_uri": "https://localhost:8080/",
          "height": 743
        },
        "id": "e6867a7c",
        "outputId": "60084af8-3f07-44d3-8a96-4d13fece5440"
      },
      "outputs": [
        {
          "output_type": "execute_result",
          "data": {
            "text/plain": [
              "School_Year                        0\n",
              "Busbreakdown_ID                    0\n",
              "Run_Type                           0\n",
              "Bus_No                             0\n",
              "Route_Number                       0\n",
              "Reason                             0\n",
              "Schools_Serviced                   0\n",
              "Occurred_On                        0\n",
              "Created_On                         0\n",
              "Boro                               0\n",
              "Bus_Company_Name                   0\n",
              "How_Long_Delayed                   0\n",
              "Number_Of_Students_On_The_Bus      0\n",
              "Has_Contractor_Notified_Schools    0\n",
              "Has_Contractor_Notified_Parents    0\n",
              "Have_You_Alerted_OPT               0\n",
              "Informed_On                        0\n",
              "Incident_Number                    0\n",
              "Last_Updated_On                    0\n",
              "Breakdown_or_Running_Late          0\n",
              "School_Age_or_PreK                 0\n",
              "dtype: int64"
            ],
            "text/html": [
              "<div>\n",
              "<style scoped>\n",
              "    .dataframe tbody tr th:only-of-type {\n",
              "        vertical-align: middle;\n",
              "    }\n",
              "\n",
              "    .dataframe tbody tr th {\n",
              "        vertical-align: top;\n",
              "    }\n",
              "\n",
              "    .dataframe thead th {\n",
              "        text-align: right;\n",
              "    }\n",
              "</style>\n",
              "<table border=\"1\" class=\"dataframe\">\n",
              "  <thead>\n",
              "    <tr style=\"text-align: right;\">\n",
              "      <th></th>\n",
              "      <th>0</th>\n",
              "    </tr>\n",
              "  </thead>\n",
              "  <tbody>\n",
              "    <tr>\n",
              "      <th>School_Year</th>\n",
              "      <td>0</td>\n",
              "    </tr>\n",
              "    <tr>\n",
              "      <th>Busbreakdown_ID</th>\n",
              "      <td>0</td>\n",
              "    </tr>\n",
              "    <tr>\n",
              "      <th>Run_Type</th>\n",
              "      <td>0</td>\n",
              "    </tr>\n",
              "    <tr>\n",
              "      <th>Bus_No</th>\n",
              "      <td>0</td>\n",
              "    </tr>\n",
              "    <tr>\n",
              "      <th>Route_Number</th>\n",
              "      <td>0</td>\n",
              "    </tr>\n",
              "    <tr>\n",
              "      <th>Reason</th>\n",
              "      <td>0</td>\n",
              "    </tr>\n",
              "    <tr>\n",
              "      <th>Schools_Serviced</th>\n",
              "      <td>0</td>\n",
              "    </tr>\n",
              "    <tr>\n",
              "      <th>Occurred_On</th>\n",
              "      <td>0</td>\n",
              "    </tr>\n",
              "    <tr>\n",
              "      <th>Created_On</th>\n",
              "      <td>0</td>\n",
              "    </tr>\n",
              "    <tr>\n",
              "      <th>Boro</th>\n",
              "      <td>0</td>\n",
              "    </tr>\n",
              "    <tr>\n",
              "      <th>Bus_Company_Name</th>\n",
              "      <td>0</td>\n",
              "    </tr>\n",
              "    <tr>\n",
              "      <th>How_Long_Delayed</th>\n",
              "      <td>0</td>\n",
              "    </tr>\n",
              "    <tr>\n",
              "      <th>Number_Of_Students_On_The_Bus</th>\n",
              "      <td>0</td>\n",
              "    </tr>\n",
              "    <tr>\n",
              "      <th>Has_Contractor_Notified_Schools</th>\n",
              "      <td>0</td>\n",
              "    </tr>\n",
              "    <tr>\n",
              "      <th>Has_Contractor_Notified_Parents</th>\n",
              "      <td>0</td>\n",
              "    </tr>\n",
              "    <tr>\n",
              "      <th>Have_You_Alerted_OPT</th>\n",
              "      <td>0</td>\n",
              "    </tr>\n",
              "    <tr>\n",
              "      <th>Informed_On</th>\n",
              "      <td>0</td>\n",
              "    </tr>\n",
              "    <tr>\n",
              "      <th>Incident_Number</th>\n",
              "      <td>0</td>\n",
              "    </tr>\n",
              "    <tr>\n",
              "      <th>Last_Updated_On</th>\n",
              "      <td>0</td>\n",
              "    </tr>\n",
              "    <tr>\n",
              "      <th>Breakdown_or_Running_Late</th>\n",
              "      <td>0</td>\n",
              "    </tr>\n",
              "    <tr>\n",
              "      <th>School_Age_or_PreK</th>\n",
              "      <td>0</td>\n",
              "    </tr>\n",
              "  </tbody>\n",
              "</table>\n",
              "</div><br><label><b>dtype:</b> int64</label>"
            ]
          },
          "metadata": {},
          "execution_count": 33
        }
      ],
      "source": [
        "df.isnull().sum()"
      ]
    },
    {
      "cell_type": "markdown",
      "source": [
        "**have clean data now**"
      ],
      "metadata": {
        "id": "hXXP2h7Vd1CZ"
      },
      "id": "hXXP2h7Vd1CZ"
    },
    {
      "cell_type": "code",
      "source": [
        "numerical_features =['Breakdown_or_Running_Late', 'Have_You_Alerted_OPT', 'Has_Contractor_Notified_Parents', 'Has_Contractor_Notified_Schools','School_Year', 'Run_Type', 'Bus_No', 'Route_Number',\n",
        "                     'Reason', 'Schools_Serviced', 'Occurred_On',\n",
        "                     'Created_On', 'Boro', 'Bus_Company_Name','How_Long_Delayed','Informed_On','Incident_Number','Last_Updated_On','School_Age_or_PreK']\n"
      ],
      "metadata": {
        "id": "SW_qdcy2P0dJ"
      },
      "id": "SW_qdcy2P0dJ",
      "execution_count": 52,
      "outputs": []
    },
    {
      "cell_type": "markdown",
      "source": [
        "**define numerical features to detect outlier and also do scaler**\n"
      ],
      "metadata": {
        "id": "pRpPnuQDd5Re"
      },
      "id": "pRpPnuQDd5Re"
    },
    {
      "cell_type": "code",
      "source": [
        "def remove_outliers(df):\n",
        "    for column in df.select_dtypes(include=['float64', 'int64']).columns:\n",
        "        Q1 = df[column].quantile(0.25)\n",
        "        Q3 = df[column].quantile(0.75)\n",
        "        IQR = Q3 - Q1\n",
        "        lower_bound = Q1 - 1.5 * IQR\n",
        "        upper_bound = Q3 + 1.5 * IQR\n",
        "        df = df[(df[column] >= lower_bound) & (df[column] <= upper_bound)]\n",
        "    return df\n",
        "\n",
        "\n",
        "df = remove_outliers(df)\n"
      ],
      "metadata": {
        "id": "bmO1_MBVZEP_"
      },
      "id": "bmO1_MBVZEP_",
      "execution_count": 46,
      "outputs": []
    },
    {
      "cell_type": "markdown",
      "source": [
        "**i have outlier then remove**"
      ],
      "metadata": {
        "id": "PbnUA1fmeHtM"
      },
      "id": "PbnUA1fmeHtM"
    },
    {
      "cell_type": "code",
      "source": [
        "for feature in numerical_features:\n",
        "    sns.boxplot(data=df, x=feature, palette='Set2')\n",
        "    plt.title(f'Box plot of {feature}')\n",
        "    plt.show()"
      ],
      "metadata": {
        "id": "yPF1GF4TPusr",
        "outputId": "c31825e2-ab3f-4fbe-c450-6a6b47ef5484",
        "colab": {
          "base_uri": "https://localhost:8080/",
          "height": 1000
        }
      },
      "id": "yPF1GF4TPusr",
      "execution_count": 53,
      "outputs": [
        {
          "output_type": "stream",
          "name": "stderr",
          "text": [
            "<ipython-input-53-c87b074c60d2>:2: FutureWarning: \n",
            "\n",
            "Passing `palette` without assigning `hue` is deprecated and will be removed in v0.14.0. Assign the `y` variable to `hue` and set `legend=False` for the same effect.\n",
            "\n",
            "  sns.boxplot(data=df, x=feature, palette='Set2')\n"
          ]
        },
        {
          "output_type": "display_data",
          "data": {
            "text/plain": [
              "<Figure size 640x480 with 1 Axes>"
            ],
            "image/png": "[encoded data removed]"
          },
          "metadata": {}
        },
        {
          "output_type": "stream",
          "name": "stderr",
          "text": [
            "<ipython-input-53-c87b074c60d2>:2: FutureWarning: \n",
            "\n",
            "Passing `palette` without assigning `hue` is deprecated and will be removed in v0.14.0. Assign the `y` variable to `hue` and set `legend=False` for the same effect.\n",
            "\n",
            "  sns.boxplot(data=df, x=feature, palette='Set2')\n"
          ]
        },
        {
          "output_type": "display_data",
          "data": {
            "text/plain": [
              "<Figure size 640x480 with 1 Axes>"
            ],
            "image/png": "[encoded data removed]"
          },
          "metadata": {}
        },
        {
          "output_type": "stream",
          "name": "stderr",
          "text": [
            "<ipython-input-53-c87b074c60d2>:2: FutureWarning: \n",
            "\n",
            "Passing `palette` without assigning `hue` is deprecated and will be removed in v0.14.0. Assign the `y` variable to `hue` and set `legend=False` for the same effect.\n",
            "\n",
            "  sns.boxplot(data=df, x=feature, palette='Set2')\n"
          ]
        },
        {
          "output_type": "display_data",
          "data": {
            "text/plain": [
              "<Figure size 640x480 with 1 Axes>"
            ],
            "image/png": "[encoded data removed]"
          },
          "metadata": {}
        },
        {
          "output_type": "stream",
          "name": "stderr",
          "text": [
            "<ipython-input-53-c87b074c60d2>:2: FutureWarning: \n",
            "\n",
            "Passing `palette` without assigning `hue` is deprecated and will be removed in v0.14.0. Assign the `y` variable to `hue` and set `legend=False` for the same effect.\n",
            "\n",
            "  sns.boxplot(data=df, x=feature, palette='Set2')\n"
          ]
        },
        {
          "output_type": "display_data",
          "data": {
            "text/plain": [
              "<Figure size 640x480 with 1 Axes>"
            ],
            "image/png": "[encoded data removed]"
          },
          "metadata": {}
        },
        {
          "output_type": "stream",
          "name": "stderr",
          "text": [
            "<ipython-input-53-c87b074c60d2>:2: FutureWarning: \n",
            "\n",
            "Passing `palette` without assigning `hue` is deprecated and will be removed in v0.14.0. Assign the `y` variable to `hue` and set `legend=False` for the same effect.\n",
            "\n",
            "  sns.boxplot(data=df, x=feature, palette='Set2')\n"
          ]
        },
        {
          "output_type": "display_data",
          "data": {
            "text/plain": [
              "<Figure size 640x480 with 1 Axes>"
            ],
            "image/png": "[encoded data removed]"
          },
          "metadata": {}
        },
        {
          "output_type": "stream",
          "name": "stderr",
          "text": [
            "<ipython-input-53-c87b074c60d2>:2: FutureWarning: \n",
            "\n",
            "Passing `palette` without assigning `hue` is deprecated and will be removed in v0.14.0. Assign the `y` variable to `hue` and set `legend=False` for the same effect.\n",
            "\n",
            "  sns.boxplot(data=df, x=feature, palette='Set2')\n"
          ]
        },
        {
          "output_type": "display_data",
          "data": {
            "text/plain": [
              "<Figure size 640x480 with 1 Axes>"
            ],
            "image/png": "[encoded data removed]"
          },
          "metadata": {}
        },
        {
          "output_type": "stream",
          "name": "stderr",
          "text": [
            "<ipython-input-53-c87b074c60d2>:2: FutureWarning: \n",
            "\n",
            "Passing `palette` without assigning `hue` is deprecated and will be removed in v0.14.0. Assign the `y` variable to `hue` and set `legend=False` for the same effect.\n",
            "\n",
            "  sns.boxplot(data=df, x=feature, palette='Set2')\n"
          ]
        },
        {
          "output_type": "display_data",
          "data": {
            "text/plain": [
              "<Figure size 640x480 with 1 Axes>"
            ],
            "image/png": "[encoded data removed]"
          },
          "metadata": {}
        },
        {
          "output_type": "stream",
          "name": "stderr",
          "text": [
            "<ipython-input-53-c87b074c60d2>:2: FutureWarning: \n",
            "\n",
            "Passing `palette` without assigning `hue` is deprecated and will be removed in v0.14.0. Assign the `y` variable to `hue` and set `legend=False` for the same effect.\n",
            "\n",
            "  sns.boxplot(data=df, x=feature, palette='Set2')\n"
          ]
        },
        {
          "output_type": "display_data",
          "data": {
            "text/plain": [
              "<Figure size 640x480 with 1 Axes>"
            ],
            "image/png": "[encoded data removed]"
          },
          "metadata": {}
        },
        {
          "output_type": "stream",
          "name": "stderr",
          "text": [
            "<ipython-input-53-c87b074c60d2>:2: FutureWarning: \n",
            "\n",
            "Passing `palette` without assigning `hue` is deprecated and will be removed in v0.14.0. Assign the `y` variable to `hue` and set `legend=False` for the same effect.\n",
            "\n",
            "  sns.boxplot(data=df, x=feature, palette='Set2')\n"
          ]
        },
        {
          "output_type": "display_data",
          "data": {
            "text/plain": [
              "<Figure size 640x480 with 1 Axes>"
            ],
            "image/png": "[encoded data removed]"
          },
          "metadata": {}
        },
        {
          "output_type": "stream",
          "name": "stderr",
          "text": [
            "<ipython-input-53-c87b074c60d2>:2: FutureWarning: \n",
            "\n",
            "Passing `palette` without assigning `hue` is deprecated and will be removed in v0.14.0. Assign the `y` variable to `hue` and set `legend=False` for the same effect.\n",
            "\n",
            "  sns.boxplot(data=df, x=feature, palette='Set2')\n"
          ]
        },
        {
          "output_type": "display_data",
          "data": {
            "text/plain": [
              "<Figure size 640x480 with 1 Axes>"
            ],
            "image/png": "[encoded data removed]"
          },
          "metadata": {}
        },
        {
          "output_type": "stream",
          "name": "stderr",
          "text": [
            "<ipython-input-53-c87b074c60d2>:2: FutureWarning: \n",
            "\n",
            "Passing `palette` without assigning `hue` is deprecated and will be removed in v0.14.0. Assign the `y` variable to `hue` and set `legend=False` for the same effect.\n",
            "\n",
            "  sns.boxplot(data=df, x=feature, palette='Set2')\n"
          ]
        },
        {
          "output_type": "display_data",
          "data": {
            "text/plain": [
              "<Figure size 640x480 with 1 Axes>"
            ],
            "image/png": "[encoded data removed]"
          },
          "metadata": {}
        },
        {
          "output_type": "stream",
          "name": "stderr",
          "text": [
            "<ipython-input-53-c87b074c60d2>:2: FutureWarning: \n",
            "\n",
            "Passing `palette` without assigning `hue` is deprecated and will be removed in v0.14.0. Assign the `y` variable to `hue` and set `legend=False` for the same effect.\n",
            "\n",
            "  sns.boxplot(data=df, x=feature, palette='Set2')\n"
          ]
        },
        {
          "output_type": "display_data",
          "data": {
            "text/plain": [
              "<Figure size 640x480 with 1 Axes>"
            ],
            "image/png": "[encoded data removed]"
          },
          "metadata": {}
        },
        {
          "output_type": "stream",
          "name": "stderr",
          "text": [
            "<ipython-input-53-c87b074c60d2>:2: FutureWarning: \n",
            "\n",
            "Passing `palette` without assigning `hue` is deprecated and will be removed in v0.14.0. Assign the `y` variable to `hue` and set `legend=False` for the same effect.\n",
            "\n",
            "  sns.boxplot(data=df, x=feature, palette='Set2')\n"
          ]
        },
        {
          "output_type": "display_data",
          "data": {
            "text/plain": [
              "<Figure size 640x480 with 1 Axes>"
            ],
            "image/png": "[encoded data removed]"
          },
          "metadata": {}
        },
        {
          "output_type": "stream",
          "name": "stderr",
          "text": [
            "<ipython-input-53-c87b074c60d2>:2: FutureWarning: \n",
            "\n",
            "Passing `palette` without assigning `hue` is deprecated and will be removed in v0.14.0. Assign the `y` variable to `hue` and set `legend=False` for the same effect.\n",
            "\n",
            "  sns.boxplot(data=df, x=feature, palette='Set2')\n"
          ]
        },
        {
          "output_type": "display_data",
          "data": {
            "text/plain": [
              "<Figure size 640x480 with 1 Axes>"
            ],
            "image/png": "[encoded data removed]"
          },
          "metadata": {}
        },
        {
          "output_type": "stream",
          "name": "stderr",
          "text": [
            "<ipython-input-53-c87b074c60d2>:2: FutureWarning: \n",
            "\n",
            "Passing `palette` without assigning `hue` is deprecated and will be removed in v0.14.0. Assign the `y` variable to `hue` and set `legend=False` for the same effect.\n",
            "\n",
            "  sns.boxplot(data=df, x=feature, palette='Set2')\n"
          ]
        },
        {
          "output_type": "display_data",
          "data": {
            "text/plain": [
              "<Figure size 640x480 with 1 Axes>"
            ],
            "image/png": "[encoded data removed]"
          },
          "metadata": {}
        },
        {
          "output_type": "stream",
          "name": "stderr",
          "text": [
            "<ipython-input-53-c87b074c60d2>:2: FutureWarning: \n",
            "\n",
            "Passing `palette` without assigning `hue` is deprecated and will be removed in v0.14.0. Assign the `y` variable to `hue` and set `legend=False` for the same effect.\n",
            "\n",
            "  sns.boxplot(data=df, x=feature, palette='Set2')\n"
          ]
        },
        {
          "output_type": "display_data",
          "data": {
            "text/plain": [
              "<Figure size 640x480 with 1 Axes>"
            ],
            "image/png": "[encoded data removed]"
          },
          "metadata": {}
        },
        {
          "output_type": "stream",
          "name": "stderr",
          "text": [
            "<ipython-input-53-c87b074c60d2>:2: FutureWarning: \n",
            "\n",
            "Passing `palette` without assigning `hue` is deprecated and will be removed in v0.14.0. Assign the `y` variable to `hue` and set `legend=False` for the same effect.\n",
            "\n",
            "  sns.boxplot(data=df, x=feature, palette='Set2')\n"
          ]
        },
        {
          "output_type": "display_data",
          "data": {
            "text/plain": [
              "<Figure size 640x480 with 1 Axes>"
            ],
            "image/png": "[encoded data removed]"
          },
          "metadata": {}
        },
        {
          "output_type": "stream",
          "name": "stderr",
          "text": [
            "<ipython-input-53-c87b074c60d2>:2: FutureWarning: \n",
            "\n",
            "Passing `palette` without assigning `hue` is deprecated and will be removed in v0.14.0. Assign the `y` variable to `hue` and set `legend=False` for the same effect.\n",
            "\n",
            "  sns.boxplot(data=df, x=feature, palette='Set2')\n"
          ]
        },
        {
          "output_type": "display_data",
          "data": {
            "text/plain": [
              "<Figure size 640x480 with 1 Axes>"
            ],
            "image/png": "[encoded data removed]"
          },
          "metadata": {}
        },
        {
          "output_type": "stream",
          "name": "stderr",
          "text": [
            "<ipython-input-53-c87b074c60d2>:2: FutureWarning: \n",
            "\n",
            "Passing `palette` without assigning `hue` is deprecated and will be removed in v0.14.0. Assign the `y` variable to `hue` and set `legend=False` for the same effect.\n",
            "\n",
            "  sns.boxplot(data=df, x=feature, palette='Set2')\n"
          ]
        },
        {
          "output_type": "display_data",
          "data": {
            "text/plain": [
              "<Figure size 640x480 with 1 Axes>"
            ],
            "image/png": "[encoded data removed]"
          },
          "metadata": {}
        }
      ]
    },
    {
      "cell_type": "markdown",
      "source": [
        "**box plot after remove outlier**"
      ],
      "metadata": {
        "id": "GaAhVmkoeSl6"
      },
      "id": "GaAhVmkoeSl6"
    },
    {
      "cell_type": "code",
      "source": [
        "for col in df.columns:\n",
        "  print([col],df[col].unique())"
      ],
      "metadata": {
        "colab": {
          "base_uri": "https://localhost:8080/"
        },
        "id": "kW_ql8a6Y-jC",
        "outputId": "f74888b5-7ec7-487c-da82-05f7f1d21b28"
      },
      "id": "kW_ql8a6Y-jC",
      "execution_count": 48,
      "outputs": [
        {
          "output_type": "stream",
          "name": "stdout",
          "text": [
            "['School_Year'] [0]\n",
            "['Busbreakdown_ID'] [1226035 1225841 1226042 1225848 1226044 1224888 1225386 1226067 1225424\n",
            " 1225437 1225439 1225449 1224596 1225452 1224601 1224607 1224609 1224614\n",
            " 1225131 1226287 1224620 1225460 1225484 1225486 1225489 1224635 1224647\n",
            " 1225497 1225503 1215279 1225505 1215284 1224665 1225506 1225509 1226312\n",
            " 1224682 1225525 1224693 1224708 1224711 1224716 1224719 1224724 1215358\n",
            " 1226341 1225793 1224754 1226352 1225794 1226353 1226355 1225009 1225799\n",
            " 1225013 1224787 1225809 1224799 1225017 1225818 1224831 1226005 1225820\n",
            " 1226651 1226654 1226672 1226676 1227035 1227055 1227068 1227085 1227094\n",
            " 1227111 1227171 1227368 1227370 1227377 1227383 1227391 1227403 1227406\n",
            " 1227407 1227409 1227411 1227418 1227433 1227493 1227519 1227547 1227551\n",
            " 1227693 1227721 1227723 1227725 1227728 1227813 1227847 1227873 1227881\n",
            " 1228016 1228035 1228041 1228048 1228056 1228061 1228069 1228091 1228100\n",
            " 1228104 1228134 1228149 1228213 1228381 1228386 1228389 1228398 1228425\n",
            " 1228653 1228773 1228789 1228796 1228800 1228824 1228831 1228858 1228864\n",
            " 1228898 1229181 1229270 1229303 1225042 1229556 1229571 1229587 1229588\n",
            " 1229593 1229598 1229604 1229614 1229616 1229632 1229769 1229959 1229968\n",
            " 1229973 1229981 1229995 1229999 1230004 1230052 1230094 1230130 1230153\n",
            " 1230163 1230322 1230326 1230330 1230343 1230349 1230358 1230362 1230364\n",
            " 1230367 1230492 1230495 1230613 1230618 1230635 1230641 1230659 1230660\n",
            " 1230662 1230793 1230798 1230802 1230933 1230934 1230939 1230954 1230957\n",
            " 1230963 1231209 1231216 1231231 1231233 1231238 1231244 1231254 1231261\n",
            " 1231267 1231272 1231278 1231358 1231439 1231467 1231636 1231652 1231665\n",
            " 1231675 1231678 1231697 1231699 1231750 1231751 1231756 1231757 1231763\n",
            " 1231776 1231805 1231813 1231816 1231830 1231840 1231845 1231881 1232061\n",
            " 1232090 1232104 1232110 1232113 1232120 1232187 1232369 1232375 1232397\n",
            " 1232406 1232420 1232424 1232431 1232434 1232437 1232440 1232442 1232499\n",
            " 1232790 1232852 1232855 1232865 1232869 1232872 1232873 1232875 1232876\n",
            " 1232880 1232883 1232884 1232885 1232886 1232890 1232897 1232899 1232903\n",
            " 1232912 1233121 1233284 1233292 1233294 1233297 1233307 1233309 1233311\n",
            " 1233312 1233318 1233327 1233328 1233333 1233336 1233337 1233338 1233341\n",
            " 1233342 1233343 1233347 1233365 1233368 1233370 1233372 1233380 1233383\n",
            " 1233403 1233421 1233426 1233677 1233680 1233681 1233684 1233685 1233686\n",
            " 1233688 1233689 1233691 1233694 1233698 1233699 1233700 1233702 1233703\n",
            " 1233706 1233710 1233712 1233720 1233722 1233745 1233820 1233845 1233864\n",
            " 1233991 1233992 1233993 1233995 1233997 1234006 1234017 1234018 1234026\n",
            " 1234027 1234034 1234038 1234098 1234305 1234306 1234308 1234310 1234313\n",
            " 1234315 1234317 1234322 1234330 1234332 1234333 1234343 1234347 1234366\n",
            " 1234514 1234518 1234525 1234573 1234595 1234712 1234713 1234715 1234718\n",
            " 1234721 1234722 1234723 1234725 1234727 1234738 1234755 1234757 1234758\n",
            " 1234835 1234923 1234936 1234941 1235090 1235093 1235095 1235097 1235098\n",
            " 1235105 1235106 1235107 1235109 1235110 1235112 1235128 1235133 1235301\n",
            " 1235302 1235424 1235428 1235455 1235461 1235470 1235474 1235481 1235608\n",
            " 1235652 1235791 1235821 1235828 1235831 1235832 1235931]\n",
            "['Run_Type'] [6]\n",
            "['Bus_No'] [ 714  866  853  728  695  793  819  764  732  766  685  784  844  813\n",
            "  861  837  787  889  909  785  678  873  849  892  709  859  856  703\n",
            "  815  836 1018  854  808  820  923  839  708  645  870  698  791  794\n",
            "  767  720  736  704  681  925  713  710  752  730  882  915  833  939\n",
            "  648  690  753  894  896  796  643  688  737  801  911  700  724  734\n",
            "  838  774  783  776  864  722  682  798  723  781  669  675  770]\n",
            "['Route_Number'] [2116 2100 1998 2104 1922 1733 1737 1978 1921 1939 1942 1983 1584 2006\n",
            " 1745 1779 1790 1858 1890 1746 1861 2041 2202 2254 2256 1952 2260 2278\n",
            " 2290 1801 2294 2089 2162 2258 2130 2058 2277 1767 1954 1578 2067 1948\n",
            " 2045 1980 2057 2113 2117 1735 2228 1924 2190 1973 1730 2009 2016 1537\n",
            " 2005 1966 2292 2038 2094 1726 2296 2148 1572 2158 1731 2017 2155 1883\n",
            " 1917 1799 2011 2087 1846 1981 2101 2196 2110 2252 1962 1955 1893]\n",
            "['Reason'] [3]\n",
            "['Schools_Serviced'] [ 96 207 163  41  68 335  15 144  88 102  31 107  21  18  28 278 215 304\n",
            " 267 312 204 120 290 246  43  75 185  33 283 114 195 263 316 171  71 196\n",
            "  49  72 217 317 167 180  50 118 164 287 116  14 268 301 121 212 325 336\n",
            " 254 111 105  98  80   3  63 242 186  24  26 331 291 230]\n",
            "['Occurred_On'] [3574 3513 3575 3514 3576 3064 3329 3581 3333 3345 3349 3353 2986 3354\n",
            " 2988 2990 2991 2993 3187 3676 2995 3356 3364 3365 3366 3004 3367 3368\n",
            " 1195 3369 1196 3010 3370 3371 3685 3012 3377 3014 3015 3016 3017 3019\n",
            " 1213 3695 3499 3025 3699 3700 3701 3143 3501 3146 3035 3504 3037 3148\n",
            " 3506 3044 3565 3851 3856 3857 4046 4052 4059 4067 4069 4077 4096 4199\n",
            " 4201 4202 4205 4208 4209 4210 4211 4214 4216 4239 4248 4260 4262 4351\n",
            " 4361 4362 4363 4395 4409 4423 4427 4516 4520 4521 4524 4525 4527 4530\n",
            " 4534 4537 4546 4570 4653 4654 4655 4659 4666 4747 4838 4842 4844 4848\n",
            " 4857 4860 4868 4869 4881 5033 5064 5074 3158 5196 5202 5207 5208 5209\n",
            " 5210 5213 5216 5223 5269 5359 5362 5364 5368 5372 5373 5375 5390 5405\n",
            " 5415 5421 5423 5533 5535 5536 5542 5545 5549 5550 5552 5603 5604 5689\n",
            " 5690 5700 5703 5712 5713 5764 5765 5766 5844 5845 5848 5855 5857 5859\n",
            " 5988 5991 5997 5998 6001 6005 6006 6007 6008 6010 6034 6060 6067 6165\n",
            " 6169 6173 6177 6178 6183 6184 6200 6202 6203 6205 6211 6219 6220 6222\n",
            " 6224 6226 6234 6318 6332 6339 6342 6343 6346 6372 6483 6484 6491 6492\n",
            " 6496 6497 6499 6500 6501 6502 6521 6641 6663 6665 6666 6667 6668 6669\n",
            " 6670 6671 6672 6675 6676 6678 6731 6843 6847 6848 6849 6851 6852 6853\n",
            " 6854 6856 6857 6859 6860 6861 6862 6864 6871 6873 6874 6876 6877 6883\n",
            " 6886 6888 6990 6991 6992 6993 6994 6995 6996 6997 6998 6999 7000 7001\n",
            " 7002 7004 7005 7011 7043 7051 7056 7130 7131 7132 7133 7138 7143 7144\n",
            " 7147 7152 7154 7179 7288 7289 7290 7292 7293 7294 7296 7298 7299 7302\n",
            " 7303 7308 7355 7357 7370 7379 7466 7467 7469 7470 7471 7474 7479 7480\n",
            " 7506 7530 7538 7536 7625 7627 7629 7630 7631 7633 7634 7635 7636 7640\n",
            " 7642 7709 7805 7806 7818 7822 7825 7826 7829 7869 7882 7954 7967 7971\n",
            " 7972 7973 8017]\n",
            "['Created_On'] [4090 4026 4091 4027 4092 3539 3836 4097 3853 3857 3858 3862 3457 3863\n",
            " 3459 3461 3462 3463 3669 4208 3465 3865 3874 3875 3470 3473 3877 3879\n",
            " 1369 3880 1371 3479 3881 3882 4217 3482 3888 3483 3485 3486 3487 3488\n",
            " 1389 4227 4011 3496 4232 4012 4233 3623 4014 3626 3507 4016 3509 3628\n",
            " 4019 3516 4083 4020 4386 4387 4393 4394 4593 4599 4605 4613 4616 4625\n",
            " 4645 4762 4763 4764 4765 4768 4771 4772 4773 4774 4777 4781 4803 4812\n",
            " 4825 4826 4928 4938 4939 4940 4973 4988 5003 5007 5102 5106 5107 5108\n",
            " 5110 5112 5113 5117 5119 5120 5127 5131 5157 5245 5246 5248 5251 5258\n",
            " 5344 5445 5450 5453 5455 5465 5467 5475 5477 5487 5648 5681 5698 3638\n",
            " 5821 5828 5834 5835 5836 5838 5839 5842 5843 5849 5900 6000 6003 6005\n",
            " 6008 6012 6014 6015 6035 6050 6061 6066 6068 6190 6191 6193 6198 6201\n",
            " 6205 6207 6208 6209 6260 6261 6342 6345 6355 6358 6366 6367 6368 6424\n",
            " 6425 6426 6510 6511 6514 6520 6521 6523 6669 6672 6678 6679 6681 6683\n",
            " 6686 6687 6689 6690 6691 6719 6744 6755 6866 6870 6875 6877 6879 6884\n",
            " 6905 6906 6907 6908 6911 6916 6924 6925 6926 6928 6930 6931 6939 7036\n",
            " 7049 7055 7057 7058 7061 7091 7212 7213 7221 7223 7227 7228 7230 7231\n",
            " 7232 7233 7254 7390 7416 7418 7419 7420 7421 7422 7423 7424 7425 7427\n",
            " 7428 7430 7491 7614 7616 7617 7620 7621 7622 7625 7626 7627 7628 7629\n",
            " 7630 7631 7632 7633 7640 7642 7643 7646 7647 7653 7656 7658 7768 7769\n",
            " 7770 7771 7772 7773 7775 7777 7778 7779 7780 7781 7784 7796 7835 7844\n",
            " 7850 7931 7932 7933 7934 7939 7946 7950 7951 7955 7958 7986 8101 8102\n",
            " 8103 8104 8105 8107 8108 8111 8112 8115 8120 8173 8174 8175 8189 8204\n",
            " 8293 8294 8295 8296 8297 8298 8299 8301 8307 8308 8336 8363 8367 8369\n",
            " 8462 8464 8465 8466 8467 8469 8470 8471 8476 8477 8542 8543 8646 8647\n",
            " 8663 8664 8667 8668 8671 8719 8734 8809 8821 8825 8826 8879]\n",
            "['Boro'] [4]\n",
            "['Bus_Company_Name'] [34]\n",
            "['How_Long_Delayed'] [219]\n",
            "['Number_Of_Students_On_The_Bus'] [3.]\n",
            "['Has_Contractor_Notified_Schools'] [1]\n",
            "['Has_Contractor_Notified_Parents'] [1]\n",
            "['Have_You_Alerted_OPT'] [0]\n",
            "['Informed_On'] [4090 4026 4091 4027 4092 3539 3836 4097 3853 3857 3858 3862 3457 3863\n",
            " 3459 3461 3462 3463 3669 4208 3465 3865 3874 3875 3470 3473 3877 3879\n",
            " 1369 3880 1371 3479 3881 3882 4217 3482 3888 3483 3485 3486 3487 3488\n",
            " 1389 4227 4011 3496 4232 4012 4233 3623 4014 3626 3507 4016 3509 3628\n",
            " 4019 3516 4083 4020 4386 4387 4393 4394 4593 4599 4605 4613 4616 4625\n",
            " 4645 4762 4763 4764 4765 4768 4771 4772 4773 4774 4777 4781 4803 4812\n",
            " 4825 4826 4928 4938 4939 4940 4973 4988 5003 5007 5102 5106 5107 5108\n",
            " 5110 5112 5113 5117 5119 5120 5127 5131 5157 5245 5246 5248 5251 5258\n",
            " 5344 5445 5450 5453 5455 5465 5467 5475 5477 5487 5648 5681 5698 3638\n",
            " 5821 5828 5834 5835 5836 5838 5839 5842 5843 5849 5900 6000 6003 6005\n",
            " 6008 6012 6014 6015 6035 6050 6061 6066 6068 6190 6191 6193 6198 6201\n",
            " 6205 6207 6208 6209 6260 6261 6342 6345 6355 6358 6366 6367 6368 6424\n",
            " 6425 6426 6510 6511 6514 6520 6521 6523 6669 6672 6678 6679 6681 6683\n",
            " 6686 6687 6689 6690 6691 6719 6744 6755 6866 6870 6875 6877 6879 6884\n",
            " 6905 6906 6907 6908 6911 6916 6924 6925 6926 6928 6930 6931 6939 7036\n",
            " 7049 7055 7057 7058 7061 7091 7212 7213 7221 7223 7227 7228 7230 7231\n",
            " 7232 7233 7254 7390 7416 7418 7419 7420 7421 7422 7423 7424 7425 7427\n",
            " 7428 7430 7491 7614 7616 7617 7620 7621 7622 7625 7626 7627 7628 7629\n",
            " 7630 7631 7632 7633 7640 7642 7643 7646 7647 7653 7656 7658 7768 7769\n",
            " 7770 7771 7772 7773 7775 7777 7778 7779 7780 7781 7784 7796 7835 7844\n",
            " 7850 7931 7932 7933 7934 7939 7946 7950 7951 7955 7958 7986 8101 8102\n",
            " 8103 8104 8105 8107 8108 8111 8112 8115 8120 8173 8174 8175 8189 8204\n",
            " 8293 8294 8295 8296 8297 8298 8299 8301 8307 8308 8336 8363 8367 8369\n",
            " 8462 8464 8465 8466 8467 8469 8470 8471 8476 8477 8542 8543 8646 8647\n",
            " 8663 8664 8667 8668 8671 8719 8734 8809 8821 8825 8826 8879]\n",
            "['Incident_Number'] [33]\n",
            "['Last_Updated_On'] [ 7713  7545  7718  7550  7720  6686  7168  7741  7201  7208  7211  7219\n",
            "  6422  7221  6426  6431  6432  6438  6897  7927  6440  7225  7243  7245\n",
            "  7248  6449  6454  7255  7263  2613  7265  2618  6471  7266  7269  7944\n",
            "  6487  7287  6497  6508  6512  6515  6518  6522  2689  7964  7512  6550\n",
            "  7977  7513  7978  7980  6796  7516  6800  6586  7525  6597  6803  7532\n",
            "  6620  7688  7533  8250  8251  8266  8270  8591  8607  8618  8637  8645\n",
            "  8661  8713  8885  8887  8893  8899  8906  8917  8919  8920  8922  8925\n",
            "  8935  8949  9009  9033  9061  9064  9202  9225  9226  9228  9230  9296\n",
            "  9331  9356  9362  9487  9502  9508  9510  9518  9523  9527  9544  9550\n",
            "  9554  9581  9594  9653  9797  9801  9804  9810  9832 10040 10158 10172\n",
            " 10177 10181 10196 10201 10227 10232 10256 10552 10627 10663  6826 10858\n",
            " 10872 10886 10887 10889 10893 10895 10902 10904 10917 11029 11183 11189\n",
            " 11194 11200 11213 11217 11221 11256 11295 11323 11346 11355 11518 11522\n",
            " 11526 11535 11540 11548 11551 11553 11555 11667 11670 11781 11785 11803\n",
            " 11807 11817 11818 11820 11935 11939 11942 12050 12051 12054 12064 12067\n",
            " 12073 12309 12315 12326 12328 12333 12337 12347 12361 12356 12359 12367\n",
            " 12424 12494 12529 12685 12698 12710 12719 12721 12733 12735 12778 12779\n",
            " 12782 12783 12788 12803 12829 12836 12839 12854 12865 12869 12903 13054\n",
            " 13070 13084 13090 13093 13105 13157 13339 13345 13361 13365 13373 13377\n",
            " 13384 13386 13388 13391 13392 13448 13691 13739 13741 13748 13753 13754\n",
            " 13756 13758 13759 13761 13763 13765 13766 13767 13771 13776 13778 13781\n",
            " 13787 13974 14157 14164 14166 14167 14173 14176 14178 14179 14182 14191\n",
            " 14192 14197 14200 14201 14202 14204 14205 14206 14210 14227 14229 14231\n",
            " 14232 14237 14239 14252 14272 14276 14454 14457 14458 14459 14460 14461\n",
            " 14463 14464 14466 14469 14473 14474 14475 14476 14477 14480 14517 14485\n",
            " 14492 14493 14515 14578 14597 14618 14741 14742 14743 14745 14746 14753\n",
            " 14763 14764 14771 14772 14780 14784 14834 15035 15036 15038 15039 15041\n",
            " 15043 15044 15049 15056 15058 15059 15067 15070 15085 15206 15209 15218\n",
            " 15260 15284 15410 15412 15414 15417 15419 15421 15422 15424 15426 15433\n",
            " 15445 15446 15447 15508 15582 15592 15597 15716 15719 15721 15723 15724\n",
            " 15731 15732 15733 15734 15735 15737 15749 15752 15901 15902 16040 16044\n",
            " 16068 16071 16079 16083 16090 16195 16238 16330 16355 16361 16363 16364\n",
            " 16441]\n",
            "['Breakdown_or_Running_Late'] [1]\n",
            "['School_Age_or_PreK'] [1]\n"
          ]
        }
      ]
    },
    {
      "cell_type": "markdown",
      "source": [
        "**here can show eche columns what contain**"
      ],
      "metadata": {
        "id": "ue51G1wmeboS"
      },
      "id": "ue51G1wmeboS"
    },
    {
      "cell_type": "code",
      "source": [
        "!pip install skimpy\n",
        "from skimpy import skim"
      ],
      "metadata": {
        "colab": {
          "base_uri": "https://localhost:8080/"
        },
        "id": "QjjsLnwDY1YA",
        "outputId": "2badedac-bf1d-4cf0-c438-187985f515b0"
      },
      "id": "QjjsLnwDY1YA",
      "execution_count": 49,
      "outputs": [
        {
          "output_type": "stream",
          "name": "stdout",
          "text": [
            "Requirement already satisfied: skimpy in /usr/local/lib/python3.10/dist-packages (0.0.15)\n",
            "Requirement already satisfied: Pygments<3.0.0,>=2.10.0 in /usr/local/lib/python3.10/dist-packages (from skimpy) (2.16.1)\n",
            "Requirement already satisfied: click<9.0.0,>=8.1.6 in /usr/local/lib/python3.10/dist-packages (from skimpy) (8.1.7)\n",
            "Requirement already satisfied: ipykernel<7.0.0,>=6.7.0 in /usr/local/lib/python3.10/dist-packages (from skimpy) (6.29.5)\n",
            "Requirement already satisfied: numpy<2.0.0,>=1.22.2 in /usr/local/lib/python3.10/dist-packages (from skimpy) (1.26.4)\n",
            "Requirement already satisfied: pandas<3.0.0,>=2.0.3 in /usr/local/lib/python3.10/dist-packages (from skimpy) (2.1.4)\n",
            "Requirement already satisfied: polars<0.21,>=0.19 in /usr/local/lib/python3.10/dist-packages (from skimpy) (0.20.2)\n",
            "Requirement already satisfied: pyarrow<17,>=13 in /usr/local/lib/python3.10/dist-packages (from skimpy) (14.0.2)\n",
            "Requirement already satisfied: rich<14.0,>=10.9 in /usr/local/lib/python3.10/dist-packages (from skimpy) (13.7.1)\n",
            "Requirement already satisfied: typeguard==4.2.1 in /usr/local/lib/python3.10/dist-packages (from skimpy) (4.2.1)\n",
            "Requirement already satisfied: typing-extensions>=4.10.0 in /usr/local/lib/python3.10/dist-packages (from typeguard==4.2.1->skimpy) (4.12.2)\n",
            "Requirement already satisfied: comm>=0.1.1 in /usr/local/lib/python3.10/dist-packages (from ipykernel<7.0.0,>=6.7.0->skimpy) (0.2.2)\n",
            "Requirement already satisfied: debugpy>=1.6.5 in /usr/local/lib/python3.10/dist-packages (from ipykernel<7.0.0,>=6.7.0->skimpy) (1.6.6)\n",
            "Requirement already satisfied: ipython>=7.23.1 in /usr/local/lib/python3.10/dist-packages (from ipykernel<7.0.0,>=6.7.0->skimpy) (7.34.0)\n",
            "Requirement already satisfied: jupyter-client>=6.1.12 in /usr/local/lib/python3.10/dist-packages (from ipykernel<7.0.0,>=6.7.0->skimpy) (6.1.12)\n",
            "Requirement already satisfied: jupyter-core!=5.0.*,>=4.12 in /usr/local/lib/python3.10/dist-packages (from ipykernel<7.0.0,>=6.7.0->skimpy) (5.7.2)\n",
            "Requirement already satisfied: matplotlib-inline>=0.1 in /usr/local/lib/python3.10/dist-packages (from ipykernel<7.0.0,>=6.7.0->skimpy) (0.1.7)\n",
            "Requirement already satisfied: nest-asyncio in /usr/local/lib/python3.10/dist-packages (from ipykernel<7.0.0,>=6.7.0->skimpy) (1.6.0)\n",
            "Requirement already satisfied: packaging in /usr/local/lib/python3.10/dist-packages (from ipykernel<7.0.0,>=6.7.0->skimpy) (24.1)\n",
            "Requirement already satisfied: psutil in /usr/local/lib/python3.10/dist-packages (from ipykernel<7.0.0,>=6.7.0->skimpy) (5.9.5)\n",
            "Requirement already satisfied: pyzmq>=24 in /usr/local/lib/python3.10/dist-packages (from ipykernel<7.0.0,>=6.7.0->skimpy) (24.0.1)\n",
            "Requirement already satisfied: tornado>=6.1 in /usr/local/lib/python3.10/dist-packages (from ipykernel<7.0.0,>=6.7.0->skimpy) (6.3.3)\n",
            "Requirement already satisfied: traitlets>=5.4.0 in /usr/local/lib/python3.10/dist-packages (from ipykernel<7.0.0,>=6.7.0->skimpy) (5.7.1)\n",
            "Requirement already satisfied: python-dateutil>=2.8.2 in /usr/local/lib/python3.10/dist-packages (from pandas<3.0.0,>=2.0.3->skimpy) (2.8.2)\n",
            "Requirement already satisfied: pytz>=2020.1 in /usr/local/lib/python3.10/dist-packages (from pandas<3.0.0,>=2.0.3->skimpy) (2024.1)\n",
            "Requirement already satisfied: tzdata>=2022.1 in /usr/local/lib/python3.10/dist-packages (from pandas<3.0.0,>=2.0.3->skimpy) (2024.1)\n",
            "Requirement already satisfied: markdown-it-py>=2.2.0 in /usr/local/lib/python3.10/dist-packages (from rich<14.0,>=10.9->skimpy) (3.0.0)\n",
            "Requirement already satisfied: setuptools>=18.5 in /usr/local/lib/python3.10/dist-packages (from ipython>=7.23.1->ipykernel<7.0.0,>=6.7.0->skimpy) (71.0.4)\n",
            "Requirement already satisfied: jedi>=0.16 in /usr/local/lib/python3.10/dist-packages (from ipython>=7.23.1->ipykernel<7.0.0,>=6.7.0->skimpy) (0.19.1)\n",
            "Requirement already satisfied: decorator in /usr/local/lib/python3.10/dist-packages (from ipython>=7.23.1->ipykernel<7.0.0,>=6.7.0->skimpy) (4.4.2)\n",
            "Requirement already satisfied: pickleshare in /usr/local/lib/python3.10/dist-packages (from ipython>=7.23.1->ipykernel<7.0.0,>=6.7.0->skimpy) (0.7.5)\n",
            "Requirement already satisfied: prompt-toolkit!=3.0.0,!=3.0.1,<3.1.0,>=2.0.0 in /usr/local/lib/python3.10/dist-packages (from ipython>=7.23.1->ipykernel<7.0.0,>=6.7.0->skimpy) (3.0.47)\n",
            "Requirement already satisfied: backcall in /usr/local/lib/python3.10/dist-packages (from ipython>=7.23.1->ipykernel<7.0.0,>=6.7.0->skimpy) (0.2.0)\n",
            "Requirement already satisfied: pexpect>4.3 in /usr/local/lib/python3.10/dist-packages (from ipython>=7.23.1->ipykernel<7.0.0,>=6.7.0->skimpy) (4.9.0)\n",
            "Requirement already satisfied: platformdirs>=2.5 in /usr/local/lib/python3.10/dist-packages (from jupyter-core!=5.0.*,>=4.12->ipykernel<7.0.0,>=6.7.0->skimpy) (4.2.2)\n",
            "Requirement already satisfied: mdurl~=0.1 in /usr/local/lib/python3.10/dist-packages (from markdown-it-py>=2.2.0->rich<14.0,>=10.9->skimpy) (0.1.2)\n",
            "Requirement already satisfied: six>=1.5 in /usr/local/lib/python3.10/dist-packages (from python-dateutil>=2.8.2->pandas<3.0.0,>=2.0.3->skimpy) (1.16.0)\n",
            "Requirement already satisfied: parso<0.9.0,>=0.8.3 in /usr/local/lib/python3.10/dist-packages (from jedi>=0.16->ipython>=7.23.1->ipykernel<7.0.0,>=6.7.0->skimpy) (0.8.4)\n",
            "Requirement already satisfied: ptyprocess>=0.5 in /usr/local/lib/python3.10/dist-packages (from pexpect>4.3->ipython>=7.23.1->ipykernel<7.0.0,>=6.7.0->skimpy) (0.7.0)\n",
            "Requirement already satisfied: wcwidth in /usr/local/lib/python3.10/dist-packages (from prompt-toolkit!=3.0.0,!=3.0.1,<3.1.0,>=2.0.0->ipython>=7.23.1->ipykernel<7.0.0,>=6.7.0->skimpy) (0.2.13)\n"
          ]
        }
      ]
    },
    {
      "cell_type": "code",
      "source": [
        "skim(df)"
      ],
      "metadata": {
        "colab": {
          "base_uri": "https://localhost:8080/",
          "height": 832
        },
        "id": "wfNgrfFrZ6sU",
        "outputId": "7fdcd75a-002d-4e25-9528-5b1425a8cbc0"
      },
      "id": "wfNgrfFrZ6sU",
      "execution_count": 50,
      "outputs": [
        {
          "output_type": "display_data",
          "data": {
            "text/plain": [
              "╭──────────────────────────────────────────────── skimpy summary ─────────────────────────────────────────────────╮\n",
              "│ \u001b[3m         Data Summary         \u001b[0m \u001b[3m      Data Types       \u001b[0m                                                          │\n",
              "│ ┏━━━━━━━━━━━━━━━━━━━┳━━━━━━━━┓ ┏━━━━━━━━━━━━━┳━━━━━━━┓                                                          │\n",
              "│ ┃\u001b[1;36m \u001b[0m\u001b[1;36mdataframe        \u001b[0m\u001b[1;36m \u001b[0m┃\u001b[1;36m \u001b[0m\u001b[1;36mValues\u001b[0m\u001b[1;36m \u001b[0m┃ ┃\u001b[1;36m \u001b[0m\u001b[1;36mColumn Type\u001b[0m\u001b[1;36m \u001b[0m┃\u001b[1;36m \u001b[0m\u001b[1;36mCount\u001b[0m\u001b[1;36m \u001b[0m┃                                                          │\n",
              "│ ┡━━━━━━━━━━━━━━━━━━━╇━━━━━━━━┩ ┡━━━━━━━━━━━━━╇━━━━━━━┩                                                          │\n",
              "│ │ Number of rows    │ 385    │ │ int64       │ 20    │                                                          │\n",
              "│ │ Number of columns │ 21     │ │ float64     │ 1     │                                                          │\n",
              "│ └───────────────────┴────────┘ └─────────────┴───────┘                                                          │\n",
              "│ \u001b[3m                                                    number                                                    \u001b[0m  │\n",
              "│ ┏━━━━━━━━━━━━━━━━━━━┳━━━━┳━━━━━━┳━━━━━━━━━┳━━━━━━━┳━━━━━━━━━┳━━━━━━━━━┳━━━━━━━━━┳━━━━━━━━━┳━━━━━━━━━┳━━━━━━━━┓  │\n",
              "│ ┃\u001b[1m \u001b[0m\u001b[1mcolumn_name      \u001b[0m\u001b[1m \u001b[0m┃\u001b[1m \u001b[0m\u001b[1mNA\u001b[0m\u001b[1m \u001b[0m┃\u001b[1m \u001b[0m\u001b[1mNA %\u001b[0m\u001b[1m \u001b[0m┃\u001b[1m \u001b[0m\u001b[1mmean   \u001b[0m\u001b[1m \u001b[0m┃\u001b[1m \u001b[0m\u001b[1msd   \u001b[0m\u001b[1m \u001b[0m┃\u001b[1m \u001b[0m\u001b[1mp0     \u001b[0m\u001b[1m \u001b[0m┃\u001b[1m \u001b[0m\u001b[1mp25    \u001b[0m\u001b[1m \u001b[0m┃\u001b[1m \u001b[0m\u001b[1mp50    \u001b[0m\u001b[1m \u001b[0m┃\u001b[1m \u001b[0m\u001b[1mp75    \u001b[0m\u001b[1m \u001b[0m┃\u001b[1m \u001b[0m\u001b[1mp100   \u001b[0m\u001b[1m \u001b[0m┃\u001b[1m \u001b[0m\u001b[1mhist  \u001b[0m\u001b[1m \u001b[0m┃  │\n",
              "│ ┡━━━━━━━━━━━━━━━━━━━╇━━━━╇━━━━━━╇━━━━━━━━━╇━━━━━━━╇━━━━━━━━━╇━━━━━━━━━╇━━━━━━━━━╇━━━━━━━━━╇━━━━━━━━━╇━━━━━━━━┩  │\n",
              "│ │ \u001b[38;5;141mSchool_Year      \u001b[0m │ \u001b[36m 0\u001b[0m │ \u001b[36m   0\u001b[0m │ \u001b[36m      0\u001b[0m │ \u001b[36m    0\u001b[0m │ \u001b[36m      0\u001b[0m │ \u001b[36m      0\u001b[0m │ \u001b[36m      0\u001b[0m │ \u001b[36m      0\u001b[0m │ \u001b[36m      0\u001b[0m │ \u001b[32m    ▇ \u001b[0m │  │\n",
              "│ │ \u001b[38;5;141mBusbreakdown_ID  \u001b[0m │ \u001b[36m 0\u001b[0m │ \u001b[36m   0\u001b[0m │ \u001b[36m1231000\u001b[0m │ \u001b[36m 3605\u001b[0m │ \u001b[36m1215000\u001b[0m │ \u001b[36m1228000\u001b[0m │ \u001b[36m1231000\u001b[0m │ \u001b[36m1234000\u001b[0m │ \u001b[36m1236000\u001b[0m │ \u001b[32m  ▂▅▆▇\u001b[0m │  │\n",
              "│ │ \u001b[38;5;141mRun_Type         \u001b[0m │ \u001b[36m 0\u001b[0m │ \u001b[36m   0\u001b[0m │ \u001b[36m      6\u001b[0m │ \u001b[36m    0\u001b[0m │ \u001b[36m      6\u001b[0m │ \u001b[36m      6\u001b[0m │ \u001b[36m      6\u001b[0m │ \u001b[36m      6\u001b[0m │ \u001b[36m      6\u001b[0m │ \u001b[32m    ▇ \u001b[0m │  │\n",
              "│ │ \u001b[38;5;141mBus_No           \u001b[0m │ \u001b[36m 0\u001b[0m │ \u001b[36m   0\u001b[0m │ \u001b[36m  795.8\u001b[0m │ \u001b[36m73.88\u001b[0m │ \u001b[36m    643\u001b[0m │ \u001b[36m    728\u001b[0m │ \u001b[36m    796\u001b[0m │ \u001b[36m    859\u001b[0m │ \u001b[36m   1018\u001b[0m │ \u001b[32m▃▆▆▇▂ \u001b[0m │  │\n",
              "│ │ \u001b[38;5;141mRoute_Number     \u001b[0m │ \u001b[36m 0\u001b[0m │ \u001b[36m   0\u001b[0m │ \u001b[36m   2001\u001b[0m │ \u001b[36m188.7\u001b[0m │ \u001b[36m   1537\u001b[0m │ \u001b[36m   1890\u001b[0m │ \u001b[36m   2005\u001b[0m │ \u001b[36m   2130\u001b[0m │ \u001b[36m   2296\u001b[0m │ \u001b[32m ▃▁▇▃▅\u001b[0m │  │\n",
              "│ │ \u001b[38;5;141mReason           \u001b[0m │ \u001b[36m 0\u001b[0m │ \u001b[36m   0\u001b[0m │ \u001b[36m      3\u001b[0m │ \u001b[36m    0\u001b[0m │ \u001b[36m      3\u001b[0m │ \u001b[36m      3\u001b[0m │ \u001b[36m      3\u001b[0m │ \u001b[36m      3\u001b[0m │ \u001b[36m      3\u001b[0m │ \u001b[32m    ▇ \u001b[0m │  │\n",
              "│ │ \u001b[38;5;141mSchools_Serviced \u001b[0m │ \u001b[36m 0\u001b[0m │ \u001b[36m   0\u001b[0m │ \u001b[36m  145.6\u001b[0m │ \u001b[36m100.3\u001b[0m │ \u001b[36m      3\u001b[0m │ \u001b[36m     50\u001b[0m │ \u001b[36m    116\u001b[0m │ \u001b[36m    215\u001b[0m │ \u001b[36m    336\u001b[0m │ \u001b[32m▇▇▃▇▂▅\u001b[0m │  │\n",
              "│ │ \u001b[38;5;141mOccurred_On      \u001b[0m │ \u001b[36m 0\u001b[0m │ \u001b[36m   0\u001b[0m │ \u001b[36m   5696\u001b[0m │ \u001b[36m 1540\u001b[0m │ \u001b[36m   1195\u001b[0m │ \u001b[36m   4395\u001b[0m │ \u001b[36m   6034\u001b[0m │ \u001b[36m   6994\u001b[0m │ \u001b[36m   8017\u001b[0m │ \u001b[32m ▃▅▅▇▇\u001b[0m │  │\n",
              "│ │ \u001b[38;5;141mCreated_On       \u001b[0m │ \u001b[36m 0\u001b[0m │ \u001b[36m   0\u001b[0m │ \u001b[36m   6371\u001b[0m │ \u001b[36m 1663\u001b[0m │ \u001b[36m   1369\u001b[0m │ \u001b[36m   4973\u001b[0m │ \u001b[36m   6719\u001b[0m │ \u001b[36m   7772\u001b[0m │ \u001b[36m   8879\u001b[0m │ \u001b[32m ▂▅▅▆▇\u001b[0m │  │\n",
              "│ │ \u001b[38;5;141mBoro             \u001b[0m │ \u001b[36m 0\u001b[0m │ \u001b[36m   0\u001b[0m │ \u001b[36m      4\u001b[0m │ \u001b[36m    0\u001b[0m │ \u001b[36m      4\u001b[0m │ \u001b[36m      4\u001b[0m │ \u001b[36m      4\u001b[0m │ \u001b[36m      4\u001b[0m │ \u001b[36m      4\u001b[0m │ \u001b[32m    ▇ \u001b[0m │  │\n",
              "│ │ \u001b[38;5;141mBus_Company_Name \u001b[0m │ \u001b[36m 0\u001b[0m │ \u001b[36m   0\u001b[0m │ \u001b[36m     34\u001b[0m │ \u001b[36m    0\u001b[0m │ \u001b[36m     34\u001b[0m │ \u001b[36m     34\u001b[0m │ \u001b[36m     34\u001b[0m │ \u001b[36m     34\u001b[0m │ \u001b[36m     34\u001b[0m │ \u001b[32m    ▇ \u001b[0m │  │\n",
              "│ │ \u001b[38;5;141mHow_Long_Delayed \u001b[0m │ \u001b[36m 0\u001b[0m │ \u001b[36m   0\u001b[0m │ \u001b[36m    219\u001b[0m │ \u001b[36m    0\u001b[0m │ \u001b[36m    219\u001b[0m │ \u001b[36m    219\u001b[0m │ \u001b[36m    219\u001b[0m │ \u001b[36m    219\u001b[0m │ \u001b[36m    219\u001b[0m │ \u001b[32m    ▇ \u001b[0m │  │\n",
              "│ │ \u001b[38;5;141mNumber_Of_Student\u001b[0m │ \u001b[36m 0\u001b[0m │ \u001b[36m   0\u001b[0m │ \u001b[36m      3\u001b[0m │ \u001b[36m    0\u001b[0m │ \u001b[36m      3\u001b[0m │ \u001b[36m      3\u001b[0m │ \u001b[36m      3\u001b[0m │ \u001b[36m      3\u001b[0m │ \u001b[36m      3\u001b[0m │ \u001b[32m    ▇ \u001b[0m │  │\n",
              "│ │ \u001b[38;5;141ms_On_The_Bus     \u001b[0m │    │      │         │       │         │         │         │         │         │        │  │\n",
              "│ │ \u001b[38;5;141mHas_Contractor_No\u001b[0m │ \u001b[36m 0\u001b[0m │ \u001b[36m   0\u001b[0m │ \u001b[36m      1\u001b[0m │ \u001b[36m    0\u001b[0m │ \u001b[36m      1\u001b[0m │ \u001b[36m      1\u001b[0m │ \u001b[36m      1\u001b[0m │ \u001b[36m      1\u001b[0m │ \u001b[36m      1\u001b[0m │ \u001b[32m    ▇ \u001b[0m │  │\n",
              "│ │ \u001b[38;5;141mtified_Schools   \u001b[0m │    │      │         │       │         │         │         │         │         │        │  │\n",
              "│ │ \u001b[38;5;141mHas_Contractor_No\u001b[0m │ \u001b[36m 0\u001b[0m │ \u001b[36m   0\u001b[0m │ \u001b[36m      1\u001b[0m │ \u001b[36m    0\u001b[0m │ \u001b[36m      1\u001b[0m │ \u001b[36m      1\u001b[0m │ \u001b[36m      1\u001b[0m │ \u001b[36m      1\u001b[0m │ \u001b[36m      1\u001b[0m │ \u001b[32m    ▇ \u001b[0m │  │\n",
              "│ │ \u001b[38;5;141mtified_Parents   \u001b[0m │    │      │         │       │         │         │         │         │         │        │  │\n",
              "│ │ \u001b[38;5;141mHave_You_Alerted_\u001b[0m │ \u001b[36m 0\u001b[0m │ \u001b[36m   0\u001b[0m │ \u001b[36m      0\u001b[0m │ \u001b[36m    0\u001b[0m │ \u001b[36m      0\u001b[0m │ \u001b[36m      0\u001b[0m │ \u001b[36m      0\u001b[0m │ \u001b[36m      0\u001b[0m │ \u001b[36m      0\u001b[0m │ \u001b[32m    ▇ \u001b[0m │  │\n",
              "│ │ \u001b[38;5;141mOPT              \u001b[0m │    │      │         │       │         │         │         │         │         │        │  │\n",
              "│ │ \u001b[38;5;141mInformed_On      \u001b[0m │ \u001b[36m 0\u001b[0m │ \u001b[36m   0\u001b[0m │ \u001b[36m   6371\u001b[0m │ \u001b[36m 1663\u001b[0m │ \u001b[36m   1369\u001b[0m │ \u001b[36m   4973\u001b[0m │ \u001b[36m   6719\u001b[0m │ \u001b[36m   7772\u001b[0m │ \u001b[36m   8879\u001b[0m │ \u001b[32m ▂▅▅▆▇\u001b[0m │  │\n",
              "│ │ \u001b[38;5;141mIncident_Number  \u001b[0m │ \u001b[36m 0\u001b[0m │ \u001b[36m   0\u001b[0m │ \u001b[36m     33\u001b[0m │ \u001b[36m    0\u001b[0m │ \u001b[36m     33\u001b[0m │ \u001b[36m     33\u001b[0m │ \u001b[36m     33\u001b[0m │ \u001b[36m     33\u001b[0m │ \u001b[36m     33\u001b[0m │ \u001b[32m    ▇ \u001b[0m │  │\n",
              "│ │ \u001b[38;5;141mLast_Updated_On  \u001b[0m │ \u001b[36m 0\u001b[0m │ \u001b[36m   0\u001b[0m │ \u001b[36m  11850\u001b[0m │ \u001b[36m 3065\u001b[0m │ \u001b[36m   2613\u001b[0m │ \u001b[36m   9296\u001b[0m │ \u001b[36m  12420\u001b[0m │ \u001b[36m  14460\u001b[0m │ \u001b[36m  16440\u001b[0m │ \u001b[32m ▂▅▅▅▇\u001b[0m │  │\n",
              "│ │ \u001b[38;5;141mBreakdown_or_Runn\u001b[0m │ \u001b[36m 0\u001b[0m │ \u001b[36m   0\u001b[0m │ \u001b[36m      1\u001b[0m │ \u001b[36m    0\u001b[0m │ \u001b[36m      1\u001b[0m │ \u001b[36m      1\u001b[0m │ \u001b[36m      1\u001b[0m │ \u001b[36m      1\u001b[0m │ \u001b[36m      1\u001b[0m │ \u001b[32m    ▇ \u001b[0m │  │\n",
              "│ │ \u001b[38;5;141ming_Late         \u001b[0m │    │      │         │       │         │         │         │         │         │        │  │\n",
              "│ │ \u001b[38;5;141mSchool_Age_or_Pre\u001b[0m │ \u001b[36m 0\u001b[0m │ \u001b[36m   0\u001b[0m │ \u001b[36m      1\u001b[0m │ \u001b[36m    0\u001b[0m │ \u001b[36m      1\u001b[0m │ \u001b[36m      1\u001b[0m │ \u001b[36m      1\u001b[0m │ \u001b[36m      1\u001b[0m │ \u001b[36m      1\u001b[0m │ \u001b[32m    ▇ \u001b[0m │  │\n",
              "│ │ \u001b[38;5;141mK                \u001b[0m │    │      │         │       │         │         │         │         │         │        │  │\n",
              "│ └───────────────────┴────┴──────┴─────────┴───────┴─────────┴─────────┴─────────┴─────────┴─────────┴────────┘  │\n",
              "╰────────────────────────────────────────────────────── End ──────────────────────────────────────────────────────╯\n"
            ],
            "text/html": [
              "<pre style=\"white-space:pre;overflow-x:auto;line-height:normal;font-family:Menlo,'DejaVu Sans Mono',consolas,'Courier New',monospace\">╭──────────────────────────────────────────────── skimpy summary ─────────────────────────────────────────────────╮\n",
              "│ <span style=\"font-style: italic\">         Data Summary         </span> <span style=\"font-style: italic\">      Data Types       </span>                                                          │\n",
              "│ ┏━━━━━━━━━━━━━━━━━━━┳━━━━━━━━┓ ┏━━━━━━━━━━━━━┳━━━━━━━┓                                                          │\n",
              "│ ┃<span style=\"color: #008080; text-decoration-color: #008080; font-weight: bold\"> dataframe         </span>┃<span style=\"color: #008080; text-decoration-color: #008080; font-weight: bold\"> Values </span>┃ ┃<span style=\"color: #008080; text-decoration-color: #008080; font-weight: bold\"> Column Type </span>┃<span style=\"color: #008080; text-decoration-color: #008080; font-weight: bold\"> Count </span>┃                                                          │\n",
              "│ ┡━━━━━━━━━━━━━━━━━━━╇━━━━━━━━┩ ┡━━━━━━━━━━━━━╇━━━━━━━┩                                                          │\n",
              "│ │ Number of rows    │ 385    │ │ int64       │ 20    │                                                          │\n",
              "│ │ Number of columns │ 21     │ │ float64     │ 1     │                                                          │\n",
              "│ └───────────────────┴────────┘ └─────────────┴───────┘                                                          │\n",
              "│ <span style=\"font-style: italic\">                                                    number                                                    </span>  │\n",
              "│ ┏━━━━━━━━━━━━━━━━━━━┳━━━━┳━━━━━━┳━━━━━━━━━┳━━━━━━━┳━━━━━━━━━┳━━━━━━━━━┳━━━━━━━━━┳━━━━━━━━━┳━━━━━━━━━┳━━━━━━━━┓  │\n",
              "│ ┃<span style=\"font-weight: bold\"> column_name       </span>┃<span style=\"font-weight: bold\"> NA </span>┃<span style=\"font-weight: bold\"> NA % </span>┃<span style=\"font-weight: bold\"> mean    </span>┃<span style=\"font-weight: bold\"> sd    </span>┃<span style=\"font-weight: bold\"> p0      </span>┃<span style=\"font-weight: bold\"> p25     </span>┃<span style=\"font-weight: bold\"> p50     </span>┃<span style=\"font-weight: bold\"> p75     </span>┃<span style=\"font-weight: bold\"> p100    </span>┃<span style=\"font-weight: bold\"> hist   </span>┃  │\n",
              "│ ┡━━━━━━━━━━━━━━━━━━━╇━━━━╇━━━━━━╇━━━━━━━━━╇━━━━━━━╇━━━━━━━━━╇━━━━━━━━━╇━━━━━━━━━╇━━━━━━━━━╇━━━━━━━━━╇━━━━━━━━┩  │\n",
              "│ │ <span style=\"color: #af87ff; text-decoration-color: #af87ff\">School_Year      </span> │ <span style=\"color: #008080; text-decoration-color: #008080\"> 0</span> │ <span style=\"color: #008080; text-decoration-color: #008080\">   0</span> │ <span style=\"color: #008080; text-decoration-color: #008080\">      0</span> │ <span style=\"color: #008080; text-decoration-color: #008080\">    0</span> │ <span style=\"color: #008080; text-decoration-color: #008080\">      0</span> │ <span style=\"color: #008080; text-decoration-color: #008080\">      0</span> │ <span style=\"color: #008080; text-decoration-color: #008080\">      0</span> │ <span style=\"color: #008080; text-decoration-color: #008080\">      0</span> │ <span style=\"color: #008080; text-decoration-color: #008080\">      0</span> │ <span style=\"color: #008000; text-decoration-color: #008000\">    ▇ </span> │  │\n",
              "│ │ <span style=\"color: #af87ff; text-decoration-color: #af87ff\">Busbreakdown_ID  </span> │ <span style=\"color: #008080; text-decoration-color: #008080\"> 0</span> │ <span style=\"color: #008080; text-decoration-color: #008080\">   0</span> │ <span style=\"color: #008080; text-decoration-color: #008080\">1231000</span> │ <span style=\"color: #008080; text-decoration-color: #008080\"> 3605</span> │ <span style=\"color: #008080; text-decoration-color: #008080\">1215000</span> │ <span style=\"color: #008080; text-decoration-color: #008080\">1228000</span> │ <span style=\"color: #008080; text-decoration-color: #008080\">1231000</span> │ <span style=\"color: #008080; text-decoration-color: #008080\">1234000</span> │ <span style=\"color: #008080; text-decoration-color: #008080\">1236000</span> │ <span style=\"color: #008000; text-decoration-color: #008000\">  ▂▅▆▇</span> │  │\n",
              "│ │ <span style=\"color: #af87ff; text-decoration-color: #af87ff\">Run_Type         </span> │ <span style=\"color: #008080; text-decoration-color: #008080\"> 0</span> │ <span style=\"color: #008080; text-decoration-color: #008080\">   0</span> │ <span style=\"color: #008080; text-decoration-color: #008080\">      6</span> │ <span style=\"color: #008080; text-decoration-color: #008080\">    0</span> │ <span style=\"color: #008080; text-decoration-color: #008080\">      6</span> │ <span style=\"color: #008080; text-decoration-color: #008080\">      6</span> │ <span style=\"color: #008080; text-decoration-color: #008080\">      6</span> │ <span style=\"color: #008080; text-decoration-color: #008080\">      6</span> │ <span style=\"color: #008080; text-decoration-color: #008080\">      6</span> │ <span style=\"color: #008000; text-decoration-color: #008000\">    ▇ </span> │  │\n",
              "│ │ <span style=\"color: #af87ff; text-decoration-color: #af87ff\">Bus_No           </span> │ <span style=\"color: #008080; text-decoration-color: #008080\"> 0</span> │ <span style=\"color: #008080; text-decoration-color: #008080\">   0</span> │ <span style=\"color: #008080; text-decoration-color: #008080\">  795.8</span> │ <span style=\"color: #008080; text-decoration-color: #008080\">73.88</span> │ <span style=\"color: #008080; text-decoration-color: #008080\">    643</span> │ <span style=\"color: #008080; text-decoration-color: #008080\">    728</span> │ <span style=\"color: #008080; text-decoration-color: #008080\">    796</span> │ <span style=\"color: #008080; text-decoration-color: #008080\">    859</span> │ <span style=\"color: #008080; text-decoration-color: #008080\">   1018</span> │ <span style=\"color: #008000; text-decoration-color: #008000\">▃▆▆▇▂ </span> │  │\n",
              "│ │ <span style=\"color: #af87ff; text-decoration-color: #af87ff\">Route_Number     </span> │ <span style=\"color: #008080; text-decoration-color: #008080\"> 0</span> │ <span style=\"color: #008080; text-decoration-color: #008080\">   0</span> │ <span style=\"color: #008080; text-decoration-color: #008080\">   2001</span> │ <span style=\"color: #008080; text-decoration-color: #008080\">188.7</span> │ <span style=\"color: #008080; text-decoration-color: #008080\">   1537</span> │ <span style=\"color: #008080; text-decoration-color: #008080\">   1890</span> │ <span style=\"color: #008080; text-decoration-color: #008080\">   2005</span> │ <span style=\"color: #008080; text-decoration-color: #008080\">   2130</span> │ <span style=\"color: #008080; text-decoration-color: #008080\">   2296</span> │ <span style=\"color: #008000; text-decoration-color: #008000\"> ▃▁▇▃▅</span> │  │\n",
              "│ │ <span style=\"color: #af87ff; text-decoration-color: #af87ff\">Reason           </span> │ <span style=\"color: #008080; text-decoration-color: #008080\"> 0</span> │ <span style=\"color: #008080; text-decoration-color: #008080\">   0</span> │ <span style=\"color: #008080; text-decoration-color: #008080\">      3</span> │ <span style=\"color: #008080; text-decoration-color: #008080\">    0</span> │ <span style=\"color: #008080; text-decoration-color: #008080\">      3</span> │ <span style=\"color: #008080; text-decoration-color: #008080\">      3</span> │ <span style=\"color: #008080; text-decoration-color: #008080\">      3</span> │ <span style=\"color: #008080; text-decoration-color: #008080\">      3</span> │ <span style=\"color: #008080; text-decoration-color: #008080\">      3</span> │ <span style=\"color: #008000; text-decoration-color: #008000\">    ▇ </span> │  │\n",
              "│ │ <span style=\"color: #af87ff; text-decoration-color: #af87ff\">Schools_Serviced </span> │ <span style=\"color: #008080; text-decoration-color: #008080\"> 0</span> │ <span style=\"color: #008080; text-decoration-color: #008080\">   0</span> │ <span style=\"color: #008080; text-decoration-color: #008080\">  145.6</span> │ <span style=\"color: #008080; text-decoration-color: #008080\">100.3</span> │ <span style=\"color: #008080; text-decoration-color: #008080\">      3</span> │ <span style=\"color: #008080; text-decoration-color: #008080\">     50</span> │ <span style=\"color: #008080; text-decoration-color: #008080\">    116</span> │ <span style=\"color: #008080; text-decoration-color: #008080\">    215</span> │ <span style=\"color: #008080; text-decoration-color: #008080\">    336</span> │ <span style=\"color: #008000; text-decoration-color: #008000\">▇▇▃▇▂▅</span> │  │\n",
              "│ │ <span style=\"color: #af87ff; text-decoration-color: #af87ff\">Occurred_On      </span> │ <span style=\"color: #008080; text-decoration-color: #008080\"> 0</span> │ <span style=\"color: #008080; text-decoration-color: #008080\">   0</span> │ <span style=\"color: #008080; text-decoration-color: #008080\">   5696</span> │ <span style=\"color: #008080; text-decoration-color: #008080\"> 1540</span> │ <span style=\"color: #008080; text-decoration-color: #008080\">   1195</span> │ <span style=\"color: #008080; text-decoration-color: #008080\">   4395</span> │ <span style=\"color: #008080; text-decoration-color: #008080\">   6034</span> │ <span style=\"color: #008080; text-decoration-color: #008080\">   6994</span> │ <span style=\"color: #008080; text-decoration-color: #008080\">   8017</span> │ <span style=\"color: #008000; text-decoration-color: #008000\"> ▃▅▅▇▇</span> │  │\n",
              "│ │ <span style=\"color: #af87ff; text-decoration-color: #af87ff\">Created_On       </span> │ <span style=\"color: #008080; text-decoration-color: #008080\"> 0</span> │ <span style=\"color: #008080; text-decoration-color: #008080\">   0</span> │ <span style=\"color: #008080; text-decoration-color: #008080\">   6371</span> │ <span style=\"color: #008080; text-decoration-color: #008080\"> 1663</span> │ <span style=\"color: #008080; text-decoration-color: #008080\">   1369</span> │ <span style=\"color: #008080; text-decoration-color: #008080\">   4973</span> │ <span style=\"color: #008080; text-decoration-color: #008080\">   6719</span> │ <span style=\"color: #008080; text-decoration-color: #008080\">   7772</span> │ <span style=\"color: #008080; text-decoration-color: #008080\">   8879</span> │ <span style=\"color: #008000; text-decoration-color: #008000\"> ▂▅▅▆▇</span> │  │\n",
              "│ │ <span style=\"color: #af87ff; text-decoration-color: #af87ff\">Boro             </span> │ <span style=\"color: #008080; text-decoration-color: #008080\"> 0</span> │ <span style=\"color: #008080; text-decoration-color: #008080\">   0</span> │ <span style=\"color: #008080; text-decoration-color: #008080\">      4</span> │ <span style=\"color: #008080; text-decoration-color: #008080\">    0</span> │ <span style=\"color: #008080; text-decoration-color: #008080\">      4</span> │ <span style=\"color: #008080; text-decoration-color: #008080\">      4</span> │ <span style=\"color: #008080; text-decoration-color: #008080\">      4</span> │ <span style=\"color: #008080; text-decoration-color: #008080\">      4</span> │ <span style=\"color: #008080; text-decoration-color: #008080\">      4</span> │ <span style=\"color: #008000; text-decoration-color: #008000\">    ▇ </span> │  │\n",
              "│ │ <span style=\"color: #af87ff; text-decoration-color: #af87ff\">Bus_Company_Name </span> │ <span style=\"color: #008080; text-decoration-color: #008080\"> 0</span> │ <span style=\"color: #008080; text-decoration-color: #008080\">   0</span> │ <span style=\"color: #008080; text-decoration-color: #008080\">     34</span> │ <span style=\"color: #008080; text-decoration-color: #008080\">    0</span> │ <span style=\"color: #008080; text-decoration-color: #008080\">     34</span> │ <span style=\"color: #008080; text-decoration-color: #008080\">     34</span> │ <span style=\"color: #008080; text-decoration-color: #008080\">     34</span> │ <span style=\"color: #008080; text-decoration-color: #008080\">     34</span> │ <span style=\"color: #008080; text-decoration-color: #008080\">     34</span> │ <span style=\"color: #008000; text-decoration-color: #008000\">    ▇ </span> │  │\n",
              "│ │ <span style=\"color: #af87ff; text-decoration-color: #af87ff\">How_Long_Delayed </span> │ <span style=\"color: #008080; text-decoration-color: #008080\"> 0</span> │ <span style=\"color: #008080; text-decoration-color: #008080\">   0</span> │ <span style=\"color: #008080; text-decoration-color: #008080\">    219</span> │ <span style=\"color: #008080; text-decoration-color: #008080\">    0</span> │ <span style=\"color: #008080; text-decoration-color: #008080\">    219</span> │ <span style=\"color: #008080; text-decoration-color: #008080\">    219</span> │ <span style=\"color: #008080; text-decoration-color: #008080\">    219</span> │ <span style=\"color: #008080; text-decoration-color: #008080\">    219</span> │ <span style=\"color: #008080; text-decoration-color: #008080\">    219</span> │ <span style=\"color: #008000; text-decoration-color: #008000\">    ▇ </span> │  │\n",
              "│ │ <span style=\"color: #af87ff; text-decoration-color: #af87ff\">Number_Of_Student</span> │ <span style=\"color: #008080; text-decoration-color: #008080\"> 0</span> │ <span style=\"color: #008080; text-decoration-color: #008080\">   0</span> │ <span style=\"color: #008080; text-decoration-color: #008080\">      3</span> │ <span style=\"color: #008080; text-decoration-color: #008080\">    0</span> │ <span style=\"color: #008080; text-decoration-color: #008080\">      3</span> │ <span style=\"color: #008080; text-decoration-color: #008080\">      3</span> │ <span style=\"color: #008080; text-decoration-color: #008080\">      3</span> │ <span style=\"color: #008080; text-decoration-color: #008080\">      3</span> │ <span style=\"color: #008080; text-decoration-color: #008080\">      3</span> │ <span style=\"color: #008000; text-decoration-color: #008000\">    ▇ </span> │  │\n",
              "│ │ <span style=\"color: #af87ff; text-decoration-color: #af87ff\">s_On_The_Bus     </span> │    │      │         │       │         │         │         │         │         │        │  │\n",
              "│ │ <span style=\"color: #af87ff; text-decoration-color: #af87ff\">Has_Contractor_No</span> │ <span style=\"color: #008080; text-decoration-color: #008080\"> 0</span> │ <span style=\"color: #008080; text-decoration-color: #008080\">   0</span> │ <span style=\"color: #008080; text-decoration-color: #008080\">      1</span> │ <span style=\"color: #008080; text-decoration-color: #008080\">    0</span> │ <span style=\"color: #008080; text-decoration-color: #008080\">      1</span> │ <span style=\"color: #008080; text-decoration-color: #008080\">      1</span> │ <span style=\"color: #008080; text-decoration-color: #008080\">      1</span> │ <span style=\"color: #008080; text-decoration-color: #008080\">      1</span> │ <span style=\"color: #008080; text-decoration-color: #008080\">      1</span> │ <span style=\"color: #008000; text-decoration-color: #008000\">    ▇ </span> │  │\n",
              "│ │ <span style=\"color: #af87ff; text-decoration-color: #af87ff\">tified_Schools   </span> │    │      │         │       │         │         │         │         │         │        │  │\n",
              "│ │ <span style=\"color: #af87ff; text-decoration-color: #af87ff\">Has_Contractor_No</span> │ <span style=\"color: #008080; text-decoration-color: #008080\"> 0</span> │ <span style=\"color: #008080; text-decoration-color: #008080\">   0</span> │ <span style=\"color: #008080; text-decoration-color: #008080\">      1</span> │ <span style=\"color: #008080; text-decoration-color: #008080\">    0</span> │ <span style=\"color: #008080; text-decoration-color: #008080\">      1</span> │ <span style=\"color: #008080; text-decoration-color: #008080\">      1</span> │ <span style=\"color: #008080; text-decoration-color: #008080\">      1</span> │ <span style=\"color: #008080; text-decoration-color: #008080\">      1</span> │ <span style=\"color: #008080; text-decoration-color: #008080\">      1</span> │ <span style=\"color: #008000; text-decoration-color: #008000\">    ▇ </span> │  │\n",
              "│ │ <span style=\"color: #af87ff; text-decoration-color: #af87ff\">tified_Parents   </span> │    │      │         │       │         │         │         │         │         │        │  │\n",
              "│ │ <span style=\"color: #af87ff; text-decoration-color: #af87ff\">Have_You_Alerted_</span> │ <span style=\"color: #008080; text-decoration-color: #008080\"> 0</span> │ <span style=\"color: #008080; text-decoration-color: #008080\">   0</span> │ <span style=\"color: #008080; text-decoration-color: #008080\">      0</span> │ <span style=\"color: #008080; text-decoration-color: #008080\">    0</span> │ <span style=\"color: #008080; text-decoration-color: #008080\">      0</span> │ <span style=\"color: #008080; text-decoration-color: #008080\">      0</span> │ <span style=\"color: #008080; text-decoration-color: #008080\">      0</span> │ <span style=\"color: #008080; text-decoration-color: #008080\">      0</span> │ <span style=\"color: #008080; text-decoration-color: #008080\">      0</span> │ <span style=\"color: #008000; text-decoration-color: #008000\">    ▇ </span> │  │\n",
              "│ │ <span style=\"color: #af87ff; text-decoration-color: #af87ff\">OPT              </span> │    │      │         │       │         │         │         │         │         │        │  │\n",
              "│ │ <span style=\"color: #af87ff; text-decoration-color: #af87ff\">Informed_On      </span> │ <span style=\"color: #008080; text-decoration-color: #008080\"> 0</span> │ <span style=\"color: #008080; text-decoration-color: #008080\">   0</span> │ <span style=\"color: #008080; text-decoration-color: #008080\">   6371</span> │ <span style=\"color: #008080; text-decoration-color: #008080\"> 1663</span> │ <span style=\"color: #008080; text-decoration-color: #008080\">   1369</span> │ <span style=\"color: #008080; text-decoration-color: #008080\">   4973</span> │ <span style=\"color: #008080; text-decoration-color: #008080\">   6719</span> │ <span style=\"color: #008080; text-decoration-color: #008080\">   7772</span> │ <span style=\"color: #008080; text-decoration-color: #008080\">   8879</span> │ <span style=\"color: #008000; text-decoration-color: #008000\"> ▂▅▅▆▇</span> │  │\n",
              "│ │ <span style=\"color: #af87ff; text-decoration-color: #af87ff\">Incident_Number  </span> │ <span style=\"color: #008080; text-decoration-color: #008080\"> 0</span> │ <span style=\"color: #008080; text-decoration-color: #008080\">   0</span> │ <span style=\"color: #008080; text-decoration-color: #008080\">     33</span> │ <span style=\"color: #008080; text-decoration-color: #008080\">    0</span> │ <span style=\"color: #008080; text-decoration-color: #008080\">     33</span> │ <span style=\"color: #008080; text-decoration-color: #008080\">     33</span> │ <span style=\"color: #008080; text-decoration-color: #008080\">     33</span> │ <span style=\"color: #008080; text-decoration-color: #008080\">     33</span> │ <span style=\"color: #008080; text-decoration-color: #008080\">     33</span> │ <span style=\"color: #008000; text-decoration-color: #008000\">    ▇ </span> │  │\n",
              "│ │ <span style=\"color: #af87ff; text-decoration-color: #af87ff\">Last_Updated_On  </span> │ <span style=\"color: #008080; text-decoration-color: #008080\"> 0</span> │ <span style=\"color: #008080; text-decoration-color: #008080\">   0</span> │ <span style=\"color: #008080; text-decoration-color: #008080\">  11850</span> │ <span style=\"color: #008080; text-decoration-color: #008080\"> 3065</span> │ <span style=\"color: #008080; text-decoration-color: #008080\">   2613</span> │ <span style=\"color: #008080; text-decoration-color: #008080\">   9296</span> │ <span style=\"color: #008080; text-decoration-color: #008080\">  12420</span> │ <span style=\"color: #008080; text-decoration-color: #008080\">  14460</span> │ <span style=\"color: #008080; text-decoration-color: #008080\">  16440</span> │ <span style=\"color: #008000; text-decoration-color: #008000\"> ▂▅▅▅▇</span> │  │\n",
              "│ │ <span style=\"color: #af87ff; text-decoration-color: #af87ff\">Breakdown_or_Runn</span> │ <span style=\"color: #008080; text-decoration-color: #008080\"> 0</span> │ <span style=\"color: #008080; text-decoration-color: #008080\">   0</span> │ <span style=\"color: #008080; text-decoration-color: #008080\">      1</span> │ <span style=\"color: #008080; text-decoration-color: #008080\">    0</span> │ <span style=\"color: #008080; text-decoration-color: #008080\">      1</span> │ <span style=\"color: #008080; text-decoration-color: #008080\">      1</span> │ <span style=\"color: #008080; text-decoration-color: #008080\">      1</span> │ <span style=\"color: #008080; text-decoration-color: #008080\">      1</span> │ <span style=\"color: #008080; text-decoration-color: #008080\">      1</span> │ <span style=\"color: #008000; text-decoration-color: #008000\">    ▇ </span> │  │\n",
              "│ │ <span style=\"color: #af87ff; text-decoration-color: #af87ff\">ing_Late         </span> │    │      │         │       │         │         │         │         │         │        │  │\n",
              "│ │ <span style=\"color: #af87ff; text-decoration-color: #af87ff\">School_Age_or_Pre</span> │ <span style=\"color: #008080; text-decoration-color: #008080\"> 0</span> │ <span style=\"color: #008080; text-decoration-color: #008080\">   0</span> │ <span style=\"color: #008080; text-decoration-color: #008080\">      1</span> │ <span style=\"color: #008080; text-decoration-color: #008080\">    0</span> │ <span style=\"color: #008080; text-decoration-color: #008080\">      1</span> │ <span style=\"color: #008080; text-decoration-color: #008080\">      1</span> │ <span style=\"color: #008080; text-decoration-color: #008080\">      1</span> │ <span style=\"color: #008080; text-decoration-color: #008080\">      1</span> │ <span style=\"color: #008080; text-decoration-color: #008080\">      1</span> │ <span style=\"color: #008000; text-decoration-color: #008000\">    ▇ </span> │  │\n",
              "│ │ <span style=\"color: #af87ff; text-decoration-color: #af87ff\">K                </span> │    │      │         │       │         │         │         │         │         │        │  │\n",
              "│ └───────────────────┴────┴──────┴─────────┴───────┴─────────┴─────────┴─────────┴─────────┴─────────┴────────┘  │\n",
              "╰────────────────────────────────────────────────────── End ──────────────────────────────────────────────────────╯\n",
              "</pre>\n"
            ]
          },
          "metadata": {}
        }
      ]
    },
    {
      "cell_type": "markdown",
      "source": [
        "**also do this to show Summary dataset**"
      ],
      "metadata": {
        "id": "wqOUBjvpelR3"
      },
      "id": "wqOUBjvpelR3"
    },
    {
      "cell_type": "code",
      "source": [
        "from sklearn.preprocessing import StandardScaler\n",
        "scaler = StandardScaler()\n",
        "df[numerical_features] = scaler.fit_transform(df[numerical_features])"
      ],
      "metadata": {
        "id": "nI0Cgsj8ZJ-y"
      },
      "id": "nI0Cgsj8ZJ-y",
      "execution_count": 54,
      "outputs": []
    },
    {
      "cell_type": "code",
      "source": [
        "from sklearn.preprocessing import MinMaxScaler\n",
        "\n",
        "scaler = MinMaxScaler()\n",
        "df[numerical_features] = scaler.fit_transform(df[numerical_features])"
      ],
      "metadata": {
        "id": "JkhoUXjlYhFW"
      },
      "id": "JkhoUXjlYhFW",
      "execution_count": 56,
      "outputs": []
    },
    {
      "cell_type": "markdown",
      "id": "bc887660",
      "metadata": {
        "id": "bc887660"
      },
      "source": [
        "## Split the Dataset\n",
        "Next, split the dataset into training, validation, and testing sets."
      ]
    },
    {
      "cell_type": "code",
      "source": [
        "from sklearn.model_selection import train_test_split\n",
        "\n",
        "X = df.drop('Breakdown_or_Running_Late', axis=1)\n",
        "y = df['Breakdown_or_Running_Late']\n",
        "\n",
        "X_train, X_test, y_train, y_test = train_test_split(X, y, test_size=0.3, random_state=42)\n",
        "\n",
        "X_train, X_val, y_train, y_val = train_test_split(X_train, y_train, test_size=0.2, random_state=42)\n",
        "\n",
        "print(\"Training set size:\", X_train.shape)\n",
        "print(\"Validation set size:\", X_val.shape)\n",
        "print(\"Test set size:\", X_test.shape)\n"
      ],
      "metadata": {
        "colab": {
          "base_uri": "https://localhost:8080/"
        },
        "id": "eV_MqCJrENpz",
        "outputId": "4d4420a2-7155-4bea-a13c-e8403bdde236"
      },
      "id": "eV_MqCJrENpz",
      "execution_count": 57,
      "outputs": [
        {
          "output_type": "stream",
          "name": "stdout",
          "text": [
            "Training set size: (215, 20)\n",
            "Validation set size: (54, 20)\n",
            "Test set size: (116, 20)\n"
          ]
        }
      ]
    },
    {
      "cell_type": "markdown",
      "id": "7119b7d7",
      "metadata": {
        "id": "7119b7d7"
      },
      "source": [
        "## Building the ANN Model\n",
        "In this section, define the architecture of the ANN by specifying the number of layers, neurons, and activation functions."
      ]
    },
    {
      "cell_type": "code",
      "source": [
        "from tensorflow.keras.models import Sequential\n",
        "from tensorflow.keras.layers import  Flatten, Dense, Dropout"
      ],
      "metadata": {
        "id": "IF3WrPvGa2Tt"
      },
      "id": "IF3WrPvGa2Tt",
      "execution_count": 60,
      "outputs": []
    },
    {
      "cell_type": "code",
      "execution_count": 61,
      "id": "8532b3b9",
      "metadata": {
        "id": "8532b3b9"
      },
      "outputs": [],
      "source": [
        "model = Sequential([\n",
        "    Dense(64, activation='relu', input_shape=(X_train.shape[1],)),\n",
        "    Dense(32, activation='relu'),\n",
        "      Flatten(),\n",
        "    Dense(512, activation='relu'),\n",
        "     Dropout(0.5),\n",
        "    Dense(1, activation='sigmoid')])"
      ]
    },
    {
      "cell_type": "markdown",
      "source": [
        "here define Dropout to reduse overfiting and make the learning more petter\n",
        "كل ما زدت هيدن لاير كان الاداء افضل ايضًا اقدر استعمل shuffling لتقليل الاوفرفتنق بس شفت اداء المودل فماكان يحتاج اعملها   "
      ],
      "metadata": {
        "id": "lT9eXzNPewcZ"
      },
      "id": "lT9eXzNPewcZ"
    },
    {
      "cell_type": "code",
      "source": [
        "model.summary()"
      ],
      "metadata": {
        "colab": {
          "base_uri": "https://localhost:8080/",
          "height": 336
        },
        "id": "PecFIFa_azpu",
        "outputId": "8312b48c-825f-45a8-afeb-a107b47d2dc9"
      },
      "id": "PecFIFa_azpu",
      "execution_count": 63,
      "outputs": [
        {
          "output_type": "display_data",
          "data": {
            "text/plain": [
              "\u001b[1mModel: \"sequential_1\"\u001b[0m\n"
            ],
            "text/html": [
              "<pre style=\"white-space:pre;overflow-x:auto;line-height:normal;font-family:Menlo,'DejaVu Sans Mono',consolas,'Courier New',monospace\"><span style=\"font-weight: bold\">Model: \"sequential_1\"</span>\n",
              "</pre>\n"
            ]
          },
          "metadata": {}
        },
        {
          "output_type": "display_data",
          "data": {
            "text/plain": [
              "┏━━━━━━━━━━━━━━━━━━━━━━━━━━━━━━━━━━━━━━┳━━━━━━━━━━━━━━━━━━━━━━━━━━━━━┳━━━━━━━━━━━━━━━━━┓\n",
              "┃\u001b[1m \u001b[0m\u001b[1mLayer (type)                        \u001b[0m\u001b[1m \u001b[0m┃\u001b[1m \u001b[0m\u001b[1mOutput Shape               \u001b[0m\u001b[1m \u001b[0m┃\u001b[1m \u001b[0m\u001b[1m        Param #\u001b[0m\u001b[1m \u001b[0m┃\n",
              "┡━━━━━━━━━━━━━━━━━━━━━━━━━━━━━━━━━━━━━━╇━━━━━━━━━━━━━━━━━━━━━━━━━━━━━╇━━━━━━━━━━━━━━━━━┩\n",
              "│ dense_5 (\u001b[38;5;33mDense\u001b[0m)                      │ (\u001b[38;5;45mNone\u001b[0m, \u001b[38;5;34m64\u001b[0m)                  │           \u001b[38;5;34m1,344\u001b[0m │\n",
              "├──────────────────────────────────────┼─────────────────────────────┼─────────────────┤\n",
              "│ dense_6 (\u001b[38;5;33mDense\u001b[0m)                      │ (\u001b[38;5;45mNone\u001b[0m, \u001b[38;5;34m32\u001b[0m)                  │           \u001b[38;5;34m2,080\u001b[0m │\n",
              "├──────────────────────────────────────┼─────────────────────────────┼─────────────────┤\n",
              "│ flatten (\u001b[38;5;33mFlatten\u001b[0m)                    │ (\u001b[38;5;45mNone\u001b[0m, \u001b[38;5;34m32\u001b[0m)                  │               \u001b[38;5;34m0\u001b[0m │\n",
              "├──────────────────────────────────────┼─────────────────────────────┼─────────────────┤\n",
              "│ dense_7 (\u001b[38;5;33mDense\u001b[0m)                      │ (\u001b[38;5;45mNone\u001b[0m, \u001b[38;5;34m512\u001b[0m)                 │          \u001b[38;5;34m16,896\u001b[0m │\n",
              "├──────────────────────────────────────┼─────────────────────────────┼─────────────────┤\n",
              "│ dropout (\u001b[38;5;33mDropout\u001b[0m)                    │ (\u001b[38;5;45mNone\u001b[0m, \u001b[38;5;34m512\u001b[0m)                 │               \u001b[38;5;34m0\u001b[0m │\n",
              "├──────────────────────────────────────┼─────────────────────────────┼─────────────────┤\n",
              "│ dense_8 (\u001b[38;5;33mDense\u001b[0m)                      │ (\u001b[38;5;45mNone\u001b[0m, \u001b[38;5;34m1\u001b[0m)                   │             \u001b[38;5;34m513\u001b[0m │\n",
              "└──────────────────────────────────────┴─────────────────────────────┴─────────────────┘\n"
            ],
            "text/html": [
              "<pre style=\"white-space:pre;overflow-x:auto;line-height:normal;font-family:Menlo,'DejaVu Sans Mono',consolas,'Courier New',monospace\">┏━━━━━━━━━━━━━━━━━━━━━━━━━━━━━━━━━━━━━━┳━━━━━━━━━━━━━━━━━━━━━━━━━━━━━┳━━━━━━━━━━━━━━━━━┓\n",
              "┃<span style=\"font-weight: bold\"> Layer (type)                         </span>┃<span style=\"font-weight: bold\"> Output Shape                </span>┃<span style=\"font-weight: bold\">         Param # </span>┃\n",
              "┡━━━━━━━━━━━━━━━━━━━━━━━━━━━━━━━━━━━━━━╇━━━━━━━━━━━━━━━━━━━━━━━━━━━━━╇━━━━━━━━━━━━━━━━━┩\n",
              "│ dense_5 (<span style=\"color: #0087ff; text-decoration-color: #0087ff\">Dense</span>)                      │ (<span style=\"color: #00d7ff; text-decoration-color: #00d7ff\">None</span>, <span style=\"color: #00af00; text-decoration-color: #00af00\">64</span>)                  │           <span style=\"color: #00af00; text-decoration-color: #00af00\">1,344</span> │\n",
              "├──────────────────────────────────────┼─────────────────────────────┼─────────────────┤\n",
              "│ dense_6 (<span style=\"color: #0087ff; text-decoration-color: #0087ff\">Dense</span>)                      │ (<span style=\"color: #00d7ff; text-decoration-color: #00d7ff\">None</span>, <span style=\"color: #00af00; text-decoration-color: #00af00\">32</span>)                  │           <span style=\"color: #00af00; text-decoration-color: #00af00\">2,080</span> │\n",
              "├──────────────────────────────────────┼─────────────────────────────┼─────────────────┤\n",
              "│ flatten (<span style=\"color: #0087ff; text-decoration-color: #0087ff\">Flatten</span>)                    │ (<span style=\"color: #00d7ff; text-decoration-color: #00d7ff\">None</span>, <span style=\"color: #00af00; text-decoration-color: #00af00\">32</span>)                  │               <span style=\"color: #00af00; text-decoration-color: #00af00\">0</span> │\n",
              "├──────────────────────────────────────┼─────────────────────────────┼─────────────────┤\n",
              "│ dense_7 (<span style=\"color: #0087ff; text-decoration-color: #0087ff\">Dense</span>)                      │ (<span style=\"color: #00d7ff; text-decoration-color: #00d7ff\">None</span>, <span style=\"color: #00af00; text-decoration-color: #00af00\">512</span>)                 │          <span style=\"color: #00af00; text-decoration-color: #00af00\">16,896</span> │\n",
              "├──────────────────────────────────────┼─────────────────────────────┼─────────────────┤\n",
              "│ dropout (<span style=\"color: #0087ff; text-decoration-color: #0087ff\">Dropout</span>)                    │ (<span style=\"color: #00d7ff; text-decoration-color: #00d7ff\">None</span>, <span style=\"color: #00af00; text-decoration-color: #00af00\">512</span>)                 │               <span style=\"color: #00af00; text-decoration-color: #00af00\">0</span> │\n",
              "├──────────────────────────────────────┼─────────────────────────────┼─────────────────┤\n",
              "│ dense_8 (<span style=\"color: #0087ff; text-decoration-color: #0087ff\">Dense</span>)                      │ (<span style=\"color: #00d7ff; text-decoration-color: #00d7ff\">None</span>, <span style=\"color: #00af00; text-decoration-color: #00af00\">1</span>)                   │             <span style=\"color: #00af00; text-decoration-color: #00af00\">513</span> │\n",
              "└──────────────────────────────────────┴─────────────────────────────┴─────────────────┘\n",
              "</pre>\n"
            ]
          },
          "metadata": {}
        },
        {
          "output_type": "display_data",
          "data": {
            "text/plain": [
              "\u001b[1m Total params: \u001b[0m\u001b[38;5;34m20,833\u001b[0m (81.38 KB)\n"
            ],
            "text/html": [
              "<pre style=\"white-space:pre;overflow-x:auto;line-height:normal;font-family:Menlo,'DejaVu Sans Mono',consolas,'Courier New',monospace\"><span style=\"font-weight: bold\"> Total params: </span><span style=\"color: #00af00; text-decoration-color: #00af00\">20,833</span> (81.38 KB)\n",
              "</pre>\n"
            ]
          },
          "metadata": {}
        },
        {
          "output_type": "display_data",
          "data": {
            "text/plain": [
              "\u001b[1m Trainable params: \u001b[0m\u001b[38;5;34m20,833\u001b[0m (81.38 KB)\n"
            ],
            "text/html": [
              "<pre style=\"white-space:pre;overflow-x:auto;line-height:normal;font-family:Menlo,'DejaVu Sans Mono',consolas,'Courier New',monospace\"><span style=\"font-weight: bold\"> Trainable params: </span><span style=\"color: #00af00; text-decoration-color: #00af00\">20,833</span> (81.38 KB)\n",
              "</pre>\n"
            ]
          },
          "metadata": {}
        },
        {
          "output_type": "display_data",
          "data": {
            "text/plain": [
              "\u001b[1m Non-trainable params: \u001b[0m\u001b[38;5;34m0\u001b[0m (0.00 B)\n"
            ],
            "text/html": [
              "<pre style=\"white-space:pre;overflow-x:auto;line-height:normal;font-family:Menlo,'DejaVu Sans Mono',consolas,'Courier New',monospace\"><span style=\"font-weight: bold\"> Non-trainable params: </span><span style=\"color: #00af00; text-decoration-color: #00af00\">0</span> (0.00 B)\n",
              "</pre>\n"
            ]
          },
          "metadata": {}
        }
      ]
    },
    {
      "cell_type": "markdown",
      "id": "ac5e52e1",
      "metadata": {
        "id": "ac5e52e1"
      },
      "source": [
        "## Compile the Model\n",
        "Compile the ANN model by defining the optimizer, loss function, and evaluation metrics."
      ]
    },
    {
      "cell_type": "code",
      "execution_count": 62,
      "id": "ab363be3",
      "metadata": {
        "id": "ab363be3"
      },
      "outputs": [],
      "source": [
        "model.compile(optimizer='adam', loss='binary_crossentropy', metrics=['accuracy'])"
      ]
    },
    {
      "cell_type": "markdown",
      "id": "e9a72223",
      "metadata": {
        "id": "e9a72223"
      },
      "source": [
        "## Training the Model\n",
        "Train the ANN model using the training data."
      ]
    },
    {
      "cell_type": "code",
      "source": [
        "history = model.fit(X_train, y_train, validation_data=(X_val, y_val), epochs=50, batch_size=32)"
      ],
      "metadata": {
        "id": "tVE1q4WmVkxQ",
        "colab": {
          "base_uri": "https://localhost:8080/"
        },
        "outputId": "d97e7ccd-e7c9-4c19-a103-4faec1f4cb01"
      },
      "id": "tVE1q4WmVkxQ",
      "execution_count": 64,
      "outputs": [
        {
          "output_type": "stream",
          "name": "stdout",
          "text": [
            "Epoch 1/50\n",
            "\u001b[1m7/7\u001b[0m \u001b[32m━━━━━━━━━━━━━━━━━━━━\u001b[0m\u001b[37m\u001b[0m \u001b[1m7s\u001b[0m 454ms/step - accuracy: 0.6989 - loss: 5757.9214 - val_accuracy: 1.0000 - val_loss: 0.0000e+00\n",
            "Epoch 2/50\n",
            "\u001b[1m7/7\u001b[0m \u001b[32m━━━━━━━━━━━━━━━━━━━━\u001b[0m\u001b[37m\u001b[0m \u001b[1m0s\u001b[0m 6ms/step - accuracy: 1.0000 - loss: 0.0000e+00 - val_accuracy: 1.0000 - val_loss: 0.0000e+00\n",
            "Epoch 3/50\n",
            "\u001b[1m7/7\u001b[0m \u001b[32m━━━━━━━━━━━━━━━━━━━━\u001b[0m\u001b[37m\u001b[0m \u001b[1m0s\u001b[0m 6ms/step - accuracy: 1.0000 - loss: 0.0000e+00 - val_accuracy: 1.0000 - val_loss: 0.0000e+00\n",
            "Epoch 4/50\n",
            "\u001b[1m7/7\u001b[0m \u001b[32m━━━━━━━━━━━━━━━━━━━━\u001b[0m\u001b[37m\u001b[0m \u001b[1m0s\u001b[0m 5ms/step - accuracy: 1.0000 - loss: 0.0000e+00 - val_accuracy: 1.0000 - val_loss: 0.0000e+00\n",
            "Epoch 5/50\n",
            "\u001b[1m7/7\u001b[0m \u001b[32m━━━━━━━━━━━━━━━━━━━━\u001b[0m\u001b[37m\u001b[0m \u001b[1m0s\u001b[0m 7ms/step - accuracy: 1.0000 - loss: 0.0000e+00 - val_accuracy: 1.0000 - val_loss: 0.0000e+00\n",
            "Epoch 6/50\n",
            "\u001b[1m7/7\u001b[0m \u001b[32m━━━━━━━━━━━━━━━━━━━━\u001b[0m\u001b[37m\u001b[0m \u001b[1m0s\u001b[0m 5ms/step - accuracy: 1.0000 - loss: 0.0000e+00 - val_accuracy: 1.0000 - val_loss: 0.0000e+00\n",
            "Epoch 7/50\n",
            "\u001b[1m7/7\u001b[0m \u001b[32m━━━━━━━━━━━━━━━━━━━━\u001b[0m\u001b[37m\u001b[0m \u001b[1m0s\u001b[0m 5ms/step - accuracy: 1.0000 - loss: 0.0000e+00 - val_accuracy: 1.0000 - val_loss: 0.0000e+00\n",
            "Epoch 8/50\n",
            "\u001b[1m7/7\u001b[0m \u001b[32m━━━━━━━━━━━━━━━━━━━━\u001b[0m\u001b[37m\u001b[0m \u001b[1m0s\u001b[0m 6ms/step - accuracy: 1.0000 - loss: 0.0000e+00 - val_accuracy: 1.0000 - val_loss: 0.0000e+00\n",
            "Epoch 9/50\n",
            "\u001b[1m7/7\u001b[0m \u001b[32m━━━━━━━━━━━━━━━━━━━━\u001b[0m\u001b[37m\u001b[0m \u001b[1m0s\u001b[0m 6ms/step - accuracy: 1.0000 - loss: 0.0000e+00 - val_accuracy: 1.0000 - val_loss: 0.0000e+00\n",
            "Epoch 10/50\n",
            "\u001b[1m7/7\u001b[0m \u001b[32m━━━━━━━━━━━━━━━━━━━━\u001b[0m\u001b[37m\u001b[0m \u001b[1m0s\u001b[0m 5ms/step - accuracy: 1.0000 - loss: 0.0000e+00 - val_accuracy: 1.0000 - val_loss: 0.0000e+00\n",
            "Epoch 11/50\n",
            "\u001b[1m7/7\u001b[0m \u001b[32m━━━━━━━━━━━━━━━━━━━━\u001b[0m\u001b[37m\u001b[0m \u001b[1m0s\u001b[0m 5ms/step - accuracy: 1.0000 - loss: 0.0000e+00 - val_accuracy: 1.0000 - val_loss: 0.0000e+00\n",
            "Epoch 12/50\n",
            "\u001b[1m7/7\u001b[0m \u001b[32m━━━━━━━━━━━━━━━━━━━━\u001b[0m\u001b[37m\u001b[0m \u001b[1m0s\u001b[0m 5ms/step - accuracy: 1.0000 - loss: 0.0000e+00 - val_accuracy: 1.0000 - val_loss: 0.0000e+00\n",
            "Epoch 13/50\n",
            "\u001b[1m7/7\u001b[0m \u001b[32m━━━━━━━━━━━━━━━━━━━━\u001b[0m\u001b[37m\u001b[0m \u001b[1m0s\u001b[0m 6ms/step - accuracy: 1.0000 - loss: 0.0000e+00 - val_accuracy: 1.0000 - val_loss: 0.0000e+00\n",
            "Epoch 14/50\n",
            "\u001b[1m7/7\u001b[0m \u001b[32m━━━━━━━━━━━━━━━━━━━━\u001b[0m\u001b[37m\u001b[0m \u001b[1m0s\u001b[0m 5ms/step - accuracy: 1.0000 - loss: 0.0000e+00 - val_accuracy: 1.0000 - val_loss: 0.0000e+00\n",
            "Epoch 15/50\n",
            "\u001b[1m7/7\u001b[0m \u001b[32m━━━━━━━━━━━━━━━━━━━━\u001b[0m\u001b[37m\u001b[0m \u001b[1m0s\u001b[0m 5ms/step - accuracy: 1.0000 - loss: 0.0000e+00 - val_accuracy: 1.0000 - val_loss: 0.0000e+00\n",
            "Epoch 16/50\n",
            "\u001b[1m7/7\u001b[0m \u001b[32m━━━━━━━━━━━━━━━━━━━━\u001b[0m\u001b[37m\u001b[0m \u001b[1m0s\u001b[0m 5ms/step - accuracy: 1.0000 - loss: 0.0000e+00 - val_accuracy: 1.0000 - val_loss: 0.0000e+00\n",
            "Epoch 17/50\n",
            "\u001b[1m7/7\u001b[0m \u001b[32m━━━━━━━━━━━━━━━━━━━━\u001b[0m\u001b[37m\u001b[0m \u001b[1m0s\u001b[0m 5ms/step - accuracy: 1.0000 - loss: 0.0000e+00 - val_accuracy: 1.0000 - val_loss: 0.0000e+00\n",
            "Epoch 18/50\n",
            "\u001b[1m7/7\u001b[0m \u001b[32m━━━━━━━━━━━━━━━━━━━━\u001b[0m\u001b[37m\u001b[0m \u001b[1m0s\u001b[0m 6ms/step - accuracy: 1.0000 - loss: 0.0000e+00 - val_accuracy: 1.0000 - val_loss: 0.0000e+00\n",
            "Epoch 19/50\n",
            "\u001b[1m7/7\u001b[0m \u001b[32m━━━━━━━━━━━━━━━━━━━━\u001b[0m\u001b[37m\u001b[0m \u001b[1m0s\u001b[0m 5ms/step - accuracy: 1.0000 - loss: 0.0000e+00 - val_accuracy: 1.0000 - val_loss: 0.0000e+00\n",
            "Epoch 20/50\n",
            "\u001b[1m7/7\u001b[0m \u001b[32m━━━━━━━━━━━━━━━━━━━━\u001b[0m\u001b[37m\u001b[0m \u001b[1m0s\u001b[0m 5ms/step - accuracy: 1.0000 - loss: 0.0000e+00 - val_accuracy: 1.0000 - val_loss: 0.0000e+00\n",
            "Epoch 21/50\n",
            "\u001b[1m7/7\u001b[0m \u001b[32m━━━━━━━━━━━━━━━━━━━━\u001b[0m\u001b[37m\u001b[0m \u001b[1m0s\u001b[0m 9ms/step - accuracy: 1.0000 - loss: 0.0000e+00 - val_accuracy: 1.0000 - val_loss: 0.0000e+00\n",
            "Epoch 22/50\n",
            "\u001b[1m7/7\u001b[0m \u001b[32m━━━━━━━━━━━━━━━━━━━━\u001b[0m\u001b[37m\u001b[0m \u001b[1m0s\u001b[0m 7ms/step - accuracy: 1.0000 - loss: 0.0000e+00 - val_accuracy: 1.0000 - val_loss: 0.0000e+00\n",
            "Epoch 23/50\n",
            "\u001b[1m7/7\u001b[0m \u001b[32m━━━━━━━━━━━━━━━━━━━━\u001b[0m\u001b[37m\u001b[0m \u001b[1m0s\u001b[0m 9ms/step - accuracy: 1.0000 - loss: 0.0000e+00 - val_accuracy: 1.0000 - val_loss: 0.0000e+00\n",
            "Epoch 24/50\n",
            "\u001b[1m7/7\u001b[0m \u001b[32m━━━━━━━━━━━━━━━━━━━━\u001b[0m\u001b[37m\u001b[0m \u001b[1m0s\u001b[0m 5ms/step - accuracy: 1.0000 - loss: 0.0000e+00 - val_accuracy: 1.0000 - val_loss: 0.0000e+00\n",
            "Epoch 25/50\n",
            "\u001b[1m7/7\u001b[0m \u001b[32m━━━━━━━━━━━━━━━━━━━━\u001b[0m\u001b[37m\u001b[0m \u001b[1m0s\u001b[0m 5ms/step - accuracy: 1.0000 - loss: 0.0000e+00 - val_accuracy: 1.0000 - val_loss: 0.0000e+00\n",
            "Epoch 26/50\n",
            "\u001b[1m7/7\u001b[0m \u001b[32m━━━━━━━━━━━━━━━━━━━━\u001b[0m\u001b[37m\u001b[0m \u001b[1m0s\u001b[0m 5ms/step - accuracy: 1.0000 - loss: 0.0000e+00 - val_accuracy: 1.0000 - val_loss: 0.0000e+00\n",
            "Epoch 27/50\n",
            "\u001b[1m7/7\u001b[0m \u001b[32m━━━━━━━━━━━━━━━━━━━━\u001b[0m\u001b[37m\u001b[0m \u001b[1m0s\u001b[0m 5ms/step - accuracy: 1.0000 - loss: 0.0000e+00 - val_accuracy: 1.0000 - val_loss: 0.0000e+00\n",
            "Epoch 28/50\n",
            "\u001b[1m7/7\u001b[0m \u001b[32m━━━━━━━━━━━━━━━━━━━━\u001b[0m\u001b[37m\u001b[0m \u001b[1m0s\u001b[0m 6ms/step - accuracy: 1.0000 - loss: 0.0000e+00 - val_accuracy: 1.0000 - val_loss: 0.0000e+00\n",
            "Epoch 29/50\n",
            "\u001b[1m7/7\u001b[0m \u001b[32m━━━━━━━━━━━━━━━━━━━━\u001b[0m\u001b[37m\u001b[0m \u001b[1m0s\u001b[0m 6ms/step - accuracy: 1.0000 - loss: 0.0000e+00 - val_accuracy: 1.0000 - val_loss: 0.0000e+00\n",
            "Epoch 30/50\n",
            "\u001b[1m7/7\u001b[0m \u001b[32m━━━━━━━━━━━━━━━━━━━━\u001b[0m\u001b[37m\u001b[0m \u001b[1m0s\u001b[0m 5ms/step - accuracy: 1.0000 - loss: 0.0000e+00 - val_accuracy: 1.0000 - val_loss: 0.0000e+00\n",
            "Epoch 31/50\n",
            "\u001b[1m7/7\u001b[0m \u001b[32m━━━━━━━━━━━━━━━━━━━━\u001b[0m\u001b[37m\u001b[0m \u001b[1m0s\u001b[0m 7ms/step - accuracy: 1.0000 - loss: 0.0000e+00 - val_accuracy: 1.0000 - val_loss: 0.0000e+00\n",
            "Epoch 32/50\n",
            "\u001b[1m7/7\u001b[0m \u001b[32m━━━━━━━━━━━━━━━━━━━━\u001b[0m\u001b[37m\u001b[0m \u001b[1m0s\u001b[0m 7ms/step - accuracy: 1.0000 - loss: 0.0000e+00 - val_accuracy: 1.0000 - val_loss: 0.0000e+00\n",
            "Epoch 33/50\n",
            "\u001b[1m7/7\u001b[0m \u001b[32m━━━━━━━━━━━━━━━━━━━━\u001b[0m\u001b[37m\u001b[0m \u001b[1m0s\u001b[0m 6ms/step - accuracy: 1.0000 - loss: 0.0000e+00 - val_accuracy: 1.0000 - val_loss: 0.0000e+00\n",
            "Epoch 34/50\n",
            "\u001b[1m7/7\u001b[0m \u001b[32m━━━━━━━━━━━━━━━━━━━━\u001b[0m\u001b[37m\u001b[0m \u001b[1m0s\u001b[0m 7ms/step - accuracy: 1.0000 - loss: 0.0000e+00 - val_accuracy: 1.0000 - val_loss: 0.0000e+00\n",
            "Epoch 35/50\n",
            "\u001b[1m7/7\u001b[0m \u001b[32m━━━━━━━━━━━━━━━━━━━━\u001b[0m\u001b[37m\u001b[0m \u001b[1m0s\u001b[0m 7ms/step - accuracy: 1.0000 - loss: 0.0000e+00 - val_accuracy: 1.0000 - val_loss: 0.0000e+00\n",
            "Epoch 36/50\n",
            "\u001b[1m7/7\u001b[0m \u001b[32m━━━━━━━━━━━━━━━━━━━━\u001b[0m\u001b[37m\u001b[0m \u001b[1m0s\u001b[0m 9ms/step - accuracy: 1.0000 - loss: 0.0000e+00 - val_accuracy: 1.0000 - val_loss: 0.0000e+00\n",
            "Epoch 37/50\n",
            "\u001b[1m7/7\u001b[0m \u001b[32m━━━━━━━━━━━━━━━━━━━━\u001b[0m\u001b[37m\u001b[0m \u001b[1m0s\u001b[0m 6ms/step - accuracy: 1.0000 - loss: 0.0000e+00 - val_accuracy: 1.0000 - val_loss: 0.0000e+00\n",
            "Epoch 38/50\n",
            "\u001b[1m7/7\u001b[0m \u001b[32m━━━━━━━━━━━━━━━━━━━━\u001b[0m\u001b[37m\u001b[0m \u001b[1m0s\u001b[0m 5ms/step - accuracy: 1.0000 - loss: 0.0000e+00 - val_accuracy: 1.0000 - val_loss: 0.0000e+00\n",
            "Epoch 39/50\n",
            "\u001b[1m7/7\u001b[0m \u001b[32m━━━━━━━━━━━━━━━━━━━━\u001b[0m\u001b[37m\u001b[0m \u001b[1m0s\u001b[0m 5ms/step - accuracy: 1.0000 - loss: 0.0000e+00 - val_accuracy: 1.0000 - val_loss: 0.0000e+00\n",
            "Epoch 40/50\n",
            "\u001b[1m7/7\u001b[0m \u001b[32m━━━━━━━━━━━━━━━━━━━━\u001b[0m\u001b[37m\u001b[0m \u001b[1m0s\u001b[0m 5ms/step - accuracy: 1.0000 - loss: 0.0000e+00 - val_accuracy: 1.0000 - val_loss: 0.0000e+00\n",
            "Epoch 41/50\n",
            "\u001b[1m7/7\u001b[0m \u001b[32m━━━━━━━━━━━━━━━━━━━━\u001b[0m\u001b[37m\u001b[0m \u001b[1m0s\u001b[0m 6ms/step - accuracy: 1.0000 - loss: 0.0000e+00 - val_accuracy: 1.0000 - val_loss: 0.0000e+00\n",
            "Epoch 42/50\n",
            "\u001b[1m7/7\u001b[0m \u001b[32m━━━━━━━━━━━━━━━━━━━━\u001b[0m\u001b[37m\u001b[0m \u001b[1m0s\u001b[0m 5ms/step - accuracy: 1.0000 - loss: 0.0000e+00 - val_accuracy: 1.0000 - val_loss: 0.0000e+00\n",
            "Epoch 43/50\n",
            "\u001b[1m7/7\u001b[0m \u001b[32m━━━━━━━━━━━━━━━━━━━━\u001b[0m\u001b[37m\u001b[0m \u001b[1m0s\u001b[0m 5ms/step - accuracy: 1.0000 - loss: 0.0000e+00 - val_accuracy: 1.0000 - val_loss: 0.0000e+00\n",
            "Epoch 44/50\n",
            "\u001b[1m7/7\u001b[0m \u001b[32m━━━━━━━━━━━━━━━━━━━━\u001b[0m\u001b[37m\u001b[0m \u001b[1m0s\u001b[0m 6ms/step - accuracy: 1.0000 - loss: 0.0000e+00 - val_accuracy: 1.0000 - val_loss: 0.0000e+00\n",
            "Epoch 45/50\n",
            "\u001b[1m7/7\u001b[0m \u001b[32m━━━━━━━━━━━━━━━━━━━━\u001b[0m\u001b[37m\u001b[0m \u001b[1m0s\u001b[0m 5ms/step - accuracy: 1.0000 - loss: 0.0000e+00 - val_accuracy: 1.0000 - val_loss: 0.0000e+00\n",
            "Epoch 46/50\n",
            "\u001b[1m7/7\u001b[0m \u001b[32m━━━━━━━━━━━━━━━━━━━━\u001b[0m\u001b[37m\u001b[0m \u001b[1m0s\u001b[0m 7ms/step - accuracy: 1.0000 - loss: 0.0000e+00 - val_accuracy: 1.0000 - val_loss: 0.0000e+00\n",
            "Epoch 47/50\n",
            "\u001b[1m7/7\u001b[0m \u001b[32m━━━━━━━━━━━━━━━━━━━━\u001b[0m\u001b[37m\u001b[0m \u001b[1m0s\u001b[0m 5ms/step - accuracy: 1.0000 - loss: 0.0000e+00 - val_accuracy: 1.0000 - val_loss: 0.0000e+00\n",
            "Epoch 48/50\n",
            "\u001b[1m7/7\u001b[0m \u001b[32m━━━━━━━━━━━━━━━━━━━━\u001b[0m\u001b[37m\u001b[0m \u001b[1m0s\u001b[0m 5ms/step - accuracy: 1.0000 - loss: 0.0000e+00 - val_accuracy: 1.0000 - val_loss: 0.0000e+00\n",
            "Epoch 49/50\n",
            "\u001b[1m7/7\u001b[0m \u001b[32m━━━━━━━━━━━━━━━━━━━━\u001b[0m\u001b[37m\u001b[0m \u001b[1m0s\u001b[0m 7ms/step - accuracy: 1.0000 - loss: 0.0000e+00 - val_accuracy: 1.0000 - val_loss: 0.0000e+00\n",
            "Epoch 50/50\n",
            "\u001b[1m7/7\u001b[0m \u001b[32m━━━━━━━━━━━━━━━━━━━━\u001b[0m\u001b[37m\u001b[0m \u001b[1m0s\u001b[0m 9ms/step - accuracy: 1.0000 - loss: 0.0000e+00 - val_accuracy: 1.0000 - val_loss: 0.0000e+00\n"
          ]
        }
      ]
    },
    {
      "cell_type": "markdown",
      "id": "20ce9661",
      "metadata": {
        "id": "20ce9661"
      },
      "source": [
        "## Evaluate the Model\n",
        "Evaluate the performance of the model on the test set."
      ]
    },
    {
      "cell_type": "code",
      "source": [
        "test_loss, test_accuracy = model.evaluate(X_test, y_test)\n",
        "print(f\"Test Loss: {test_loss:.4f}\")\n",
        "print(f\"Test Accuracy: {test_accuracy:.4f}\")"
      ],
      "metadata": {
        "colab": {
          "base_uri": "https://localhost:8080/"
        },
        "id": "qCl3u2rlEZ0s",
        "outputId": "78a12bbb-edeb-461c-9fc9-189abe2dde9d"
      },
      "id": "qCl3u2rlEZ0s",
      "execution_count": 65,
      "outputs": [
        {
          "output_type": "stream",
          "name": "stdout",
          "text": [
            "\u001b[1m4/4\u001b[0m \u001b[32m━━━━━━━━━━━━━━━━━━━━\u001b[0m\u001b[37m\u001b[0m \u001b[1m0s\u001b[0m 116ms/step - accuracy: 1.0000 - loss: 0.0000e+00\n",
            "Test Loss: 0.0000\n",
            "Test Accuracy: 1.0000\n"
          ]
        }
      ]
    },
    {
      "cell_type": "markdown",
      "id": "08e9bc87",
      "metadata": {
        "id": "08e9bc87"
      },
      "source": [
        "## Make Predictions\n",
        "Use the trained model to make predictions on new or unseen data."
      ]
    },
    {
      "cell_type": "code",
      "source": [
        "prediction = model.predict(X_test)"
      ],
      "metadata": {
        "colab": {
          "base_uri": "https://localhost:8080/"
        },
        "id": "OsD68y9Tb2gL",
        "outputId": "abe9fea9-1d69-4c3c-e735-7eb6e1443274"
      },
      "id": "OsD68y9Tb2gL",
      "execution_count": 70,
      "outputs": [
        {
          "output_type": "stream",
          "name": "stdout",
          "text": [
            "\u001b[1m4/4\u001b[0m \u001b[32m━━━━━━━━━━━━━━━━━━━━\u001b[0m\u001b[37m\u001b[0m \u001b[1m0s\u001b[0m 63ms/step\n"
          ]
        }
      ]
    },
    {
      "cell_type": "markdown",
      "id": "94942463",
      "metadata": {
        "id": "94942463"
      },
      "source": [
        "## Model Performance Visualization\n",
        "Visualize the performance metrics such as accuracy and loss over the epochs."
      ]
    },
    {
      "cell_type": "code",
      "execution_count": 67,
      "id": "b1955952",
      "metadata": {
        "colab": {
          "base_uri": "https://localhost:8080/",
          "height": 881
        },
        "id": "b1955952",
        "outputId": "453ff0e0-21d0-4542-e481-9294e54af460"
      },
      "outputs": [
        {
          "output_type": "display_data",
          "data": {
            "text/plain": [
              "<Figure size 640x480 with 1 Axes>"
            ],
            "image/png": "[encoded data removed]"
          },
          "metadata": {}
        },
        {
          "output_type": "display_data",
          "data": {
            "text/plain": [
              "<Figure size 640x480 with 1 Axes>"
            ],
            "image/png": "[encoded data removed]"
          },
          "metadata": {}
        }
      ],
      "source": [
        "import matplotlib.pyplot as plt\n",
        "\n",
        "\n",
        "plt.plot(history.history['accuracy'], label='Train Accuracy')\n",
        "plt.plot(history.history['val_accuracy'], label='Validation Accuracy')\n",
        "plt.xlabel('Epochs')\n",
        "plt.ylabel('Accuracy')\n",
        "plt.legend()\n",
        "plt.show()\n",
        "\n",
        "\n",
        "plt.plot(history.history['loss'], label='Train Loss')\n",
        "plt.plot(history.history['val_loss'], label='Validation Loss')\n",
        "plt.xlabel('Epochs')\n",
        "plt.ylabel('Loss')\n",
        "plt.legend()\n",
        "plt.show()"
      ]
    },
    {
      "cell_type": "markdown",
      "id": "1d32965f",
      "metadata": {
        "id": "1d32965f"
      },
      "source": [
        "## Save the Model\n",
        "Save the trained model for submission."
      ]
    },
    {
      "cell_type": "code",
      "execution_count": null,
      "id": "e43fedab",
      "metadata": {
        "id": "e43fedab"
      },
      "outputs": [],
      "source": [
        "history.save('model.h5')"
      ]
    },
    {
      "cell_type": "markdown",
      "id": "9ebe9b8d",
      "metadata": {
        "id": "9ebe9b8d"
      },
      "source": [
        "## Project Questions:\n",
        "\n",
        "1. **Data Preprocessing**: Explain why you chose your specific data preprocessing techniques (e.g., normalization, encoding). How did these techniques help prepare the data for training the model?\n",
        "2. **Model Architecture**: Describe the reasoning behind your model’s architecture (e.g., the number of layers, type of layers, number of neurons, and activation functions). Why did you believe this architecture was appropriate for the problem at hand?\n",
        "3. **Training Process**: Discuss why you chose your batch size, number of epochs, and optimizer. How did these choices affect the training process? Did you experiment with different values, and what were the outcomes?\n",
        "4. **Loss Function and Metrics**: Why did you choose the specific loss function and evaluation metrics? How do they align with the objective of the task (e.g., regression vs classification)?\n",
        "5. **Regularization Techniques**: If you used regularization techniques such as dropout or weight decay, explain why you implemented them and how they influenced the model's performance.\n",
        "6. **Model Evaluation**: Justify your approach to evaluating the model. Why did you choose the specific performance metrics, and how do they reflect the model's success in solving the task?\n",
        "7. **Model Tuning (If Done)**: Describe any tuning you performed (e.g., hyperparameter tuning) and why you felt it was necessary. How did these adjustments improve model performance?\n",
        "8. **Overfitting and Underfitting**: Analyze whether the model encountered any overfitting or underfitting during training. What strategies could you implement to mitigate these issues?"
      ]
    },
    {
      "cell_type": "markdown",
      "id": "5f524a61",
      "metadata": {
        "id": "5f524a61"
      },
      "source": [
        "### Answer Here:"
      ]
    },
    {
      "cell_type": "markdown",
      "source": [
        "anser some Q after cell"
      ],
      "metadata": {
        "id": "Q7loXP1ehGbo"
      },
      "id": "Q7loXP1ehGbo"
    },
    {
      "cell_type": "markdown",
      "source": [
        "\n",
        "3- choose 50 to make the model learnd more"
      ],
      "metadata": {
        "id": "puhJ6maegBTD"
      },
      "id": "puhJ6maegBTD"
    },
    {
      "cell_type": "markdown",
      "source": [
        "Regularization Techniques: If you used regularization techniques such as dropout or weight decay, explain why you implemented them and how they influenced the model's performance.\n",
        "\n",
        "do dropout to make accurecy good before using i git acuur 79 and then add dropout git accur 89 then 98 and like this"
      ],
      "metadata": {
        "id": "yXFkH2rnhWk4"
      },
      "id": "yXFkH2rnhWk4"
    },
    {
      "cell_type": "code",
      "execution_count": null,
      "id": "a4e1f00e",
      "metadata": {
        "id": "a4e1f00e"
      },
      "outputs": [],
      "source": []
    }
  ],
  "metadata": {
    "language_info": {
      "name": "python"
    },
    "colab": {
      "provenance": [],
      "gpuType": "T4",
      "include_colab_link": true
    },
    "kernelspec": {
      "name": "python3",
      "display_name": "Python 3"
    },
    "accelerator": "GPU"
  },
  "nbformat": 4,
  "nbformat_minor": 5
}